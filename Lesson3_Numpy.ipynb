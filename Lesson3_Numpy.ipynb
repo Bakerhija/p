{
  "nbformat": 4,
  "nbformat_minor": 0,
  "metadata": {
    "colab": {
      "name": "Untitled2.ipynb",
      "provenance": [],
      "authorship_tag": "ABX9TyO/1h9e/kqMkIwRea/Qs6GC",
      "include_colab_link": true
    },
    "kernelspec": {
      "name": "python3",
      "display_name": "Python 3"
    }
  },
  "cells": [
    {
      "cell_type": "markdown",
      "metadata": {
        "id": "view-in-github",
        "colab_type": "text"
      },
      "source": [
        "<a href=\"https://colab.research.google.com/github/smabb/p/blob/master/Lesson_3_Numpy.ipynb\" target=\"_parent\"><img src=\"https://colab.research.google.com/assets/colab-badge.svg\" alt=\"Open In Colab\"/></a>"
      ]
    },
    {
      "cell_type": "markdown",
      "metadata": {
        "id": "6HrFHymKleNO",
        "colab_type": "text"
      },
      "source": [
        "<!--NAVIGATION-->\n",
        "\n",
        "\n",
        "<a href=\"https://colab.research.google.com/github/saskeli/x/blob/master/numpy.ipynb\"><img align=\"left\" src=\"https://colab.research.google.com/assets/colab-badge.svg\" alt=\"Open in Colab\" title=\"Open and Execute in Google Colaboratory\"></a>\n",
        "\n",
        "|                                                  -                                                  |                                                  -                                                  |                                                  -                                                  |\n",
        "|-----------------------------------------------------------------------------------------------------|-----------------------------------------------------------------------------------------------------|-----------------------------------------------------------------------------------------------------|\n",
        "|               [Exercise 11 (rows and columns)](<#Exercise-11-(rows-and-columns&#41;>)               |         [Exercise 12 (row and column vectors)](<#Exercise-12-(row-and-column-vectors&#41;>)         |                        [Exercise 13 (diamond)](<#Exercise-13-(diamond&#41;>)                        |\n",
        "|                 [Exercise 14 (vector lengths)](<#Exercise-14-(vector-lengths&#41;>)                 |                  [Exercise 15 (vector angles)](<#Exercise-15-(vector-angles&#41;>)                  | [Exercise 16 (multiplication table revisited)](<#Exercise-16-(multiplication-table-revisited&#41;>)                        |\n",
        "|                 [Exercise 17 (column comparison)](<#Exercise-1-(column-comparison&#41;>)      | [Exercise 18 (first half second half)](<#Exercise-2-(first-half-second-half&#41;>) |    [Exercise 19 (most frequent first)](<#Exercise-3-(most-frequent-first&#41;>)    |\n",
        "|           [Exercise 20 (matrix power)](<#Exercise-4-(matrix-power&#41;>)           |            [Exercise 21 (correlation)](<#Exercise-5-(correlation&#41;>)            |          [Exercise 22 (meeting lines)](<#Exercise-6-(meeting-lines&#41;>)          |\n",
        "|         [Exercise 23 (meeting planes)](<#Exercise-7-(meeting-planes&#41;>)         |   [Exercise 24 (almost meeting lines)](<#Exercise-8-(almost-meeting-lines&#41;>)   |                                                                                   |\n",
        "\n"
      ]
    },
    {
      "cell_type": "markdown",
      "metadata": {
        "id": "m8DKBD91lCJr",
        "colab_type": "text"
      },
      "source": [
        "# NumPy\n",
        "\n",
        "[NumPy](https://docs.scipy.org/doc/numpy/) is a Python library for handling multi-dimensional arrays. It contains both the data structures needed for the storing and accessing arrays, and operations and functions for computation using these arrays. Although the arrays are usually used for storing numbers, other type of data can be stored as well, such as strings. Unlike lists in core Python, NumPy's fundamental data structure, the array, must have the same data type for all its elements. The homogeneity of arrays allows highly optimized functions that use arrays as their inputs and outputs.\n",
        "\n",
        "There are several uses for high-dimensional arrays in data analysis. For instance, they can be used to:\n",
        "\n",
        "* store matrices, solve systems of linear equations, find eigenvalues/vectors, find matrix decompositions, and solve other problems familiar from linear algebra\n",
        "* store multi-dimensional measurement data. For example, an element `a[i,j]` in a 2-dimensional array might store the temperature $t_{ij}$ measured at coordinates i, j on a 2-dimension surface.\n",
        "* images and videos can be represented as NumPy arrays:\n",
        "\n",
        "  * a gray-scale image can be represented as a two dimensional array\n",
        "  * a color image can be represented as a three dimensional image, the third dimension contains the color components red, green, and blue\n",
        "  * a color video can be represented as a four dimensional array\n",
        "* a 2-dimensional table might store a sequence of *samples*, and each sample might be divided into *features*. For example, we could measure the weather conditions once per day, and the conditions could include the temperature, direction and speed of wind, and the amount of rain. Then we would have one sample per day, and the features would be the temperature, wind, and rain. In the standard representation of this kind of tabular data, the rows corresponds to samples and the columns correspond to features. We see more of this kind of data in the chapters on Pandas and Scikit-learn.\n",
        "\n",
        "In this chapter we will go through:\n",
        "\n",
        "* Creation of arrays\n",
        "* Array types and attributes\n",
        "* Accessing arrays with indexing and slicing\n",
        "* Reshaping of arrays\n",
        "* Combining and splitting arrays\n",
        "* Fast operations on arrays\n",
        "* Aggregations of arrays\n",
        "* Rules of binary array operations\n",
        "* Matrix operations familiar from linear algebra"
      ]
    },
    {
      "cell_type": "markdown",
      "metadata": {
        "id": "kJ8jf2QVlCJz",
        "colab_type": "text"
      },
      "source": [
        "We start by importing the NumPy library, and we use the standard abbreviation `np` for it."
      ]
    },
    {
      "cell_type": "code",
      "metadata": {
        "id": "PIxtpzDUlCJ4",
        "colab_type": "code",
        "colab": {}
      },
      "source": [
        "import numpy as np"
      ],
      "execution_count": 0,
      "outputs": []
    },
    {
      "cell_type": "markdown",
      "metadata": {
        "id": "eAajY57xlCKL",
        "colab_type": "text"
      },
      "source": [
        "## Creation of arrays\n",
        "There are several ways of creating NumPy arrays. One way is to give a (nested) list as a parameter to the `array` constructor:"
      ]
    },
    {
      "cell_type": "code",
      "metadata": {
        "id": "N_1fHK8WlCKS",
        "colab_type": "code",
        "colab": {}
      },
      "source": [
        "np.array([1,2,3])   # one dimensional array"
      ],
      "execution_count": 0,
      "outputs": []
    },
    {
      "cell_type": "markdown",
      "metadata": {
        "id": "Vp85ZpCBlCKd",
        "colab_type": "text"
      },
      "source": [
        "Note that leaving out the brackets from the above expression, i.e. calling `np.array(1,2,3)` will result in an error."
      ]
    },
    {
      "cell_type": "markdown",
      "metadata": {
        "id": "_f7Uid8olCKf",
        "colab_type": "text"
      },
      "source": [
        "Two dimensional array can be given by listing the rows of the array:"
      ]
    },
    {
      "cell_type": "code",
      "metadata": {
        "id": "LUkxH4vulCKh",
        "colab_type": "code",
        "colab": {}
      },
      "source": [
        "np.array([[1,2,3], [4,5,6]])"
      ],
      "execution_count": 0,
      "outputs": []
    },
    {
      "cell_type": "markdown",
      "metadata": {
        "id": "HO7g9p56lCKp",
        "colab_type": "text"
      },
      "source": [
        "Similarly, three dimensional array can be described as a list of lists of lists:"
      ]
    },
    {
      "cell_type": "code",
      "metadata": {
        "id": "Rh7FpIzplCKt",
        "colab_type": "code",
        "colab": {}
      },
      "source": [
        "np.array([[[1,2], [3,4]], [[5,6], [7,8]]])"
      ],
      "execution_count": 0,
      "outputs": []
    },
    {
      "cell_type": "markdown",
      "metadata": {
        "id": "S9bUBwUnlCKz",
        "colab_type": "text"
      },
      "source": [
        "There are some helper functions to create common types of arrays:"
      ]
    },
    {
      "cell_type": "code",
      "metadata": {
        "id": "w2Be1CKwlCK0",
        "colab_type": "code",
        "colab": {}
      },
      "source": [
        "np.zeros((3,4))"
      ],
      "execution_count": 0,
      "outputs": []
    },
    {
      "cell_type": "markdown",
      "metadata": {
        "id": "-VQocrrDlCK_",
        "colab_type": "text"
      },
      "source": [
        "To specify that elements are `int`s instead of `float`s, use the parameter `dtype`:"
      ]
    },
    {
      "cell_type": "code",
      "metadata": {
        "id": "ehyIWJbSlCLC",
        "colab_type": "code",
        "colab": {}
      },
      "source": [
        "np.zeros((3,4), dtype=int)"
      ],
      "execution_count": 0,
      "outputs": []
    },
    {
      "cell_type": "markdown",
      "metadata": {
        "id": "dnpMgvM4lCLH",
        "colab_type": "text"
      },
      "source": [
        "Similarly `ones` initializes all elements to one, `full` initializes all elements to a specified value, and `empty` leaves the elements uninitialized:"
      ]
    },
    {
      "cell_type": "code",
      "metadata": {
        "id": "uuHJc8OSlCLI",
        "colab_type": "code",
        "colab": {}
      },
      "source": [
        "np.ones((2,3))"
      ],
      "execution_count": 0,
      "outputs": []
    },
    {
      "cell_type": "code",
      "metadata": {
        "id": "h0hzRJlslCLT",
        "colab_type": "code",
        "colab": {}
      },
      "source": [
        "np.full((2,3), fill_value=7)"
      ],
      "execution_count": 0,
      "outputs": []
    },
    {
      "cell_type": "code",
      "metadata": {
        "id": "8BObEUxGlCLe",
        "colab_type": "code",
        "colab": {}
      },
      "source": [
        "np.empty((2,4))"
      ],
      "execution_count": 0,
      "outputs": []
    },
    {
      "cell_type": "markdown",
      "metadata": {
        "id": "ebBpk5NAlCLi",
        "colab_type": "text"
      },
      "source": [
        "The `eye` function creates the identity matrix, that is, a matrix with elements on the diagonal are set to one, and non-diagonal elements are set to zero:"
      ]
    },
    {
      "cell_type": "code",
      "metadata": {
        "id": "G19Sikn2lCLk",
        "colab_type": "code",
        "colab": {}
      },
      "source": [
        "np.eye(5, dtype=int)"
      ],
      "execution_count": 0,
      "outputs": []
    },
    {
      "cell_type": "markdown",
      "metadata": {
        "id": "x3mC6BLPlCLo",
        "colab_type": "text"
      },
      "source": [
        "The `arange` function works like the `range` function, but produces an array instead of a list."
      ]
    },
    {
      "cell_type": "code",
      "metadata": {
        "id": "UxWjoSpFlCLp",
        "colab_type": "code",
        "colab": {}
      },
      "source": [
        "np.arange(0,10,2)"
      ],
      "execution_count": 0,
      "outputs": []
    },
    {
      "cell_type": "markdown",
      "metadata": {
        "id": "4hvdWlC0lCLu",
        "colab_type": "text"
      },
      "source": [
        "For non-integer ranges it is better to use `linspace`:"
      ]
    },
    {
      "cell_type": "code",
      "metadata": {
        "id": "9Mj5AveHlCLw",
        "colab_type": "code",
        "colab": {}
      },
      "source": [
        "np.linspace(0, np.pi, 5)  # Evenly spaced range with 5 elements"
      ],
      "execution_count": 0,
      "outputs": []
    },
    {
      "cell_type": "markdown",
      "metadata": {
        "id": "ooHhL1TElCL0",
        "colab_type": "text"
      },
      "source": [
        "With `linspace` one does not have to compute the length of the step, but instead one specifies the wanted number of elements. By default, the endpoint is included in the result, unlike with `arange`."
      ]
    },
    {
      "cell_type": "markdown",
      "metadata": {
        "id": "3rfuq4OalCL3",
        "colab_type": "text"
      },
      "source": [
        "### Arrays with random elements\n",
        "\n",
        "To test our programs we might use real data as input. However, real data is not always available, and it may take time to gather. We could instead generate random numbers to use as substitute. They can be generated really easily with NumPy, and can be sampled from several different distributions, of which we mention below only a few. Random data can simulate real data better than, for example, ranges or constant arrays. Sometimes we also need random numbers in our programs to choose a subset of real data (sampling). NumPy can easily produce arrays of wanted shape filled with random numbers. Below are few examples."
      ]
    },
    {
      "cell_type": "code",
      "metadata": {
        "id": "VGFWleZ4lCL4",
        "colab_type": "code",
        "colab": {}
      },
      "source": [
        "np.random.random((3,4))          # Elements are uniformly distributed from half-open interval [0.0,1.0)"
      ],
      "execution_count": 0,
      "outputs": []
    },
    {
      "cell_type": "code",
      "metadata": {
        "id": "NJ3wGTsRlCL8",
        "colab_type": "code",
        "colab": {}
      },
      "source": [
        "np.random.normal(0, 1, (3,4))    # Elements are normally distributed with mean 0 and standard deviation 1"
      ],
      "execution_count": 0,
      "outputs": []
    },
    {
      "cell_type": "code",
      "metadata": {
        "id": "NiLKbRRolCMA",
        "colab_type": "code",
        "colab": {}
      },
      "source": [
        "np.random.randint(-2, 10, (3,4))  # Elements are uniformly distributed integers from the half-open interval [-2,10)"
      ],
      "execution_count": 0,
      "outputs": []
    },
    {
      "cell_type": "markdown",
      "metadata": {
        "id": "crX29eEzlCME",
        "colab_type": "text"
      },
      "source": [
        "Sometimes it is useful to be able to recreate exactly the same data in every run of our program. For example, if there is a bug in our program, which manifests itself only with certain input, then to debug our program it needs to behave deterministically. We can create random numbers deterministically, if we always start from the same starting point. This starting point is usually an integer, and we call it a *seed*. Example of use:"
      ]
    },
    {
      "cell_type": "code",
      "metadata": {
        "id": "4WjQKGg0lCMF",
        "colab_type": "code",
        "colab": {}
      },
      "source": [
        "np.random.seed(0)\n",
        "print(np.random.randint(0, 100, 10))\n",
        "print(np.random.normal(0, 1, 10))"
      ],
      "execution_count": 0,
      "outputs": []
    },
    {
      "cell_type": "markdown",
      "metadata": {
        "id": "W8z3gkWblCMN",
        "colab_type": "text"
      },
      "source": [
        "If you run the above cell multiple times, it will always give the same numbers, unlike the earlier examples. Try rerunning them now!"
      ]
    },
    {
      "cell_type": "markdown",
      "metadata": {
        "id": "xtU9MG4KlCMP",
        "colab_type": "text"
      },
      "source": [
        "The call to `np.random.seed` initializes the *global* random number generator. The calls `np.random.random`, `np.random.normal`, etc all use this global random number generator. It is however possible to create new random number generators, and use those to sample random numbers from a distribution. Example on usage:"
      ]
    },
    {
      "cell_type": "code",
      "metadata": {
        "id": "RmIbXKkglCMR",
        "colab_type": "code",
        "colab": {}
      },
      "source": [
        "new_generator = np.random.RandomState(seed=123)  # RandomState is a class, so we give the seed to its constructor\n",
        "new_generator.randint(0, 100, 10)"
      ],
      "execution_count": 0,
      "outputs": []
    },
    {
      "cell_type": "markdown",
      "metadata": {
        "id": "636v5OoylCMY",
        "colab_type": "text"
      },
      "source": [
        "You will see these used later in the materials and in the exercises, just so we can agree what the random input data is. How else could we agree whether result is correct or not, if we can't agree what the input is!"
      ]
    },
    {
      "cell_type": "markdown",
      "metadata": {
        "id": "fGCFsB5_lCMc",
        "colab_type": "text"
      },
      "source": [
        "## Array types and attributes\n",
        "\n",
        "An array has several attributes: `ndim` tells the number of dimensions, `shape` tells the size in each dimension, `size` tells the number of elements, and `dtype` tells the element type. Let's create a helper function to explore these attributes:"
      ]
    },
    {
      "cell_type": "code",
      "metadata": {
        "id": "GUJQPDBolCMe",
        "colab_type": "code",
        "colab": {}
      },
      "source": [
        "def info(name, a):\n",
        "    print(f\"{name} has dim {a.ndim}, shape {a.shape}, size {a.size}, and dtype {a.dtype}:\")\n",
        "    print(a)"
      ],
      "execution_count": 0,
      "outputs": []
    },
    {
      "cell_type": "code",
      "metadata": {
        "id": "plQs0-lDlCMg",
        "colab_type": "code",
        "colab": {}
      },
      "source": [
        "b=np.array([[1,2,3], [4,5,6]])\n",
        "info(\"b\", b)"
      ],
      "execution_count": 0,
      "outputs": []
    },
    {
      "cell_type": "code",
      "metadata": {
        "id": "8HZ80fAMlCMi",
        "colab_type": "code",
        "colab": {}
      },
      "source": [
        "c=np.array([b, b])          # Creates a 3-dimensional array\n",
        "info(\"c\", c)"
      ],
      "execution_count": 0,
      "outputs": []
    },
    {
      "cell_type": "code",
      "metadata": {
        "id": "ryZPDTvilCMl",
        "colab_type": "code",
        "colab": {}
      },
      "source": [
        "d=np.array([[1,2,3,4]])                # a row vector\n",
        "info(\"d\", d)"
      ],
      "execution_count": 0,
      "outputs": []
    },
    {
      "cell_type": "markdown",
      "metadata": {
        "id": "I4XpMRSclCMp",
        "colab_type": "text"
      },
      "source": [
        "Note above how Python printed the three dimensional array. The general rules of printing an n-dimensional array as a nested list are:\n",
        "\n",
        "* the last dimension is printed from left to right,\n",
        "* the second-to-last is printed from top to bottom,\n",
        "* the rest are also printed from top to bottom, with each slice separated from the next by an empty line."
      ]
    },
    {
      "cell_type": "markdown",
      "metadata": {
        "id": "o0VFTWg-lCMt",
        "colab_type": "text"
      },
      "source": [
        "## Indexing, slicing and reshaping"
      ]
    },
    {
      "cell_type": "markdown",
      "metadata": {
        "id": "hY8l-FAmlCMv",
        "colab_type": "text"
      },
      "source": [
        "### Indexing\n",
        "One dimensional array behaves like the list in Python:"
      ]
    },
    {
      "cell_type": "code",
      "metadata": {
        "id": "C9lXEZE-lCMx",
        "colab_type": "code",
        "colab": {}
      },
      "source": [
        "a=np.array([1,4,2,7,9,5])\n",
        "print(a[1])\n",
        "print(a[-2])"
      ],
      "execution_count": 0,
      "outputs": []
    },
    {
      "cell_type": "markdown",
      "metadata": {
        "id": "JdF6lKiYlCM1",
        "colab_type": "text"
      },
      "source": [
        "For multi-dimensional array the index is a comma separated tuple instead of a single integer:"
      ]
    },
    {
      "cell_type": "code",
      "metadata": {
        "id": "Uz5epHHHlCM2",
        "colab_type": "code",
        "colab": {}
      },
      "source": [
        "b=np.array([[1,2,3], [4,5,6]])\n",
        "print(b)\n",
        "print(b[1,2])    # row index 1, column index 2\n",
        "print(b[0,-1])   # row index 0, column index -1"
      ],
      "execution_count": 0,
      "outputs": []
    },
    {
      "cell_type": "code",
      "metadata": {
        "id": "5qvEIM50lCM5",
        "colab_type": "code",
        "colab": {}
      },
      "source": [
        "# As with lists, modification through indexing is possible\n",
        "b[0,0] = 10\n",
        "print(b)"
      ],
      "execution_count": 0,
      "outputs": []
    },
    {
      "cell_type": "markdown",
      "metadata": {
        "id": "rUNEi7BWlCM7",
        "colab_type": "text"
      },
      "source": [
        "Note that if you give only a single index to a multi-dimensional array, it indexes the first dimension of the array, that is the rows. For example:"
      ]
    },
    {
      "cell_type": "code",
      "metadata": {
        "id": "1VR11EtZlCM8",
        "colab_type": "code",
        "colab": {}
      },
      "source": [
        "print(b[0])    # First row\n",
        "print(b[1])    # Second row"
      ],
      "execution_count": 0,
      "outputs": []
    },
    {
      "cell_type": "markdown",
      "metadata": {
        "id": "kCj8sLoQlCNC",
        "colab_type": "text"
      },
      "source": [
        "#### Slicing\n",
        "Slicing works similarly to lists, but now we can have slices in different dimensions:"
      ]
    },
    {
      "cell_type": "code",
      "metadata": {
        "id": "c8JRYy3DlCNE",
        "colab_type": "code",
        "colab": {}
      },
      "source": [
        "print(a)\n",
        "print(a[1:3])\n",
        "print(a[::-1])    # Reverses the array"
      ],
      "execution_count": 0,
      "outputs": []
    },
    {
      "cell_type": "code",
      "metadata": {
        "id": "khBxbls0lCNJ",
        "colab_type": "code",
        "colab": {}
      },
      "source": [
        "print(b)\n",
        "print(b[:,0])\n",
        "print(b[0,:])\n",
        "print(b[:,1:])"
      ],
      "execution_count": 0,
      "outputs": []
    },
    {
      "cell_type": "markdown",
      "metadata": {
        "id": "dgO2G7MBlCNL",
        "colab_type": "text"
      },
      "source": [
        "We can even assign to a slice:"
      ]
    },
    {
      "cell_type": "code",
      "metadata": {
        "id": "XppTIXPYlCNM",
        "colab_type": "code",
        "colab": {}
      },
      "source": [
        "b[:,1:] = 7\n",
        "print(b)"
      ],
      "execution_count": 0,
      "outputs": []
    },
    {
      "cell_type": "markdown",
      "metadata": {
        "id": "B4c92pWzlCNP",
        "colab_type": "text"
      },
      "source": [
        "A common idiom is to extract rows or columns from an array:"
      ]
    },
    {
      "cell_type": "code",
      "metadata": {
        "id": "8k9WL5iQlCNR",
        "colab_type": "code",
        "colab": {}
      },
      "source": [
        "print(b[:,0])    # First column\n",
        "print(b[1,:])    # Second row"
      ],
      "execution_count": 0,
      "outputs": []
    },
    {
      "cell_type": "markdown",
      "metadata": {
        "id": "mEuq6FuXlCNS",
        "colab_type": "text"
      },
      "source": [
        "### Reshaping\n",
        "\n",
        "When an array is reshaped, its number of elements stays the same, but they are reinterpreted to have a different shape. An example of this is to interpret a one dimensional array as two dimension array:"
      ]
    },
    {
      "cell_type": "code",
      "metadata": {
        "id": "fkATEx-9lCNT",
        "colab_type": "code",
        "colab": {}
      },
      "source": [
        "a=np.arange(9)\n",
        "anew=a.reshape(3,3)\n",
        "info(\"anew\", anew)\n",
        "info(\"a\", a)"
      ],
      "execution_count": 0,
      "outputs": []
    },
    {
      "cell_type": "code",
      "metadata": {
        "id": "njDAgt9xlCNV",
        "colab_type": "code",
        "colab": {}
      },
      "source": [
        "d=np.arange(4)             # 1d array\n",
        "dr=d.reshape(1,4)          # row vector\n",
        "dc=d.reshape(4,1)          # column vector\n",
        "info(\"d\", d)\n",
        "info(\"dr\", dr)\n",
        "info(\"dc\", dc)"
      ],
      "execution_count": 0,
      "outputs": []
    },
    {
      "cell_type": "markdown",
      "metadata": {
        "id": "M00spXwKlCNX",
        "colab_type": "text"
      },
      "source": [
        "<div class=\"alert alert-warning\">\n",
        "Note the 1d array and the row and column vectors, which are 2d arrays, are fundamentally different objects, even though they look similar. They behave differently when we combine or otherwise operate arrays of different shapes, as we shall see in the next section and later in this material.\n",
        "</div>"
      ]
    },
    {
      "cell_type": "markdown",
      "metadata": {
        "id": "_--DbmUSlCNY",
        "colab_type": "text"
      },
      "source": [
        "An alternative syntax to create, for example, column or row vectors is through the `np.newaxis` keyword. Sometimes this is easier or more natural than with the `reshape` method:"
      ]
    },
    {
      "cell_type": "code",
      "metadata": {
        "id": "8ggZRbOClCNb",
        "colab_type": "code",
        "colab": {}
      },
      "source": [
        "info(\"d\", d)\n",
        "info(\"drow\", d[:, np.newaxis])\n",
        "info(\"drow\", d[np.newaxis, :])\n",
        "info(\"dcol\", d[:, np.newaxis])"
      ],
      "execution_count": 0,
      "outputs": []
    },
    {
      "cell_type": "markdown",
      "metadata": {
        "id": "iL_vR-6dlCNd",
        "colab_type": "text"
      },
      "source": [
        "#### <div class=\"alert alert-info\">Exercise 11 (rows and columns)</div>\n",
        "\n",
        "Write two functions, `get_rows` and `get_columns`, that get a two dimensional array as parameter.\n",
        "They should return the list of rows and columns of the array, respectively. The rows and columns should be one dimensional arrays. You may use the *transpose* operation, which flips rows to columns, in your solution. The transpose is done by the `T` method:"
      ]
    },
    {
      "cell_type": "code",
      "metadata": {
        "id": "S7cbv2bolCNd",
        "colab_type": "code",
        "colab": {}
      },
      "source": [
        "a=np.random.randint(0, 10, (4,4))\n",
        "print(a)\n",
        "print(a.T)"
      ],
      "execution_count": 0,
      "outputs": []
    },
    {
      "cell_type": "markdown",
      "metadata": {
        "id": "9jchsVOLlCNg",
        "colab_type": "text"
      },
      "source": [
        "Test your solution in the main function.\n",
        "Example of usage:\n",
        "```\n",
        "a = np.array([[5, 0, 3, 3],\n",
        " [7, 9, 3, 5],\n",
        " [2, 4, 7, 6],\n",
        " [8, 8, 1, 6]])\n",
        "get_rows(a)\n",
        "[array([5, 0, 3, 3]), array([7, 9, 3, 5]), array([2, 4, 7, 6]), array([8, 8, 1, 6])]\n",
        "get_columns(a)\n",
        "[array([5, 7, 2, 8]), array([0, 9, 4, 8]), array([3, 3, 7, 1]), array([3, 5, 6, 6])]\n",
        "```\n",
        "\n",
        "<hr/>"
      ]
    },
    {
      "cell_type": "markdown",
      "metadata": {
        "id": "J4juYrRnlCNl",
        "colab_type": "text"
      },
      "source": [
        "## Array concatenation, splitting and stacking\n",
        "\n",
        "The are two ways of combining several arrays into one bigger array: `concatenate` and `stack`. `Concatenate` takes n-dimensional arrays and returns an n-dimensional array, whereas `stack` takes n-dimensional arrays and returns n+1-dimensional array. Few examples of these:"
      ]
    },
    {
      "cell_type": "code",
      "metadata": {
        "id": "yQnxfzHQlCNm",
        "colab_type": "code",
        "colab": {}
      },
      "source": [
        "a=np.arange(2)\n",
        "b=np.arange(2,5)\n",
        "print(f\"a has shape {a.shape}: {a}\")\n",
        "print(f\"b has shape {b.shape}: {b}\")\n",
        "np.concatenate((a,b))  # concatenating 1d arrays"
      ],
      "execution_count": 0,
      "outputs": []
    },
    {
      "cell_type": "code",
      "metadata": {
        "id": "kOtHAwEglCNq",
        "colab_type": "code",
        "colab": {}
      },
      "source": [
        "c=np.arange(1,5).reshape(2,2)\n",
        "print(f\"c has shape {c.shape}:\", c, sep=\"\\n\")\n",
        "np.concatenate((c,c))   # concatenating 2d arrays"
      ],
      "execution_count": 0,
      "outputs": []
    },
    {
      "cell_type": "markdown",
      "metadata": {
        "id": "pPjSgWvWlCNx",
        "colab_type": "text"
      },
      "source": [
        "By default `concatenate` joins the arrays along axis 0. To join the arrays horizontally, add parameter `axis=1`:"
      ]
    },
    {
      "cell_type": "code",
      "metadata": {
        "id": "xaTeXkPYlCNy",
        "colab_type": "code",
        "colab": {}
      },
      "source": [
        "np.concatenate((c,c), axis=1)"
      ],
      "execution_count": 0,
      "outputs": []
    },
    {
      "cell_type": "markdown",
      "metadata": {
        "id": "jF0CWTQclCN2",
        "colab_type": "text"
      },
      "source": [
        "If you want to catenate arrays with different dimensions, for example to add a new column to a 2d array, you must first  reshape the arrays to have same number of dimensions:"
      ]
    },
    {
      "cell_type": "code",
      "metadata": {
        "id": "jRkIJDpelCN3",
        "colab_type": "code",
        "colab": {}
      },
      "source": [
        "print(\"New row:\")\n",
        "print(np.concatenate((c,a.reshape(1,2))))\n",
        "print(\"New column:\")\n",
        "print(np.concatenate((c,a.reshape(2,1)), axis=1))"
      ],
      "execution_count": 0,
      "outputs": []
    },
    {
      "cell_type": "markdown",
      "metadata": {
        "id": "VSlhrUESlCN6",
        "colab_type": "text"
      },
      "source": [
        "Use `stack` to create higher dimensional arrays from lower dimensional arrays:"
      ]
    },
    {
      "cell_type": "code",
      "metadata": {
        "id": "dKmZfe2YlCN6",
        "colab_type": "code",
        "colab": {}
      },
      "source": [
        "np.stack((b,b))"
      ],
      "execution_count": 0,
      "outputs": []
    },
    {
      "cell_type": "code",
      "metadata": {
        "id": "ccejilI9lCOX",
        "colab_type": "code",
        "colab": {}
      },
      "source": [
        "np.stack((b,b), axis=1)"
      ],
      "execution_count": 0,
      "outputs": []
    },
    {
      "cell_type": "markdown",
      "metadata": {
        "id": "br8FD1_VlCOc",
        "colab_type": "text"
      },
      "source": [
        "Inverse operation of `concatenate` is `split`. Its argument specifies either the number of equal parts the array is divided into, or it specifies explicitly the break points."
      ]
    },
    {
      "cell_type": "code",
      "metadata": {
        "id": "4fvkE4lUlCOe",
        "colab_type": "code",
        "colab": {}
      },
      "source": [
        "d=np.arange(12).reshape(6,2)\n",
        "print(\"d:\")\n",
        "print(d)\n",
        "d1,d2 = np.split(d, 2)\n",
        "print(\"d1:\")\n",
        "print(d1)\n",
        "print(\"d2:\")\n",
        "print(d2)"
      ],
      "execution_count": 0,
      "outputs": []
    },
    {
      "cell_type": "code",
      "metadata": {
        "id": "NtJnrn7qlCOj",
        "colab_type": "code",
        "colab": {}
      },
      "source": [
        "d=np.arange(12).reshape(2,6)\n",
        "print(\"d:\")\n",
        "print(d)\n",
        "parts=np.split(d, (2,3,5), axis=1)\n",
        "for i, p in enumerate(parts):\n",
        "    print(\"part %i:\" % i)\n",
        "    print(p)"
      ],
      "execution_count": 0,
      "outputs": []
    },
    {
      "cell_type": "markdown",
      "metadata": {
        "id": "noQgCYnFlCOl",
        "colab_type": "text"
      },
      "source": [
        "#### <div class=\"alert alert-info\">Exercise 12 (row and column vectors)</div>\n",
        "\n",
        "Create function `get_row_vectors` that returns a list of rows from the input array of shape `(n,m)`, but this time the rows must have shape `(1,m)`. Similarly, create function `get_columns_vectors` that returns a list of columns (each having shape `(n,1)`) of the input matrix .\n",
        "\n",
        "Example: for a 2x3 input matrix\n",
        "\n",
        "```\n",
        " [[5 0 3]\n",
        "  [3 7 9]]\n",
        "```\n",
        "\n",
        "the result should be\n",
        "\n",
        "```\n",
        "Row vectors: \n",
        "[array([[5, 0, 3]]), array([[3, 7, 9]])]\n",
        "Column vectors: \n",
        "[array([[5],\n",
        "        [3]]), \n",
        " array([[0],\n",
        "        [7]]), \n",
        " array([[3],\n",
        "        [9]])]\n",
        "```\n",
        "\n",
        "The above output is basically just the returned lists printed with `print`. Only some\n",
        "whitespace is adjusted to make it look nicer. Output is not tested.\n",
        "\n",
        "<hr/>"
      ]
    },
    {
      "cell_type": "markdown",
      "metadata": {
        "id": "nsJFgXz9lCOl",
        "colab_type": "text"
      },
      "source": [
        "#### <div class=\"alert alert-info\">Exercise 13 (diamond)</div>\n",
        "Create a function `diamond` that returns a two dimensional integer array where the `1`s form a diamond shape. Rest of the numbers are `0`. The function should get a parameter that tells the length of a side of the diamond. Do this using the `eye` and `concatenate` functions of NumPy and array slicing.\n",
        "\n",
        "Example of usage:\n",
        "```\n",
        "print(diamond(3))\n",
        "[[0 0 1 0 0]\n",
        " [0 1 0 1 0]\n",
        " [1 0 0 0 1]\n",
        " [0 1 0 1 0]\n",
        " [0 0 1 0 0]]\n",
        "print(diamond(1))\n",
        "[[1]]\n",
        "```"
      ]
    },
    {
      "cell_type": "markdown",
      "metadata": {
        "id": "WWO-a1INlCOm",
        "colab_type": "text"
      },
      "source": [
        "## Fast computation using universal functions\n",
        "\n",
        "In addition to providing a way to store and access multi-dimension arrays, NumPy also provides several routines to perform computations on them. One of the reasons for the popularity of NumPy is that these computations can be very efficient, much more efficient than what Python can normally do. The biggest bottle-necks in efficiency are the loops, which can be iterated millions, billions, or even more times. The loops should be as efficient as possible. What slows down loops in Python as the fact that Python is dynamically typed language. That means that at each expression Python has find out the types of the arguments of the operations. Let's consider the following loop:"
      ]
    },
    {
      "cell_type": "code",
      "metadata": {
        "id": "mWvffkIClCOn",
        "colab_type": "code",
        "colab": {}
      },
      "source": [
        "L=[1, 5.2, \"ab\"]\n",
        "L2=[]\n",
        "for x in L:\n",
        "    L2.append(x*2)\n",
        "print(L2)"
      ],
      "execution_count": 0,
      "outputs": []
    },
    {
      "cell_type": "markdown",
      "metadata": {
        "id": "OhjmgmLJlCOs",
        "colab_type": "text"
      },
      "source": [
        "At each iteration of this loop Python has find out the type of the variable x, which can in this example be an int, a float or a string, and depending on this type call a different function to perform the \"multiplication\" by two. What makes NumPy efficient, is the requirement that each element in an array must be of the same type. This homogeneity of arrays makes it possible to create *vectorized* operation, which don't operate on single elements, but on arrays (or subarrays). The previous example using vectorized operations of NumPy is shown below."
      ]
    },
    {
      "cell_type": "code",
      "metadata": {
        "id": "qYXV2D9ylCOt",
        "colab_type": "code",
        "colab": {}
      },
      "source": [
        "a=np.array([2.1, 5.0, 17.2])\n",
        "a2=a*2\n",
        "print(a2)"
      ],
      "execution_count": 0,
      "outputs": []
    },
    {
      "cell_type": "markdown",
      "metadata": {
        "id": "K2HZ3iD0lCOx",
        "colab_type": "text"
      },
      "source": [
        "Because each iteration is using identical operations only the data differs, this can compiled into machine language, and then performed in one go, hence avoiding Python's dynamic typing. The name vector operation comes from linear algebra where the addition of two vectors $v=(v_1,v_2, \\ldots, v_d)$ and  $w=(w_1,w_2, \\ldots, w_d)$ is defined element-wise as $v+w = (v_1 + w_1,v_2 + w_2, \\ldots, v_d + w_d)$.\n",
        "\n",
        "In addition to addition there are several mathematical functions defined in the vector form. The basic arithmetic operations are: addition `+`, subtraction `-`, negation `-`, multiplication `*`, division `/`, floor division `//`, exponentation `**`, and remainder `%`. \n",
        "\n",
        "The can be combined into more complicated expressions. An example:"
      ]
    },
    {
      "cell_type": "code",
      "metadata": {
        "id": "Ago-uvk9lCO4",
        "colab_type": "code",
        "colab": {}
      },
      "source": [
        "b=np.array([-1, 3.2, 2.4])\n",
        "print(-a**2 * b)"
      ],
      "execution_count": 0,
      "outputs": []
    },
    {
      "cell_type": "markdown",
      "metadata": {
        "id": "6po_f0FDlCO8",
        "colab_type": "text"
      },
      "source": [
        "Several other mathematical functions are defined as well. A few examples of these can be found below."
      ]
    },
    {
      "cell_type": "code",
      "metadata": {
        "id": "0dmVc4ITlCO-",
        "colab_type": "code",
        "colab": {}
      },
      "source": [
        "print(np.abs(b))\n",
        "print(np.cos(b))\n",
        "print(np.exp(b))\n",
        "print(np.log2(np.abs(b)))"
      ],
      "execution_count": 0,
      "outputs": []
    },
    {
      "cell_type": "markdown",
      "metadata": {
        "id": "9O0ffqPllCPC",
        "colab_type": "text"
      },
      "source": [
        "In NumPy nomenclature these vector operations are called *ufuncs* (universal functions)."
      ]
    },
    {
      "cell_type": "markdown",
      "metadata": {
        "id": "05hJyifdlCPD",
        "colab_type": "text"
      },
      "source": [
        "## Aggregations: max, min, sum, mean, standard deviation...\n",
        "\n",
        "Aggregations allow us to condense the information in an array into just few numbers."
      ]
    },
    {
      "cell_type": "code",
      "metadata": {
        "id": "VL7KNVSRlCPF",
        "colab_type": "code",
        "colab": {}
      },
      "source": [
        "np.random.seed(0)\n",
        "a=np.random.randint(-100, 100, (4,5))\n",
        "print(a)\n",
        "print(f\"Minimum: {a.min()}, maximum: {a.max()}\")\n",
        "print(f\"Sum: {a.sum()}\")\n",
        "print(f\"Mean: {a.mean()}, standard deviation: {a.std()}\")"
      ],
      "execution_count": 0,
      "outputs": []
    },
    {
      "cell_type": "markdown",
      "metadata": {
        "id": "iDtEZDOvlCPG",
        "colab_type": "text"
      },
      "source": [
        "Instead of aggregating over the whole array, we can aggregate over certain axes only as well:"
      ]
    },
    {
      "cell_type": "code",
      "metadata": {
        "id": "2kAoUInFlCPH",
        "colab_type": "code",
        "colab": {}
      },
      "source": [
        "np.random.seed(9)\n",
        "b=np.random.randint(0, 10, (3,4))\n",
        "print(b)\n",
        "print(\"Column sums:\", b.sum(axis=0))\n",
        "print(\"Row sums:\", b.sum(axis=1))"
      ],
      "execution_count": 0,
      "outputs": []
    },
    {
      "cell_type": "markdown",
      "metadata": {
        "id": "zD3mln00lCPJ",
        "colab_type": "text"
      },
      "source": [
        "![aggregation](aggregation.svg)"
      ]
    },
    {
      "cell_type": "markdown",
      "metadata": {
        "id": "VmSTOtATlCPK",
        "colab_type": "text"
      },
      "source": [
        "<div class=\"alert alert-warning\">\n",
        "Note that most of the aggregation functions in NumPy have corresponding methods. In addition, Python language has builtin functions `sum`, `min`, `max`, `any`, and `all` for sequences. Make sure you don't accidentally use these for arrays, since they may have slightly different semantics, and they will be significantly slower than NumPy's functions and methods.\n",
        "</div>\n",
        "\n",
        "| Python function | NumPy function | NumPy method |\n",
        "| ----- | -------------- | ------------ |\n",
        "| sum   | np.sum         | a.sum |\n",
        "| -     | np.prod        | a.prod |\n",
        "| -     | np.mean        | a.mean |\n",
        "| -     | np.std         | a.std |\n",
        "| -     | np.var         | a.var |\n",
        "| min   | np.min         | a.min |\n",
        "| max   | np.max         | a.max |\n",
        "| -     | np.argmin      | a.argmin |\n",
        "| -     | np.argmax      | a.argmax |\n",
        "| -     | np.median      | - |\n",
        "| -     | np.percentile  | - |\n",
        "| any   | np.any         | a.any |\n",
        "| all   | np.all         | a.all |\n",
        "\n",
        " "
      ]
    },
    {
      "cell_type": "markdown",
      "metadata": {
        "id": "J5DABXrJlCPL",
        "colab_type": "text"
      },
      "source": [
        "Let's measure how much slower Python's `sum` function is compared to NumPy's equivalent when aggregating over an array:"
      ]
    },
    {
      "cell_type": "code",
      "metadata": {
        "id": "ud2vXeynlCPL",
        "colab_type": "code",
        "colab": {}
      },
      "source": [
        "a=np.arange(1000)\n",
        "%timeit np.sum(a)"
      ],
      "execution_count": 0,
      "outputs": []
    },
    {
      "cell_type": "code",
      "metadata": {
        "id": "x1C8RlGylCPN",
        "colab_type": "code",
        "colab": {}
      },
      "source": [
        "%timeit sum(a)"
      ],
      "execution_count": 0,
      "outputs": []
    },
    {
      "cell_type": "markdown",
      "metadata": {
        "id": "zF577oJolCPQ",
        "colab_type": "text"
      },
      "source": [
        "The speed of NumPy is partly due to the fact that its arrays must have same type for all the elements. This requirement allows some efficient optimizations."
      ]
    },
    {
      "cell_type": "markdown",
      "metadata": {
        "id": "b9Uv3FMBlCPV",
        "colab_type": "text"
      },
      "source": [
        "#### <div class=\"alert alert-info\">Exercise 14 (vector lengths)</div>\n",
        "\n",
        "Write function `vector_lengths` that gets a two dimensional array of shape (n,m) as a parameter. Each row in this array corresponds to a vector. The function should return an array of shape (n,), that has the length of each vector in the input. The length is defined by the usual \n",
        "[Euclidean norm](<https://en.wikipedia.org/wiki/Norm_(mathematics&#41;#Euclidean_norm>). Don't use loops at all in your solution. Instead use vectorized operations. You must use at least the `np.sum` and the `np.sqrt` functions. You can't use the function `scipy.linalg.norm`. Test your function in the main function."
      ]
    },
    {
      "cell_type": "markdown",
      "metadata": {
        "id": "2q8Ga8etlCPW",
        "colab_type": "text"
      },
      "source": [
        "#### <div class=\"alert alert-info\">Exercise 15 (vector angles)</div>\n",
        "\n",
        "Let x and y be m-dimensional vectors. The angle $\\alpha$ between two vectors is defined by the equation\n",
        "$\\cos_{xy}(\\alpha):=\\frac{\\langle x,y\\rangle}{||x|| ||y||}$,\n",
        "where the angle brackets denote the [inner product](https://en.wikipedia.org/wiki/Inner_product_space#Euclidean_space), and $||x||:=\\sqrt{\\langle x,x \\rangle}$. \n",
        "\n",
        "Write function `vector_angles` that gets two arrays X and Y with same shape (n,m) as parameters. Each row in the arrays corresponds to a vector. The function should return vector of shape (n,) with the corresponding angles between vectors of `X` and `Y` in degrees, not in radians. Again, don't use loops, but use vectorized operations.\n",
        "\n",
        "Note: function `np.arccos` is only defined on the domain [-1.0,1.0]. If you try to compute `np.arccos(1.000000001)`, it will fail. These kind of errors can occur due to use of finite precision in numerical computations. Force the argument to be in the correct range (`clip` method).\n",
        "\n",
        "Test your solution in the main program.\n",
        "<hr/>"
      ]
    },
    {
      "cell_type": "markdown",
      "metadata": {
        "id": "B4sd7vkVlCPX",
        "colab_type": "text"
      },
      "source": [
        "## Broadcasting\n",
        "\n",
        "We have seen that NumPy allows array operations that are performed element-wise. But NumPy also allows binary operations that don't require the two arrays to have the same shape. For example, we can add 4 to all elements of an array with the following expression:"
      ]
    },
    {
      "cell_type": "code",
      "metadata": {
        "id": "D4CiAp0tlCPY",
        "colab_type": "code",
        "colab": {}
      },
      "source": [
        "np.arange(3) + np.array([4])"
      ],
      "execution_count": 0,
      "outputs": []
    },
    {
      "cell_type": "markdown",
      "metadata": {
        "id": "hg7VK0AklCPa",
        "colab_type": "text"
      },
      "source": [
        "In fact, because an array with only one element, say 4, can be thought of as a scalar 4, NumPy allows the following expression, which is equivalent to the above:"
      ]
    },
    {
      "cell_type": "code",
      "metadata": {
        "id": "m8m3dBWPlCPa",
        "colab_type": "code",
        "colab": {}
      },
      "source": [
        "np.arange(3) + 4"
      ],
      "execution_count": 0,
      "outputs": []
    },
    {
      "cell_type": "markdown",
      "metadata": {
        "id": "16TtzF9JlCPd",
        "colab_type": "text"
      },
      "source": [
        "To get can idea of what operations are allowed, i.e. what shapes of the two arrays are *compatible*, it can be useful to think that before the binary operation is performed, NumPy tries to stretch the arrays to have the same shape. For example in above NumPy first stretched the array `np.array([4])` (or the scalar 4), to the array `np.array([4,4,4])` and then performed the element-wise addition. In NumPy this stretching is called *broadcasting*.\n",
        "\n",
        "![broadcast](broadcast.svg)"
      ]
    },
    {
      "cell_type": "markdown",
      "metadata": {
        "id": "JJOpVO4TlCPd",
        "colab_type": "text"
      },
      "source": [
        "The argument arrays can of course have higher dimensions, as the next example shows:"
      ]
    },
    {
      "cell_type": "code",
      "metadata": {
        "id": "GRl47SoIlCPe",
        "colab_type": "code",
        "colab": {}
      },
      "source": [
        "a=np.full((3,3), 5)\n",
        "b=np.arange(3)\n",
        "print(\"a:\", a, sep=\"\\n\")\n",
        "print(\"b:\", b)\n",
        "print(\"a+b:\", a+b, sep=\"\\n\")"
      ],
      "execution_count": 0,
      "outputs": []
    },
    {
      "cell_type": "markdown",
      "metadata": {
        "id": "9qYQdqQllCPg",
        "colab_type": "text"
      },
      "source": [
        "In this example the second argument was first broadcasted to the array"
      ]
    },
    {
      "cell_type": "code",
      "metadata": {
        "id": "TtoJORUXlCPg",
        "colab_type": "code",
        "colab": {}
      },
      "source": [
        "np.array([[0, 1, 2],\n",
        "       [0, 1, 2],\n",
        "       [0, 1, 2]])"
      ],
      "execution_count": 0,
      "outputs": []
    },
    {
      "cell_type": "markdown",
      "metadata": {
        "id": "sPOpC2aclCPi",
        "colab_type": "text"
      },
      "source": [
        "and then the addition was performed. And it may be that both of the argument arrays need to be broadcasted as in the next example:"
      ]
    },
    {
      "cell_type": "code",
      "metadata": {
        "id": "7foN3s1SlCPj",
        "colab_type": "code",
        "colab": {}
      },
      "source": [
        "a=np.arange(3)\n",
        "b=np.arange(3).reshape((3,1))\n",
        "info(\"a\", a)\n",
        "info(\"b\", b)\n",
        "info(\"a+b\", a+b)"
      ],
      "execution_count": 0,
      "outputs": []
    },
    {
      "cell_type": "markdown",
      "metadata": {
        "id": "AImt5Z6UlCPn",
        "colab_type": "text"
      },
      "source": [
        "To see what the arguments were broadcasted to before the binary operation, the function `np.broadcast_arrays` can be used:"
      ]
    },
    {
      "cell_type": "code",
      "metadata": {
        "id": "4hgHj08KlCPn",
        "colab_type": "code",
        "colab": {}
      },
      "source": [
        "broadcasted_a, broadcasted_b = np.broadcast_arrays(a,b)\n",
        "info(\"broadcasted_a\", broadcasted_a)\n",
        "info(\"broadcasted_b\", broadcasted_b)"
      ],
      "execution_count": 0,
      "outputs": []
    },
    {
      "cell_type": "markdown",
      "metadata": {
        "id": "CVgFyoLYlCPq",
        "colab_type": "text"
      },
      "source": [
        "So, both arrays were broadcasted, but in different ways. Let's next go through the [rules](https://docs.scipy.org/doc/numpy-1.14.0/reference/ufuncs.html#broadcasting) how the broadcasting work.\n",
        "\n",
        "\n",
        "1. All input arrays with `ndim` smaller than the input array of largest `ndim`, have 1’s prepended to their shapes.\n",
        "2. The size in each dimension of the output shape is the maximum of all the input sizes in that dimension.\n",
        "3. An input can be used in the calculation if its size in a particular dimension either matches the output size in that dimension, or has value exactly 1.\n",
        "4. If an input has a dimension size of 1 in its shape, the first data entry in that dimension will be used for all calculations along that dimension. In other words, the stepping machinery of the ufunc will simply not step along that dimension (the stride will be 0 for that dimension).\n",
        "\n"
      ]
    },
    {
      "cell_type": "markdown",
      "metadata": {
        "id": "8-oTbSK1lCPr",
        "colab_type": "text"
      },
      "source": [
        "Finally an example of a situation where the two array are not compatible:"
      ]
    },
    {
      "cell_type": "code",
      "metadata": {
        "id": "K9HwYB_nlCPr",
        "colab_type": "code",
        "colab": {}
      },
      "source": [
        "a=np.array([1,2,3])\n",
        "b=np.array([4,5])\n",
        "try:\n",
        "    a+b                 # This does not work since it violates the rule 3 above.\n",
        "except ValueError as e:\n",
        "    import sys\n",
        "    print(e, file=sys.stderr)"
      ],
      "execution_count": 0,
      "outputs": []
    },
    {
      "cell_type": "markdown",
      "metadata": {
        "id": "pkcL6cPplCPt",
        "colab_type": "text"
      },
      "source": [
        "#### <div class=\"alert alert-info\">Exercise 16 (multiplication table revisited)</div>\n",
        "Write function `multiplication_table` that gets a positive integer `n` as parameter. The function should return an array with shape (n,n). The element at index `(i,j)` should be `i*j`. Don't use `for` loops! In your solution, rely on broadcasting, the `np.arange` function, reshaping and vectorized operators. Example of usage:\n",
        "```\n",
        "print(multiplication_table(4))\n",
        "[[0 0 0 0]\n",
        " [0 1 2 3]\n",
        " [0 2 4 6]\n",
        " [0 3 6 9]]\n",
        "```\n",
        "<hr/>"
      ]
    },
    {
      "cell_type": "markdown",
      "metadata": {
        "id": "LAfYmMgdlCPu",
        "colab_type": "text"
      },
      "source": [
        "## Summary (week 2)\n",
        "\n",
        "* We have learned how regular expressions can be used to specify regular sets of strings\n",
        "\n",
        "    * We know how to find out if a string matches a regular expression\n",
        "    * We know how to extract pieces of text that match a RE\n",
        "    * We can replace matches to a RE with another string\n",
        "* We can read (and write) a text file either line by line or whole file at the same time\n",
        "* We also know how to specify the encoding of the file. The utf-8 encoding is a very common and can represent nearly every character or symbol of any (natural) language\n",
        "* Program's parameters are in the array `sys.argv`, and we can return a value from the program with the function `sys.exit`\n",
        "* The file streams `sys.stdin`, `sys.stdout`, and `sys.stderr` allow basic textual input and output to and from the program\n",
        "* Every value in Python is an object\n",
        "    * Classes are user defined data types, they tell how to construct instances (objects) of that type\n",
        "    * Relationship between objects and classes: `isinstance`\n",
        "    * Relationship between classes: `issubclass`\n",
        "* Exceptions signal exceptional situations, not necessarily errors\n",
        "    * We know how catch and raise exceptions\n",
        "* The efficiency of NumPy is based on the fact that the same operations can be performed on elements fast, if\n",
        "all the elements have the same type. These are called vectorized operations\n",
        "* We know how to create, reshape, perform basic access, combine, split, and aggregate arrays"
      ]
    },
    {
      "cell_type": "markdown",
      "metadata": {
        "id": "MpOllwkNlCPv",
        "colab_type": "text"
      },
      "source": [
        "<!--NAVIGATION-->\n",
        "\n",
        "\n",
        "<a href=\"https://colab.research.google.com/github/saskeli/x/blob/master/numpy.ipynb\"><img align=\"left\" src=\"https://colab.research.google.com/assets/colab-badge.svg\" alt=\"Open in Colab\" title=\"Open and Execute in Google Colaboratory\"></a>\n"
      ]
    },
    {
      "cell_type": "markdown",
      "metadata": {
        "id": "VClmeRdflq7F",
        "colab_type": "text"
      },
      "source": [
        "# NumPy (continues)"
      ]
    },
    {
      "cell_type": "code",
      "metadata": {
        "id": "Yfo5tVnklq7N",
        "colab_type": "code",
        "colab": {}
      },
      "source": [
        "import numpy as np"
      ],
      "execution_count": 0,
      "outputs": []
    },
    {
      "cell_type": "markdown",
      "metadata": {
        "id": "0NzPOMLylq7i",
        "colab_type": "text"
      },
      "source": [
        "## Comparisons and masking\n",
        "\n",
        "Just like NumPy allows element-wise arithmetic operations between arrays, for example addition of two arrays, it is also possible to compare two arrays element-wise. For example"
      ]
    },
    {
      "cell_type": "code",
      "metadata": {
        "id": "BBdf_IwXlq7k",
        "colab_type": "code",
        "colab": {}
      },
      "source": [
        "a=np.array([1,3,4])\n",
        "b=np.array([2,2,7])\n",
        "c = a < b\n",
        "print(c)"
      ],
      "execution_count": 0,
      "outputs": []
    },
    {
      "cell_type": "markdown",
      "metadata": {
        "id": "L9ilhISQlq7t",
        "colab_type": "text"
      },
      "source": [
        "Now we can query whether all comparisons resulted `True`, or whether some comparison resulted `True`:"
      ]
    },
    {
      "cell_type": "code",
      "metadata": {
        "id": "P4FRwCCHlq7v",
        "colab_type": "code",
        "colab": {}
      },
      "source": [
        "print(c.all())   # were all True\n",
        "print(c.any())   # was some comparison True"
      ],
      "execution_count": 0,
      "outputs": []
    },
    {
      "cell_type": "markdown",
      "metadata": {
        "id": "lIO9dgA-lq72",
        "colab_type": "text"
      },
      "source": [
        "We can also count the number of comparisons that were `True`. This solution relies on the interpretation that `True` corresponds to 1 and `False` corresponds to 0:"
      ]
    },
    {
      "cell_type": "code",
      "metadata": {
        "id": "CYZoOBYllq74",
        "colab_type": "code",
        "colab": {}
      },
      "source": [
        "print(np.sum(c))"
      ],
      "execution_count": 0,
      "outputs": []
    },
    {
      "cell_type": "markdown",
      "metadata": {
        "id": "QJqXqcYalq7-",
        "colab_type": "text"
      },
      "source": [
        "Because the broadcasting rules apply also to comparison, we can write"
      ]
    },
    {
      "cell_type": "code",
      "metadata": {
        "id": "LF-ZLpj_lq7_",
        "colab_type": "code",
        "colab": {}
      },
      "source": [
        "print(a > 0)"
      ],
      "execution_count": 0,
      "outputs": []
    },
    {
      "cell_type": "markdown",
      "metadata": {
        "id": "8aWeQl82lq8F",
        "colab_type": "text"
      },
      "source": [
        "To try these operations on real data, we download some weather statistics from Helsinki (Kumpula) weather station. More precisely, we will get the daily average temperatures from year 2017. We use the Pandas library, which we will cover later during this course, to load the data."
      ]
    },
    {
      "cell_type": "code",
      "metadata": {
        "id": "QcWm-1AWlq8I",
        "colab_type": "code",
        "colab": {}
      },
      "source": [
        "import pandas as pd\n",
        "a=pd.read_csv(\"https://www.cs.helsinki.fi/u/jttoivon/dap/data/fmi/kumpula-weather-2017.csv\")['Air temperature (degC)'].values"
      ],
      "execution_count": 0,
      "outputs": []
    },
    {
      "cell_type": "code",
      "metadata": {
        "id": "lqopbC_Rlq8T",
        "colab_type": "code",
        "colab": {}
      },
      "source": [
        "a"
      ],
      "execution_count": 0,
      "outputs": []
    },
    {
      "cell_type": "code",
      "metadata": {
        "id": "_VjnZ86xlq8X",
        "colab_type": "code",
        "colab": {}
      },
      "source": [
        "print(\"Number of days with the temperature below zero\", np.sum(a < 0))"
      ],
      "execution_count": 0,
      "outputs": []
    },
    {
      "cell_type": "markdown",
      "metadata": {
        "id": "fE0Tb-Fylq8d",
        "colab_type": "text"
      },
      "source": [
        "In core Python we can combine truth values using the `and`, `or`, and `not` keywords. For boolean array however we have to use the elementwise operators `&`, `|`, and `~`, respectively. An example of these:"
      ]
    },
    {
      "cell_type": "code",
      "metadata": {
        "id": "eCVsfmpAlq8g",
        "colab_type": "code",
        "colab": {}
      },
      "source": [
        "np.sum((0 < a) & (a < 10))     # Temperature is greater than 0 and less that 10 "
      ],
      "execution_count": 0,
      "outputs": []
    },
    {
      "cell_type": "markdown",
      "metadata": {
        "id": "De3GzGsvlq8k",
        "colab_type": "text"
      },
      "source": [
        "Note that we had to use parentheses around the comparisons, because the precedence of the `&` is higher than that of `<`, and so it would have been performed before the comparisons."
      ]
    },
    {
      "cell_type": "markdown",
      "metadata": {
        "id": "8WXMfzUjlq8m",
        "colab_type": "text"
      },
      "source": [
        "Another use of boolean arrays is that they can be used to select a subset of elements. For example"
      ]
    },
    {
      "cell_type": "code",
      "metadata": {
        "id": "CZn3whA0lq8n",
        "colab_type": "code",
        "colab": {}
      },
      "source": [
        "c = a > 0\n",
        "print(c[:10])    # print only the first ten elements\n",
        "print(a[c])      # Select only the positive temperatures "
      ],
      "execution_count": 0,
      "outputs": []
    },
    {
      "cell_type": "markdown",
      "metadata": {
        "id": "RB8t39Czlq8s",
        "colab_type": "text"
      },
      "source": [
        "This operation is called *masking*. It can also be used to assign a new value. For example the following zeroes out the  negative temperatures:"
      ]
    },
    {
      "cell_type": "code",
      "metadata": {
        "id": "NKhA1y37lq8u",
        "colab_type": "code",
        "colab": {}
      },
      "source": [
        "a[~c] = 0\n",
        "print(a)"
      ],
      "execution_count": 0,
      "outputs": []
    },
    {
      "cell_type": "markdown",
      "metadata": {
        "id": "_0MyOVxYlq8y",
        "colab_type": "text"
      },
      "source": [
        "Compare this result with the original array `a` to make sure you understand what's going on!"
      ]
    },
    {
      "cell_type": "markdown",
      "metadata": {
        "id": "JleISl55lq80",
        "colab_type": "text"
      },
      "source": [
        "#### <div class=\"alert alert-info\">Exercise 1 (column comparison)</div>\n",
        "\n",
        "Write function `column_comparison` that gets a two dimensional array as parameter. The function should return a new array containing those rows from the input that have the value in the second column larger than in the second last column. You may assume that the input contains at least two columns. Don't use loops, but instead vectorized operations. Try out your function in the main function.\n",
        "\n",
        "For array\n",
        "\n",
        "```\n",
        " [[8 9 3 8 8]\n",
        " [0 5 3 9 9]\n",
        " [5 7 6 0 4]\n",
        " [7 8 1 6 2]\n",
        " [2 1 3 5 8]]\n",
        "```\n",
        "the result would be\n",
        "```\n",
        " [[8 9 3 8 8]\n",
        " [5 7 6 0 4]\n",
        " [7 8 1 6 2]]\n",
        "```\n",
        "<hr/>"
      ]
    },
    {
      "cell_type": "markdown",
      "metadata": {
        "id": "GPjre4JGlq81",
        "colab_type": "text"
      },
      "source": [
        "#### <div class=\"alert alert-info\">Exercise 2 (first half second half)</div>\n",
        "\n",
        "Write function `first_half_second_half` that gets a two dimensional array of shape `(n,2*m)` as a parameter. The input array has `2*m` columns. The output from the function should be a matrix with those rows from the input that have the sum of the first `m` elements larger than the sum of the last `m` elements on the row. Your solution should call the `np.sum` function or the corresponding method exactly twice.\n",
        "\n",
        "Example of usage:\n",
        "```python\n",
        "a = np.array([[1, 3, 4, 2],\n",
        "              [2, 2, 1, 2]])\n",
        "first_half_second_half(a)\n",
        "array([[2, 2, 1, 2]])\n",
        "```\n",
        "<hr/>"
      ]
    },
    {
      "cell_type": "markdown",
      "metadata": {
        "id": "Cru-KHxklq83",
        "colab_type": "text"
      },
      "source": [
        "## Fancy indexing\n",
        "\n",
        "Using indexing we can get a single elements from an array. If we wanted multiple (not necessarily contiguous) elements, we would have to index several times:"
      ]
    },
    {
      "cell_type": "code",
      "metadata": {
        "id": "vcURXGZllq84",
        "colab_type": "code",
        "colab": {}
      },
      "source": [
        "np.random.seed(0)\n",
        "a=np.random.randint(0, 20,20)\n",
        "a2=np.array([a[2], a[5], a[7]])\n",
        "print(a)\n",
        "print(a2)"
      ],
      "execution_count": 0,
      "outputs": []
    },
    {
      "cell_type": "markdown",
      "metadata": {
        "id": "Co8QKWqjlq9A",
        "colab_type": "text"
      },
      "source": [
        "That's quite verbose. *Fancy indexing* provides a concise syntax for accessing multiple elements:"
      ]
    },
    {
      "cell_type": "code",
      "metadata": {
        "id": "XNgmKe96lq9B",
        "colab_type": "code",
        "colab": {}
      },
      "source": [
        "idx=[2,5,7]           # List of indices\n",
        "print(a[idx])         # In fancy indexing in place of a single index, we can provide a list of indices\n",
        "print(a[[2,5,7]])     # Or directly"
      ],
      "execution_count": 0,
      "outputs": []
    },
    {
      "cell_type": "markdown",
      "metadata": {
        "id": "OZB_BmBOlq9E",
        "colab_type": "text"
      },
      "source": [
        "We can also assign to multiple elements through fancy indexing:"
      ]
    },
    {
      "cell_type": "code",
      "metadata": {
        "id": "5cTNieIElq9G",
        "colab_type": "code",
        "colab": {}
      },
      "source": [
        "a[idx] = -1\n",
        "print(a)"
      ],
      "execution_count": 0,
      "outputs": []
    },
    {
      "cell_type": "markdown",
      "metadata": {
        "id": "sly7NrQjlq9O",
        "colab_type": "text"
      },
      "source": [
        "Fancy indexing works also for higher dimensional arrays:"
      ]
    },
    {
      "cell_type": "code",
      "metadata": {
        "id": "Z1o6Bvc2lq9R",
        "colab_type": "code",
        "colab": {}
      },
      "source": [
        "b=np.arange(16).reshape(4,4)\n",
        "print(b)\n",
        "row=np.array([0,2])\n",
        "col=np.array([1,3])\n",
        "print(b[row, col])"
      ],
      "execution_count": 0,
      "outputs": []
    },
    {
      "cell_type": "markdown",
      "metadata": {
        "id": "HOyErPsPlq9a",
        "colab_type": "text"
      },
      "source": [
        "Note that the result array was one dimensional! The shape of the result array is defined by the shape of the index arrays, not by the shape of the original array. The next example will demonstrate this."
      ]
    },
    {
      "cell_type": "code",
      "metadata": {
        "id": "smQbWe6elq9c",
        "colab_type": "code",
        "colab": {}
      },
      "source": [
        "row2=np.array([[0, 0], [2,2]])\n",
        "col2=np.array([[1,3], [1,3]])\n",
        "print(row2)\n",
        "print(col2)\n",
        "print(b[row2, col2])"
      ],
      "execution_count": 0,
      "outputs": []
    },
    {
      "cell_type": "markdown",
      "metadata": {
        "id": "kvKaWwRYlq9g",
        "colab_type": "text"
      },
      "source": [
        "Both index arrays, row and col, had shape (2,2), so also the result was of shape (2,2). However, this form has some repetition in the indices. But we can rely that the broadcasting rules will enable us to avoid the repetition:"
      ]
    },
    {
      "cell_type": "code",
      "metadata": {
        "id": "1MrwaBCRlq9h",
        "colab_type": "code",
        "colab": {}
      },
      "source": [
        "row2=row.reshape(2,1)   # has shape (2, 1)\n",
        "col2=col.reshape(1,2)   # has shape (1, 2)\n",
        "print(row2)\n",
        "print(col2)\n",
        "print(b[row2, col2])    # the index arrays will be broadcasted here to shape (2,2)"
      ],
      "execution_count": 0,
      "outputs": []
    },
    {
      "cell_type": "markdown",
      "metadata": {
        "id": "0nKAjOVvlq9m",
        "colab_type": "text"
      },
      "source": [
        "One can also combine normal indexing, slicing and fancy indexing:"
      ]
    },
    {
      "cell_type": "code",
      "metadata": {
        "id": "PZyKJayjlq9m",
        "colab_type": "code",
        "colab": {}
      },
      "source": [
        "b[:,[0,2]]"
      ],
      "execution_count": 0,
      "outputs": []
    },
    {
      "cell_type": "markdown",
      "metadata": {
        "id": "N7qa13oxlq9q",
        "colab_type": "text"
      },
      "source": [
        "## Sorting arrays\n",
        "\n"
      ]
    },
    {
      "cell_type": "code",
      "metadata": {
        "id": "a-IhZvQTlq9r",
        "colab_type": "code",
        "colab": {}
      },
      "source": [
        "a=np.array([2,1,4,3,5])\n",
        "print(np.sort(a))          # Does not modify the argument\n",
        "print(a)"
      ],
      "execution_count": 0,
      "outputs": []
    },
    {
      "cell_type": "code",
      "metadata": {
        "id": "dVfC6ptTlq9u",
        "colab_type": "code",
        "colab": {}
      },
      "source": [
        "a.sort()            # Modifies the argument\n",
        "print(a)"
      ],
      "execution_count": 0,
      "outputs": []
    },
    {
      "cell_type": "code",
      "metadata": {
        "id": "iNHQwTtAlq9x",
        "colab_type": "code",
        "colab": {}
      },
      "source": [
        "b=np.random.randint(0,10, (4,4))\n",
        "print(b)"
      ],
      "execution_count": 0,
      "outputs": []
    },
    {
      "cell_type": "code",
      "metadata": {
        "id": "szf6bVCXlq93",
        "colab_type": "code",
        "colab": {}
      },
      "source": [
        "np.sort(b, axis=0)           # sort each column"
      ],
      "execution_count": 0,
      "outputs": []
    },
    {
      "cell_type": "code",
      "metadata": {
        "id": "x8c4ZbTslq99",
        "colab_type": "code",
        "colab": {}
      },
      "source": [
        "np.sort(b, axis=1)           # Sort each row"
      ],
      "execution_count": 0,
      "outputs": []
    },
    {
      "cell_type": "markdown",
      "metadata": {
        "id": "sS2VNtLrlq9_",
        "colab_type": "text"
      },
      "source": [
        "Note that each row or column is sorted independently.\n",
        "\n",
        "A related operation is the `argsort` function. Which doesn't sort the elements, but returns the indices of the sorted elements. An example will demonstrate this:"
      ]
    },
    {
      "cell_type": "code",
      "metadata": {
        "id": "hd8fPPmElq-A",
        "colab_type": "code",
        "colab": {}
      },
      "source": [
        "a=np.array([23,12,47,35,59])\n",
        "print(\"Array a:\", a)\n",
        "idx = np.argsort(a)\n",
        "print(\"Indices:\", idx)"
      ],
      "execution_count": 0,
      "outputs": []
    },
    {
      "cell_type": "markdown",
      "metadata": {
        "id": "99nFQeHYlq-D",
        "colab_type": "text"
      },
      "source": [
        "These indices say that the smallest element of the array is in position 1 of `a`, second smallest elements is in position 0 of `a`, third smallest is in position 3, and so on. We can verify that these indices will indeed order the elements using fancy indexing:"
      ]
    },
    {
      "cell_type": "code",
      "metadata": {
        "id": "JhlNBffjlq-E",
        "colab_type": "code",
        "colab": {}
      },
      "source": [
        "print(a[idx])"
      ],
      "execution_count": 0,
      "outputs": []
    },
    {
      "cell_type": "markdown",
      "metadata": {
        "id": "BLWJHWrwlq-I",
        "colab_type": "text"
      },
      "source": [
        "#### <div class=\"alert alert-info\">Exercise 3 (most frequent first)</div>\n",
        "\n",
        "**<span style=\"color:red\">Note:</span>** This exercise is fairly difficult. Feel free to skip if you get stuck.\n",
        "\n",
        "Write function `most_frequent_first` that gets a two dimensional array and an index `c` of a column as parameters. The function should then return the array whose rows are sorted based on column `c`, in the following way. Rows are ordered so that those rows with the most frequent element in column `c` come first, then come the rows with the second most frequent element in column `c`, and so on. Therefore, the values outside column `c` don't affect the ordering in any way.\n",
        "\n",
        "Example of usage:\n",
        "```\n",
        "a:\n",
        " [[5 0 3 3 7 9 3 5 2 4]\n",
        " [7 6 8 8 1 6 7 7 8 1]\n",
        " [5 9 8 9 4 3 0 3 5 0]\n",
        " [2 3 8 1 3 3 3 7 0 1]\n",
        " [9 9 0 4 7 3 2 7 2 0]\n",
        " [0 4 5 5 6 8 4 1 4 9]\n",
        " [8 1 1 7 9 9 3 6 7 2]\n",
        " [0 3 5 9 4 4 6 4 4 3]\n",
        " [4 4 8 4 3 7 5 5 0 1]\n",
        " [5 9 3 0 5 0 1 2 4 2]]\n",
        "print(most_frequent_first(a, -1))\n",
        " [[4 4 8 4 3 7 5 5 0 1]\n",
        " [2 3 8 1 3 3 3 7 0 1]\n",
        " [7 6 8 8 1 6 7 7 8 1]\n",
        " [5 9 3 0 5 0 1 2 4 2]\n",
        " [8 1 1 7 9 9 3 6 7 2]\n",
        " [9 9 0 4 7 3 2 7 2 0]\n",
        " [5 9 8 9 4 3 0 3 5 0]\n",
        " [0 3 5 9 4 4 6 4 4 3]\n",
        " [0 4 5 5 6 8 4 1 4 9]\n",
        " [5 0 3 3 7 9 3 5 2 4]]\n",
        "```\n",
        "\n",
        "If we look at the last column, we see that the number 1 appears three times, then both numbers 2 and 0 appear twice, and lastly numbers 3, 9, and 4 appear only once. Note that, for example, among those rows that contain in column `c` a number that appear twice in column `c` the order can be arbitrary.\n",
        "\n",
        "Hint: the function `np.unique` may be useful.\n",
        "\n",
        "<hr/>"
      ]
    },
    {
      "cell_type": "markdown",
      "metadata": {
        "id": "wrjaBZralq-J",
        "colab_type": "text"
      },
      "source": [
        "## Matrix operations\n",
        "\n",
        "The `*` operator in NumPy corresponds to the element-wise product of two arrays. However, very often we would like to use the *matrix multiplication*. As a reminder, if $a$ and $b$ are two matrices with shapes $n \\times k$ and $k \\times m$ respectively, then the matrix product of $a$ and $b$ is the matrix $c$ with shape $n \\times m$, where $c_{ij} = \\sum_{h=1}^k a_{ih} b_{hj}$ for $1 \\le i \\le n$ and $1 \\le j \\le m$. In NumPy we can compute the matrix product using the `np.matmul` function or the `@` operator. An example of this:"
      ]
    },
    {
      "cell_type": "code",
      "metadata": {
        "id": "95eS_phmlq-K",
        "colab_type": "code",
        "colab": {}
      },
      "source": [
        "np.random.seed(0)\n",
        "a=np.random.randint(0,10, (3,2))\n",
        "b=np.random.randint(0,10, (2,4))\n",
        "print(a)\n",
        "print(b)"
      ],
      "execution_count": 0,
      "outputs": []
    },
    {
      "cell_type": "code",
      "metadata": {
        "id": "l-PsDzm2lq-N",
        "colab_type": "code",
        "colab": {}
      },
      "source": [
        "def info(name, a):\n",
        "    print(f\"{name} has dim {a.ndim}, shape {a.shape}, size {a.size}, and dtype {a.dtype}:\")\n",
        "    print(a)"
      ],
      "execution_count": 0,
      "outputs": []
    },
    {
      "cell_type": "code",
      "metadata": {
        "id": "IZJTsUBblq-T",
        "colab_type": "code",
        "colab": {}
      },
      "source": [
        "c=np.matmul(a,b)\n",
        "info(\"c\", c)"
      ],
      "execution_count": 0,
      "outputs": []
    },
    {
      "cell_type": "code",
      "metadata": {
        "id": "c80vw1uglq-Z",
        "colab_type": "code",
        "colab": {}
      },
      "source": [
        "print(a@b)      # This can be more convenient when complex expressions are used"
      ],
      "execution_count": 0,
      "outputs": []
    },
    {
      "cell_type": "markdown",
      "metadata": {
        "id": "8A1D95s0lq-g",
        "colab_type": "text"
      },
      "source": [
        "So, matrices are just two dimensional arrays with the product defined differently from the element-wise product. Note that for the matrix product to be defined, the two matrices have to have compatible shapes. So the following would produce an error:"
      ]
    },
    {
      "cell_type": "code",
      "metadata": {
        "id": "CQDAYvtNlq-i",
        "colab_type": "code",
        "colab": {}
      },
      "source": [
        "# a@a   # Try uncommenting and running to see the error message"
      ],
      "execution_count": 0,
      "outputs": []
    },
    {
      "cell_type": "markdown",
      "metadata": {
        "id": "UyV2PwVHlq-m",
        "colab_type": "text"
      },
      "source": [
        "Let's test some basic identities that should hold for an [invertible matrix](https://en.wikipedia.org/wiki/Invertible_matrix):"
      ]
    },
    {
      "cell_type": "code",
      "metadata": {
        "id": "R6kcmT45lq-o",
        "colab_type": "code",
        "colab": {}
      },
      "source": [
        "s=np.array([[1, 6, 7],\n",
        " [7, 8, 1],\n",
        " [5, 9, 8]])\n",
        "print(\"Original matrix:\", s, sep=\"\\n\")\n",
        "s_inv = np.linalg.inv(s)\n",
        "print(\"Inverted matrix:\", s_inv, sep=\"\\n\")\n",
        "print(\"Matrix product:\", s @ s_inv, sep=\"\\n\")                            # This should be pretty close to the identity matrix np.eye(3)\n",
        "print(\"Matrix product the other way:\", s_inv @ s, sep=\"\\n\")                            # Same here"
      ],
      "execution_count": 0,
      "outputs": []
    },
    {
      "cell_type": "markdown",
      "metadata": {
        "id": "uDA6VXA7lq-4",
        "colab_type": "text"
      },
      "source": [
        "Let's try mapping a vector with the matrix and its inverse:"
      ]
    },
    {
      "cell_type": "code",
      "metadata": {
        "id": "30VxGtJplq-5",
        "colab_type": "code",
        "colab": {}
      },
      "source": [
        "x=np.array([1,4,2])\n",
        "y = s @ x                  # Transforms x to y\n",
        "print(y)\n",
        "print(s_inv @ y)           # Transforms y back to x"
      ],
      "execution_count": 0,
      "outputs": []
    },
    {
      "cell_type": "markdown",
      "metadata": {
        "id": "DMhDGu_Glq_A",
        "colab_type": "text"
      },
      "source": [
        "#### <div class=\"alert alert-info\">Exercise 4 (matrix power)</div>\n",
        "\n",
        "Repeat the functionality of the NumPy function `numpy.linalg.matrix_power`, which raises a square matrix of shape (m,m) to the `n`th power. Here the multiplication is the matrix multiplication. Square matrix `a` raised to power `n` is therefore `a @ a @ ... @ a` where `a` is repeated `n` times. When n is zero then $a^0$ is equal to `np.eye(m)`.\n",
        "\n",
        "Write function `matrix_power` that gets as first argument a square matrix `a` and as second argument a non-negative integer `n`. The function should return the matrix `a` multiplied by itself `n-1` times.\n",
        "Use Python's `reduce` function and a generator expression.\n",
        "\n",
        "Extend the `matrix_power` function.\n",
        "For negative powers, we define $a^{-1}$ to be equal to the multiplicative inverse of `a`. You can use NumPy's function `numpy.linalg.inv` for this. And you may assume that the input matrix is invertible.\n",
        "\n",
        "<hr/>"
      ]
    },
    {
      "cell_type": "markdown",
      "metadata": {
        "id": "RU19P8Pilq_C",
        "colab_type": "text"
      },
      "source": [
        "#### <div class=\"alert alert-info\">Exercise 5 (correlation)</div>\n",
        "\n",
        "This exercise can give two points at maximum!\n",
        "\n",
        "Load the iris dataset using the provided function `load()` in the stub solution. The four columns of the returned array correspond to\n",
        "\n",
        "* sepal length (cm)\n",
        "* sepal width (cm)\n",
        "* petal length (cm)\n",
        "* petal width (cm)\n",
        "\n",
        "Part 1. What is the Pearson correlation between the variables `sepal length` and `petal length`. Compute this using the `scipy.stats.pearsonr` function. It returns a tuple whose first element is the correlation. Write a function `lengths` that loads the data and returns the correlation.\n",
        "\n",
        "Part 2. What are the correlations between all the variables. Write a function `correlations` that returns an array of shape (4,4) containing the correlations. Use the function `np.corrcoef`. Which pair of variables is the most highly correlated?\n",
        "\n",
        "Note the input formats of both functions `pearsonr` and `corrcoef`.\n",
        "\n",
        "**Note.** There is a problem with the definition of load function in that it tries to load the data from the internet if it isn't in the cache. This may cause failure when submitting, since the internet connection from the test server to the internet is restricted. To fix this, first store the data in the `src` folder. Then you can load the data in your program with the following modified version of the `load` function.\n",
        "\n",
        "```python\n",
        "def get_path(filename):\n",
        "    import sys\n",
        "    import os\n",
        "    return os.path.join(os.path.dirname(sys.argv[0]), \"..\", \"src\", filename)\n",
        "\n",
        "def load():\n",
        "    import pandas as pd\n",
        "    return pd.read_csv(get_path(\"iris.csv\")).drop('species', axis=1).values\n",
        "```\n",
        "\n",
        "To store the data on disk give the following line in IPython shell or in Jupyter:\n",
        "\n",
        "```python\n",
        "import seaborn as sns; sns.load_dataset(\"iris\").to_csv(\"iris.csv\", index=False)\n",
        "```\n",
        "\n",
        "And make sure the created file `iris.csv` is located in the `src` folder.\n",
        "\n",
        "<hr/>"
      ]
    },
    {
      "cell_type": "markdown",
      "metadata": {
        "id": "CMGEfECVlq_E",
        "colab_type": "text"
      },
      "source": [
        "## Solving system of linear equations"
      ]
    },
    {
      "cell_type": "markdown",
      "metadata": {
        "id": "BncronJalq_F",
        "colab_type": "text"
      },
      "source": [
        "The NumPy library has function [np.linalg.solve](https://docs.scipy.org/doc/scipy/reference/generated/scipy.linalg.solve.html) to solve systems of linear equations. The `solve` function gets as parameters the coefficient matrix and the vector containing the constant term. Below is an example of the general system of linear equations\n",
        "\n",
        "$$a_{11}x_1 + a_{12}x_2 + \\cdots a_{1m}x_m = b_1\\\\\n",
        "a_{21}x_1 + a_{22}x_2 + \\cdots a_{2m}x_m = b_2\\\\\n",
        "\\cdots\\\\\n",
        "a_{n1}x_1 + a_{n2}x_2 + \\cdots a_{nm}x_m = b_n\\\\\n",
        "$$\n",
        "\n",
        "\n",
        "and the equivalent matrix form\n",
        "\n",
        "$$A \\cdot x = b$$\n",
        "\n",
        "where $A$ has shape `(n,m)`, the unknown $x$ has shape `(m,1)`, and $b$ has shape `(n,1)`."
      ]
    },
    {
      "cell_type": "markdown",
      "metadata": {
        "id": "amL9KUgolq_H",
        "colab_type": "text"
      },
      "source": [
        "#### <div class=\"alert alert-info\">Exercise 6 (meeting lines)</div>\n",
        "\n",
        "Write function `meeting_lines` that gets the coefficients of two lines as parameters and returns the point where the two lines meet. The equations for the lines are $y=a_1x + b_1$ and $y=a_2x + b_2$. Use the `np.linalg.solve` function. Create a main function to test your solution.\n",
        "\n",
        "Example of usage:\n",
        "```\n",
        "x, y = meeting_lines(a1, b1, a2, b2)\n",
        "```\n",
        "<hr/>"
      ]
    },
    {
      "cell_type": "markdown",
      "metadata": {
        "id": "ghxhJmvtlq_J",
        "colab_type": "text"
      },
      "source": [
        "#### <div class=\"alert alert-info\">Exercise 7 (meeting planes)</div>\n",
        "Write function `meeting_planes` that gets the coefficients of three planes as parameters and returns the point where the planes meet. The equations for the planes are:\n",
        "$z =a_1y + b_1x+ c_1$,\n",
        "$z =a_2y + b_2x+ c_2$, and\n",
        "$z =a_3y + b_3x+ c_3$.\n",
        "\n",
        "Example of usage:\n",
        "```\n",
        "x, y, z = meeting_planes(a1, b1, c1,  a2, b2, c2,  a3, b3, c3)\n",
        "```\n",
        "<hr/>"
      ]
    },
    {
      "cell_type": "markdown",
      "metadata": {
        "id": "PPCPFrmylq_L",
        "colab_type": "text"
      },
      "source": [
        "#### <div class=\"alert alert-info\">Exercise 8 (almost meeting lines)</div>\n",
        "In the earlier \"meeting lines\" exercise there is a problem if the lines don't meet at all. Extend that solution so that it tells the meeting point if it exists, and otherwise finds the point that is closest to the both lines.\n",
        "You can use the `numpy.linalg.lstsq` for this.\n",
        "\n",
        "Example of usage:\n",
        "```\n",
        "(x, y), exact = almost_meeting_lines(1, 2, -1, 0)\n",
        "print(x, y, exact)\n",
        "-1.000000 1.000000 True\n",
        "```\n",
        "\n",
        "<hr/>"
      ]
    },
    {
      "cell_type": "markdown",
      "metadata": {
        "id": "5PkGKfrolq_P",
        "colab_type": "text"
      },
      "source": [
        "<!--NAVIGATION-->\n",
        "\n",
        "\n",
        "<a href=\"https://colab.research.google.com/github/saskeli/x/blob/master/numpy2.ipynb\"><img align=\"left\" src=\"https://colab.research.google.com/assets/colab-badge.svg\" alt=\"Open in Colab\" title=\"Open and Execute in Google Colaboratory\"></a>\n"
      ]
    }
  ]
}

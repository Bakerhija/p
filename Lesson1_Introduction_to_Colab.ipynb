{
  "nbformat": 4,
  "nbformat_minor": 0,
  "metadata": {
    "colab": {
      "name": "Lesson2-Python For Data Science-Introduction-to-Colab.ipynb",
      "provenance": [],
      "collapsed_sections": [
        "qqAIvhP5N4iu",
        "rFoJ_ekfWrY8",
        "epYHKGvoN8n3",
        "IrhCtqRnXE0H",
        "_TfXsBkouZs3",
        "kn-P-e_hjvK5",
        "gG6bUpCQcWQe",
        "yHdWIarsN850",
        "hPWO_zyRopXN",
        "bq4VmHjPpMOR",
        "fYu0ekUlqPk6",
        "FpJhrpSQsK5E",
        "Kj977UW3rph_",
        "xSBoMgN4lRAr",
        "bG6eVSevY5_z",
        "Y_IEtysrbyCG",
        "23kiNSVkb09I",
        "z2pbL991a9OU",
        "7n10W_hmb5CX",
        "S2l0ozLudvx5",
        "nrkDViEcfnw8",
        "rQkSyrDjxXA4",
        "jYjzO6a4N88q",
        "vn1SjZ7Kr_Em"
      ],
      "toc_visible": true,
      "include_colab_link": true
    },
    "kernelspec": {
      "name": "python3",
      "display_name": "Python 3"
    }
  },
  "cells": [
    {
      "cell_type": "markdown",
      "metadata": {
        "id": "view-in-github",
        "colab_type": "text"
      },
      "source": [
        "<a href=\"https://colab.research.google.com/github/smabb/p/blob/master/Lesson1_Introduction_to_Colab.ipynb\" target=\"_parent\"><img src=\"https://colab.research.google.com/assets/colab-badge.svg\" alt=\"Open In Colab\"/></a>"
      ]
    },
    {
      "cell_type": "markdown",
      "metadata": {
        "id": "spdivf2TMnGC",
        "colab_type": "text"
      },
      "source": [
        "# Lesson 1 Introduction to Colab"
      ]
    },
    {
      "cell_type": "markdown",
      "metadata": {
        "id": "qqAIvhP5N4iu",
        "colab_type": "text"
      },
      "source": [
        "## 1.1 First Colab Document\n",
        "\n"
      ]
    },
    {
      "cell_type": "markdown",
      "metadata": {
        "id": "rFoJ_ekfWrY8",
        "colab_type": "text"
      },
      "source": [
        "### What is Colab?"
      ]
    },
    {
      "cell_type": "markdown",
      "metadata": {
        "id": "7MBiLIWmWzzF",
        "colab_type": "text"
      },
      "source": [
        "\n",
        "\n",
        "*   Hosted Jupyter Notebooks\n",
        "*   GPU/TPU enabled runtimes\n",
        "*   Google Docs Integration\n",
        "\n"
      ]
    },
    {
      "cell_type": "markdown",
      "metadata": {
        "id": "epYHKGvoN8n3",
        "colab_type": "text"
      },
      "source": [
        "### Creating Colab Notebooks\n",
        "\n",
        "\n",
        "\n"
      ]
    },
    {
      "cell_type": "markdown",
      "metadata": {
        "id": "8mYKNSGTYjX8",
        "colab_type": "text"
      },
      "source": [
        "Three main interfaces:\n",
        "\n",
        "\n",
        "\n",
        "*   New Notebook (Python2 or Python3)\n",
        "*   Upload Notebooks\n",
        "*   Open Notebooks (Github, Drive, Upload)\n",
        "\n"
      ]
    },
    {
      "cell_type": "markdown",
      "metadata": {
        "id": "_TfXsBkouZs3",
        "colab_type": "text"
      },
      "source": [
        "### Upload to Colab"
      ]
    },
    {
      "cell_type": "code",
      "metadata": {
        "id": "PmaBtHz_ub6_",
        "colab_type": "code",
        "outputId": "5d216bf9-2855-4f1c-f532-1dfa261bdd40",
        "colab": {
          "resources": {
            "http://localhost:8080/nbextensions/google.colab/files.js": {
              "data": "Ly8gQ29weXJpZ2h0IDIwMTcgR29vZ2xlIExMQwovLwovLyBMaWNlbnNlZCB1bmRlciB0aGUgQXBhY2hlIExpY2Vuc2UsIFZlcnNpb24gMi4wICh0aGUgIkxpY2Vuc2UiKTsKLy8geW91IG1heSBub3QgdXNlIHRoaXMgZmlsZSBleGNlcHQgaW4gY29tcGxpYW5jZSB3aXRoIHRoZSBMaWNlbnNlLgovLyBZb3UgbWF5IG9idGFpbiBhIGNvcHkgb2YgdGhlIExpY2Vuc2UgYXQKLy8KLy8gICAgICBodHRwOi8vd3d3LmFwYWNoZS5vcmcvbGljZW5zZXMvTElDRU5TRS0yLjAKLy8KLy8gVW5sZXNzIHJlcXVpcmVkIGJ5IGFwcGxpY2FibGUgbGF3IG9yIGFncmVlZCB0byBpbiB3cml0aW5nLCBzb2Z0d2FyZQovLyBkaXN0cmlidXRlZCB1bmRlciB0aGUgTGljZW5zZSBpcyBkaXN0cmlidXRlZCBvbiBhbiAiQVMgSVMiIEJBU0lTLAovLyBXSVRIT1VUIFdBUlJBTlRJRVMgT1IgQ09ORElUSU9OUyBPRiBBTlkgS0lORCwgZWl0aGVyIGV4cHJlc3Mgb3IgaW1wbGllZC4KLy8gU2VlIHRoZSBMaWNlbnNlIGZvciB0aGUgc3BlY2lmaWMgbGFuZ3VhZ2UgZ292ZXJuaW5nIHBlcm1pc3Npb25zIGFuZAovLyBsaW1pdGF0aW9ucyB1bmRlciB0aGUgTGljZW5zZS4KCi8qKgogKiBAZmlsZW92ZXJ2aWV3IEhlbHBlcnMgZm9yIGdvb2dsZS5jb2xhYiBQeXRob24gbW9kdWxlLgogKi8KKGZ1bmN0aW9uKHNjb3BlKSB7CmZ1bmN0aW9uIHNwYW4odGV4dCwgc3R5bGVBdHRyaWJ1dGVzID0ge30pIHsKICBjb25zdCBlbGVtZW50ID0gZG9jdW1lbnQuY3JlYXRlRWxlbWVudCgnc3BhbicpOwogIGVsZW1lbnQudGV4dENvbnRlbnQgPSB0ZXh0OwogIGZvciAoY29uc3Qga2V5IG9mIE9iamVjdC5rZXlzKHN0eWxlQXR0cmlidXRlcykpIHsKICAgIGVsZW1lbnQuc3R5bGVba2V5XSA9IHN0eWxlQXR0cmlidXRlc1trZXldOwogIH0KICByZXR1cm4gZWxlbWVudDsKfQoKLy8gTWF4IG51bWJlciBvZiBieXRlcyB3aGljaCB3aWxsIGJlIHVwbG9hZGVkIGF0IGEgdGltZS4KY29uc3QgTUFYX1BBWUxPQURfU0laRSA9IDEwMCAqIDEwMjQ7Ci8vIE1heCBhbW91bnQgb2YgdGltZSB0byBibG9jayB3YWl0aW5nIGZvciB0aGUgdXNlci4KY29uc3QgRklMRV9DSEFOR0VfVElNRU9VVF9NUyA9IDMwICogMTAwMDsKCmZ1bmN0aW9uIF91cGxvYWRGaWxlcyhpbnB1dElkLCBvdXRwdXRJZCkgewogIGNvbnN0IHN0ZXBzID0gdXBsb2FkRmlsZXNTdGVwKGlucHV0SWQsIG91dHB1dElkKTsKICBjb25zdCBvdXRwdXRFbGVtZW50ID0gZG9jdW1lbnQuZ2V0RWxlbWVudEJ5SWQob3V0cHV0SWQpOwogIC8vIENhY2hlIHN0ZXBzIG9uIHRoZSBvdXRwdXRFbGVtZW50IHRvIG1ha2UgaXQgYXZhaWxhYmxlIGZvciB0aGUgbmV4dCBjYWxsCiAgLy8gdG8gdXBsb2FkRmlsZXNDb250aW51ZSBmcm9tIFB5dGhvbi4KICBvdXRwdXRFbGVtZW50LnN0ZXBzID0gc3RlcHM7CgogIHJldHVybiBfdXBsb2FkRmlsZXNDb250aW51ZShvdXRwdXRJZCk7Cn0KCi8vIFRoaXMgaXMgcm91Z2hseSBhbiBhc3luYyBnZW5lcmF0b3IgKG5vdCBzdXBwb3J0ZWQgaW4gdGhlIGJyb3dzZXIgeWV0KSwKLy8gd2hlcmUgdGhlcmUgYXJlIG11bHRpcGxlIGFzeW5jaHJvbm91cyBzdGVwcyBhbmQgdGhlIFB5dGhvbiBzaWRlIGlzIGdvaW5nCi8vIHRvIHBvbGwgZm9yIGNvbXBsZXRpb24gb2YgZWFjaCBzdGVwLgovLyBUaGlzIHVzZXMgYSBQcm9taXNlIHRvIGJsb2NrIHRoZSBweXRob24gc2lkZSBvbiBjb21wbGV0aW9uIG9mIGVhY2ggc3RlcCwKLy8gdGhlbiBwYXNzZXMgdGhlIHJlc3VsdCBvZiB0aGUgcHJldmlvdXMgc3RlcCBhcyB0aGUgaW5wdXQgdG8gdGhlIG5leHQgc3RlcC4KZnVuY3Rpb24gX3VwbG9hZEZpbGVzQ29udGludWUob3V0cHV0SWQpIHsKICBjb25zdCBvdXRwdXRFbGVtZW50ID0gZG9jdW1lbnQuZ2V0RWxlbWVudEJ5SWQob3V0cHV0SWQpOwogIGNvbnN0IHN0ZXBzID0gb3V0cHV0RWxlbWVudC5zdGVwczsKCiAgY29uc3QgbmV4dCA9IHN0ZXBzLm5leHQob3V0cHV0RWxlbWVudC5sYXN0UHJvbWlzZVZhbHVlKTsKICByZXR1cm4gUHJvbWlzZS5yZXNvbHZlKG5leHQudmFsdWUucHJvbWlzZSkudGhlbigodmFsdWUpID0+IHsKICAgIC8vIENhY2hlIHRoZSBsYXN0IHByb21pc2UgdmFsdWUgdG8gbWFrZSBpdCBhdmFpbGFibGUgdG8gdGhlIG5leHQKICAgIC8vIHN0ZXAgb2YgdGhlIGdlbmVyYXRvci4KICAgIG91dHB1dEVsZW1lbnQubGFzdFByb21pc2VWYWx1ZSA9IHZhbHVlOwogICAgcmV0dXJuIG5leHQudmFsdWUucmVzcG9uc2U7CiAgfSk7Cn0KCi8qKgogKiBHZW5lcmF0b3IgZnVuY3Rpb24gd2hpY2ggaXMgY2FsbGVkIGJldHdlZW4gZWFjaCBhc3luYyBzdGVwIG9mIHRoZSB1cGxvYWQKICogcHJvY2Vzcy4KICogQHBhcmFtIHtzdHJpbmd9IGlucHV0SWQgRWxlbWVudCBJRCBvZiB0aGUgaW5wdXQgZmlsZSBwaWNrZXIgZWxlbWVudC4KICogQHBhcmFtIHtzdHJpbmd9IG91dHB1dElkIEVsZW1lbnQgSUQgb2YgdGhlIG91dHB1dCBkaXNwbGF5LgogKiBAcmV0dXJuIHshSXRlcmFibGU8IU9iamVjdD59IEl0ZXJhYmxlIG9mIG5leHQgc3RlcHMuCiAqLwpmdW5jdGlvbiogdXBsb2FkRmlsZXNTdGVwKGlucHV0SWQsIG91dHB1dElkKSB7CiAgY29uc3QgaW5wdXRFbGVtZW50ID0gZG9jdW1lbnQuZ2V0RWxlbWVudEJ5SWQoaW5wdXRJZCk7CiAgaW5wdXRFbGVtZW50LmRpc2FibGVkID0gZmFsc2U7CgogIGNvbnN0IG91dHB1dEVsZW1lbnQgPSBkb2N1bWVudC5nZXRFbGVtZW50QnlJZChvdXRwdXRJZCk7CiAgb3V0cHV0RWxlbWVudC5pbm5lckhUTUwgPSAnJzsKCiAgY29uc3QgcGlja2VkUHJvbWlzZSA9IG5ldyBQcm9taXNlKChyZXNvbHZlKSA9PiB7CiAgICBpbnB1dEVsZW1lbnQuYWRkRXZlbnRMaXN0ZW5lcignY2hhbmdlJywgKGUpID0+IHsKICAgICAgcmVzb2x2ZShlLnRhcmdldC5maWxlcyk7CiAgICB9KTsKICB9KTsKCiAgY29uc3QgY2FuY2VsID0gZG9jdW1lbnQuY3JlYXRlRWxlbWVudCgnYnV0dG9uJyk7CiAgaW5wdXRFbGVtZW50LnBhcmVudEVsZW1lbnQuYXBwZW5kQ2hpbGQoY2FuY2VsKTsKICBjYW5jZWwudGV4dENvbnRlbnQgPSAnQ2FuY2VsIHVwbG9hZCc7CiAgY29uc3QgY2FuY2VsUHJvbWlzZSA9IG5ldyBQcm9taXNlKChyZXNvbHZlKSA9PiB7CiAgICBjYW5jZWwub25jbGljayA9ICgpID0+IHsKICAgICAgcmVzb2x2ZShudWxsKTsKICAgIH07CiAgfSk7CgogIC8vIENhbmNlbCB1cGxvYWQgaWYgdXNlciBoYXNuJ3QgcGlja2VkIGFueXRoaW5nIGluIHRpbWVvdXQuCiAgY29uc3QgdGltZW91dFByb21pc2UgPSBuZXcgUHJvbWlzZSgocmVzb2x2ZSkgPT4gewogICAgc2V0VGltZW91dCgoKSA9PiB7CiAgICAgIHJlc29sdmUobnVsbCk7CiAgICB9LCBGSUxFX0NIQU5HRV9USU1FT1VUX01TKTsKICB9KTsKCiAgLy8gV2FpdCBmb3IgdGhlIHVzZXIgdG8gcGljayB0aGUgZmlsZXMuCiAgY29uc3QgZmlsZXMgPSB5aWVsZCB7CiAgICBwcm9taXNlOiBQcm9taXNlLnJhY2UoW3BpY2tlZFByb21pc2UsIHRpbWVvdXRQcm9taXNlLCBjYW5jZWxQcm9taXNlXSksCiAgICByZXNwb25zZTogewogICAgICBhY3Rpb246ICdzdGFydGluZycsCiAgICB9CiAgfTsKCiAgaWYgKCFmaWxlcykgewogICAgcmV0dXJuIHsKICAgICAgcmVzcG9uc2U6IHsKICAgICAgICBhY3Rpb246ICdjb21wbGV0ZScsCiAgICAgIH0KICAgIH07CiAgfQoKICBjYW5jZWwucmVtb3ZlKCk7CgogIC8vIERpc2FibGUgdGhlIGlucHV0IGVsZW1lbnQgc2luY2UgZnVydGhlciBwaWNrcyBhcmUgbm90IGFsbG93ZWQuCiAgaW5wdXRFbGVtZW50LmRpc2FibGVkID0gdHJ1ZTsKCiAgZm9yIChjb25zdCBmaWxlIG9mIGZpbGVzKSB7CiAgICBjb25zdCBsaSA9IGRvY3VtZW50LmNyZWF0ZUVsZW1lbnQoJ2xpJyk7CiAgICBsaS5hcHBlbmQoc3BhbihmaWxlLm5hbWUsIHtmb250V2VpZ2h0OiAnYm9sZCd9KSk7CiAgICBsaS5hcHBlbmQoc3BhbigKICAgICAgICBgKCR7ZmlsZS50eXBlIHx8ICduL2EnfSkgLSAke2ZpbGUuc2l6ZX0gYnl0ZXMsIGAgKwogICAgICAgIGBsYXN0IG1vZGlmaWVkOiAkewogICAgICAgICAgICBmaWxlLmxhc3RNb2RpZmllZERhdGUgPyBmaWxlLmxhc3RNb2RpZmllZERhdGUudG9Mb2NhbGVEYXRlU3RyaW5nKCkgOgogICAgICAgICAgICAgICAgICAgICAgICAgICAgICAgICAgICAnbi9hJ30gLSBgKSk7CiAgICBjb25zdCBwZXJjZW50ID0gc3BhbignMCUgZG9uZScpOwogICAgbGkuYXBwZW5kQ2hpbGQocGVyY2VudCk7CgogICAgb3V0cHV0RWxlbWVudC5hcHBlbmRDaGlsZChsaSk7CgogICAgY29uc3QgZmlsZURhdGFQcm9taXNlID0gbmV3IFByb21pc2UoKHJlc29sdmUpID0+IHsKICAgICAgY29uc3QgcmVhZGVyID0gbmV3IEZpbGVSZWFkZXIoKTsKICAgICAgcmVhZGVyLm9ubG9hZCA9IChlKSA9PiB7CiAgICAgICAgcmVzb2x2ZShlLnRhcmdldC5yZXN1bHQpOwogICAgICB9OwogICAgICByZWFkZXIucmVhZEFzQXJyYXlCdWZmZXIoZmlsZSk7CiAgICB9KTsKICAgIC8vIFdhaXQgZm9yIHRoZSBkYXRhIHRvIGJlIHJlYWR5LgogICAgbGV0IGZpbGVEYXRhID0geWllbGQgewogICAgICBwcm9taXNlOiBmaWxlRGF0YVByb21pc2UsCiAgICAgIHJlc3BvbnNlOiB7CiAgICAgICAgYWN0aW9uOiAnY29udGludWUnLAogICAgICB9CiAgICB9OwoKICAgIC8vIFVzZSBhIGNodW5rZWQgc2VuZGluZyB0byBhdm9pZCBtZXNzYWdlIHNpemUgbGltaXRzLiBTZWUgYi82MjExNTY2MC4KICAgIGxldCBwb3NpdGlvbiA9IDA7CiAgICB3aGlsZSAocG9zaXRpb24gPCBmaWxlRGF0YS5ieXRlTGVuZ3RoKSB7CiAgICAgIGNvbnN0IGxlbmd0aCA9IE1hdGgubWluKGZpbGVEYXRhLmJ5dGVMZW5ndGggLSBwb3NpdGlvbiwgTUFYX1BBWUxPQURfU0laRSk7CiAgICAgIGNvbnN0IGNodW5rID0gbmV3IFVpbnQ4QXJyYXkoZmlsZURhdGEsIHBvc2l0aW9uLCBsZW5ndGgpOwogICAgICBwb3NpdGlvbiArPSBsZW5ndGg7CgogICAgICBjb25zdCBiYXNlNjQgPSBidG9hKFN0cmluZy5mcm9tQ2hhckNvZGUuYXBwbHkobnVsbCwgY2h1bmspKTsKICAgICAgeWllbGQgewogICAgICAgIHJlc3BvbnNlOiB7CiAgICAgICAgICBhY3Rpb246ICdhcHBlbmQnLAogICAgICAgICAgZmlsZTogZmlsZS5uYW1lLAogICAgICAgICAgZGF0YTogYmFzZTY0LAogICAgICAgIH0sCiAgICAgIH07CiAgICAgIHBlcmNlbnQudGV4dENvbnRlbnQgPQogICAgICAgICAgYCR7TWF0aC5yb3VuZCgocG9zaXRpb24gLyBmaWxlRGF0YS5ieXRlTGVuZ3RoKSAqIDEwMCl9JSBkb25lYDsKICAgIH0KICB9CgogIC8vIEFsbCBkb25lLgogIHlpZWxkIHsKICAgIHJlc3BvbnNlOiB7CiAgICAgIGFjdGlvbjogJ2NvbXBsZXRlJywKICAgIH0KICB9Owp9CgpzY29wZS5nb29nbGUgPSBzY29wZS5nb29nbGUgfHwge307CnNjb3BlLmdvb2dsZS5jb2xhYiA9IHNjb3BlLmdvb2dsZS5jb2xhYiB8fCB7fTsKc2NvcGUuZ29vZ2xlLmNvbGFiLl9maWxlcyA9IHsKICBfdXBsb2FkRmlsZXMsCiAgX3VwbG9hZEZpbGVzQ29udGludWUsCn07Cn0pKHNlbGYpOwo=",
              "ok": true,
              "headers": [
                [
                  "content-type",
                  "application/javascript"
                ]
              ],
              "status": 200,
              "status_text": "OK"
            }
          },
          "base_uri": "https://localhost:8080/",
          "height": 41
        }
      },
      "source": [
        "from google.colab import files\n",
        "uploaded = files.upload()"
      ],
      "execution_count": 9,
      "outputs": [
        {
          "output_type": "display_data",
          "data": {
            "text/html": [
              "\n",
              "     <input type=\"file\" id=\"files-f85324d7-7b0b-42d7-a30d-fad641dd14e8\" name=\"files[]\" multiple disabled />\n",
              "     <output id=\"result-f85324d7-7b0b-42d7-a30d-fad641dd14e8\">\n",
              "      Upload widget is only available when the cell has been executed in the\n",
              "      current browser session. Please rerun this cell to enable.\n",
              "      </output>\n",
              "      <script src=\"/nbextensions/google.colab/files.js\"></script> "
            ],
            "text/plain": [
              "<IPython.core.display.HTML object>"
            ]
          },
          "metadata": {
            "tags": []
          }
        }
      ]
    },
    {
      "cell_type": "markdown",
      "metadata": {
        "id": "kn-P-e_hjvK5",
        "colab_type": "text"
      },
      "source": [
        "### Python executable\n",
        "\n",
        "Can run scripts, REPL and even run python statements with -c flag and semicolon to string together multiple statements"
      ]
    },
    {
      "cell_type": "code",
      "metadata": {
        "id": "p2aDegQxjegv",
        "colab_type": "code",
        "outputId": "c2bc60f2-f36d-4ee7-abda-0f8c5c560385",
        "colab": {
          "base_uri": "https://localhost:8080/",
          "height": 35
        }
      },
      "source": [
        "!python -c \"import os;print(os.listdir())\""
      ],
      "execution_count": 34,
      "outputs": [
        {
          "output_type": "stream",
          "text": [
            "['.config', 'gdrive', 'sample_data']\n"
          ],
          "name": "stdout"
        }
      ]
    },
    {
      "cell_type": "code",
      "metadata": {
        "id": "WaXhDeUM_49R",
        "colab_type": "code",
        "outputId": "740296f8-5111-4def-dc0b-ddfc0fbc4ac2",
        "colab": {
          "base_uri": "https://localhost:8080/",
          "height": 72
        }
      },
      "source": [
        "!ls -l"
      ],
      "execution_count": 35,
      "outputs": [
        {
          "output_type": "stream",
          "text": [
            "total 8\n",
            "drwx------ 4 root root 4096 Jan  4 16:06 gdrive\n",
            "drwxr-xr-x 1 root root 4096 Dec 18 16:52 sample_data\n"
          ],
          "name": "stdout"
        }
      ]
    },
    {
      "cell_type": "code",
      "metadata": {
        "id": "58zCAVUC_8JP",
        "colab_type": "code",
        "outputId": "1ce4c8c8-65b1-46ab-d08d-1bb22e24df6c",
        "colab": {
          "base_uri": "https://localhost:8080/",
          "height": 237
        }
      },
      "source": [
        "!pip install yellowbrick"
      ],
      "execution_count": 36,
      "outputs": [
        {
          "output_type": "stream",
          "text": [
            "Requirement already satisfied: yellowbrick in /usr/local/lib/python3.6/dist-packages (0.9.1)\n",
            "Requirement already satisfied: scipy>=1.0.0 in /usr/local/lib/python3.6/dist-packages (from yellowbrick) (1.3.3)\n",
            "Requirement already satisfied: scikit-learn>=0.20 in /usr/local/lib/python3.6/dist-packages (from yellowbrick) (0.21.3)\n",
            "Requirement already satisfied: cycler>=0.10.0 in /usr/local/lib/python3.6/dist-packages (from yellowbrick) (0.10.0)\n",
            "Requirement already satisfied: matplotlib!=3.0.0,>=1.5.1 in /usr/local/lib/python3.6/dist-packages (from yellowbrick) (3.1.2)\n",
            "Requirement already satisfied: numpy>=1.13.0 in /usr/local/lib/python3.6/dist-packages (from yellowbrick) (1.17.4)\n",
            "Requirement already satisfied: joblib>=0.11 in /usr/local/lib/python3.6/dist-packages (from scikit-learn>=0.20->yellowbrick) (0.14.1)\n",
            "Requirement already satisfied: six in /usr/local/lib/python3.6/dist-packages (from cycler>=0.10.0->yellowbrick) (1.12.0)\n",
            "Requirement already satisfied: pyparsing!=2.0.4,!=2.1.2,!=2.1.6,>=2.0.1 in /usr/local/lib/python3.6/dist-packages (from matplotlib!=3.0.0,>=1.5.1->yellowbrick) (2.4.5)\n",
            "Requirement already satisfied: kiwisolver>=1.0.1 in /usr/local/lib/python3.6/dist-packages (from matplotlib!=3.0.0,>=1.5.1->yellowbrick) (1.1.0)\n",
            "Requirement already satisfied: python-dateutil>=2.1 in /usr/local/lib/python3.6/dist-packages (from matplotlib!=3.0.0,>=1.5.1->yellowbrick) (2.6.1)\n",
            "Requirement already satisfied: setuptools in /usr/local/lib/python3.6/dist-packages (from kiwisolver>=1.0.1->matplotlib!=3.0.0,>=1.5.1->yellowbrick) (42.0.2)\n"
          ],
          "name": "stdout"
        }
      ]
    },
    {
      "cell_type": "code",
      "metadata": {
        "id": "egHxTJUGNYCA",
        "colab_type": "code",
        "outputId": "a312fe1e-802f-4767-f5ce-e0e1df9e6c19",
        "colab": {
          "base_uri": "https://localhost:8080/",
          "height": 72
        }
      },
      "source": [
        "#this is how you capture input to a program\n",
        "import sys;sys.argv"
      ],
      "execution_count": 37,
      "outputs": [
        {
          "output_type": "execute_result",
          "data": {
            "text/plain": [
              "['/usr/local/lib/python3.6/dist-packages/ipykernel_launcher.py',\n",
              " '-f',\n",
              " '/root/.local/share/jupyter/runtime/kernel-7aea15f5-079a-4b3e-857b-798d4acfa11c.json']"
            ]
          },
          "metadata": {
            "tags": []
          },
          "execution_count": 37
        }
      ]
    },
    {
      "cell_type": "markdown",
      "metadata": {
        "id": "gG6bUpCQcWQe",
        "colab_type": "text"
      },
      "source": [
        "### GitHub Integration\n",
        "\n",
        "\n"
      ]
    },
    {
      "cell_type": "markdown",
      "metadata": {
        "id": "JwifSk6ya1g1",
        "colab_type": "text"
      },
      "source": [
        "\n",
        "*   **Load Public Notebooks from Github**\n",
        "\n",
        "*Original URL*:  https://github.com/paiml/python_for_datascience/blob/master/Lesson2_Python_For_Data_Science_Introduction_to_Colab.ipynb\n",
        "\n",
        "*Colab Load UR*L: \n",
        "https://colab.research.google.com/github.com/paiml/python_for_datascience/blob/master/Lesson2_Python_For_Data_Science_Introduction_to_Colab.ipynb\n",
        "\n",
        "\n",
        "*   **Browsing Github Repos**\n",
        "\n",
        "*All of Github*:\n",
        "\n",
        "http://colab.research.google.com/github\n",
        "\n",
        "*An organization or user*\n",
        "\n",
        "http://colab.research.google.com/github/paiml/\n",
        "\n",
        "* Open in Colab Badge\n",
        "\n",
        "[![Open In Colab](https://colab.research.google.com/assets/colab-badge.svg)](https://colab.research.google.com/github/paiml/python_for_datascience/blob/master/Lesson2_Python_For_Data_Science_Introduction_to_Colab.ipynb)\n",
        "\n",
        "* **Saving to Github**\n",
        "\n",
        " - Github repo\n",
        " - Gist\n",
        "\n"
      ]
    },
    {
      "cell_type": "markdown",
      "metadata": {
        "id": "yHdWIarsN850",
        "colab_type": "text"
      },
      "source": [
        "## 1.2 Managing Colab Documents\n",
        "\n"
      ]
    },
    {
      "cell_type": "markdown",
      "metadata": {
        "id": "hPWO_zyRopXN",
        "colab_type": "text"
      },
      "source": [
        "### Mount GDrive Workflow\n"
      ]
    },
    {
      "cell_type": "code",
      "metadata": {
        "id": "XI73HZNLobp4",
        "colab_type": "code",
        "outputId": "ba21e259-f611-477b-dd02-39f5ff78f425",
        "colab": {
          "base_uri": "https://localhost:8080/",
          "height": 129
        }
      },
      "source": [
        "from google.colab import drive\n",
        "drive.mount('/content/gdrive', force_remount=True)"
      ],
      "execution_count": 28,
      "outputs": [
        {
          "output_type": "stream",
          "text": [
            "Go to this URL in a browser: https://accounts.google.com/o/oauth2/auth?client_id=947318989803-6bn6qk8qdgf4n4g3pfee6491hc0brc4i.apps.googleusercontent.com&redirect_uri=urn%3aietf%3awg%3aoauth%3a2.0%3aoob&response_type=code&scope=email%20https%3a%2f%2fwww.googleapis.com%2fauth%2fdocs.test%20https%3a%2f%2fwww.googleapis.com%2fauth%2fdrive%20https%3a%2f%2fwww.googleapis.com%2fauth%2fdrive.photos.readonly%20https%3a%2f%2fwww.googleapis.com%2fauth%2fpeopleapi.readonly\n",
            "\n",
            "Enter your authorization code:\n",
            "··········\n",
            "Mounted at /content/gdrive\n"
          ],
          "name": "stdout"
        }
      ]
    },
    {
      "cell_type": "code",
      "metadata": {
        "id": "UNyzZwgmoxwm",
        "colab_type": "code",
        "outputId": "1006668c-4ba3-4e5a-a846-451d0c103a2d",
        "colab": {
          "base_uri": "https://localhost:8080/",
          "height": 641
        }
      },
      "source": [
        "import os;os.listdir(\"/content/gdrive/My Drive\")"
      ],
      "execution_count": 32,
      "outputs": [
        {
          "output_type": "execute_result",
          "data": {
            "text/plain": [
              "['CCNP_ROUTE_642-902_Official_Certification_Guide.pdf',\n",
              " 'CCNP.rar',\n",
              " 'Billing Application.zip',\n",
              " 'MP-Unified LAN-WAN-WLAN-IPT Doc (2).pdf',\n",
              " 'Expl_Rtr_chapter_06_VLSM_CIDR.zip',\n",
              " 'ch7_8_9_10_11 (2).zip',\n",
              " 'Switching.rar',\n",
              " 'FreightOS Network Infrastructure Diagram.pdf',\n",
              " 'all essays.docx',\n",
              " 'REPEATED ESSAYS IN PTE.pdf',\n",
              " 'Re-order paragraphs.docx',\n",
              " 'summary nav (1).docx',\n",
              " 'writing assignment .docx',\n",
              " 'Google Photos',\n",
              " 'PTE_Academic_Practice_Tests_Plus',\n",
              " 'Offline practice  Tests with solutions',\n",
              " 'Mc millan',\n",
              " 'PTE_ACADEMIC.zip',\n",
              " '4433.xps',\n",
              " 'CCE.gsheet',\n",
              " 'masterkreatif.com-4setb3l.rar',\n",
              " 'Invoice AMVL118.pdf',\n",
              " 'Tenders 2017.gsheet',\n",
              " 'WhatsApp Chat with Rula 😴.txt',\n",
              " 'Ansible.gdoc',\n",
              " 'Resume-Samir diab.pdf',\n",
              " 'Copy of battle_brothers_game-2018-Nov-30-0102.rar',\n",
              " '__scraped.txt',\n",
              " 'Tenders 2019.gsheet',\n",
              " 'ORS_R18131914.html',\n",
              " 'Fruit salad 40.gsheet',\n",
              " 'Copy of Factorio.v0.17.32.rar',\n",
              " 'gpu.gdoc',\n",
              " 'Colab Notebooks']"
            ]
          },
          "metadata": {
            "tags": []
          },
          "execution_count": 32
        }
      ]
    },
    {
      "cell_type": "markdown",
      "metadata": {
        "id": "bq4VmHjPpMOR",
        "colab_type": "text"
      },
      "source": [
        "#### Load AWS API Keys (Colab Notebook)"
      ]
    },
    {
      "cell_type": "markdown",
      "metadata": {
        "id": "aWrzIk7WpRoh",
        "colab_type": "text"
      },
      "source": [
        "Put keys in local or remote GDrive:  \n",
        "\n",
        "`cp ~/.aws/credentials /Users/myname/Google\\ Drive/awsml/`"
      ]
    },
    {
      "cell_type": "markdown",
      "metadata": {
        "id": "fYu0ekUlqPk6",
        "colab_type": "text"
      },
      "source": [
        "#### Install Boto"
      ]
    },
    {
      "cell_type": "code",
      "metadata": {
        "id": "dJDDrUkWrYRY",
        "colab_type": "code",
        "colab": {}
      },
      "source": [
        "!pip -q install boto3\n"
      ],
      "execution_count": 0,
      "outputs": []
    },
    {
      "cell_type": "markdown",
      "metadata": {
        "id": "FpJhrpSQsK5E",
        "colab_type": "text"
      },
      "source": [
        "#### Create API Config"
      ]
    },
    {
      "cell_type": "code",
      "metadata": {
        "id": "QxRwGOZtsN0-",
        "colab_type": "code",
        "colab": {}
      },
      "source": [
        "!mkdir -p ~/.aws &&\\\n",
        "  cp /content/gdrive/My\\ Drive/awsml/credentials ~/.aws/credentials "
      ],
      "execution_count": 0,
      "outputs": []
    },
    {
      "cell_type": "markdown",
      "metadata": {
        "id": "Kj977UW3rph_",
        "colab_type": "text"
      },
      "source": [
        "#### Test Comprehend API Call"
      ]
    },
    {
      "cell_type": "code",
      "metadata": {
        "id": "P-A8Cia-raT0",
        "colab_type": "code",
        "outputId": "f0924333-ec51-4112-be0f-db042bef787f",
        "colab": {
          "base_uri": "https://localhost:8080/",
          "height": 235
        }
      },
      "source": [
        "import boto3\n",
        "comprehend = boto3.client(service_name='comprehend', region_name=\"us-east-1\")\n",
        "text = \"There is smoke in San Francisco and it makes me angry\"\n",
        "comprehend.detect_sentiment(Text=text, LanguageCode='en')"
      ],
      "execution_count": 0,
      "outputs": [
        {
          "output_type": "execute_result",
          "data": {
            "text/plain": [
              "{'ResponseMetadata': {'HTTPHeaders': {'connection': 'keep-alive',\n",
              "   'content-length': '164',\n",
              "   'content-type': 'application/x-amz-json-1.1',\n",
              "   'date': 'Wed, 20 Feb 2019 01:06:20 GMT',\n",
              "   'x-amzn-requestid': 'bbb0aadb-34ab-11e9-a354-03fa70a71749'},\n",
              "  'HTTPStatusCode': 200,\n",
              "  'RequestId': 'bbb0aadb-34ab-11e9-a354-03fa70a71749',\n",
              "  'RetryAttempts': 0},\n",
              " 'Sentiment': 'NEGATIVE',\n",
              " 'SentimentScore': {'Mixed': 0.010819978080689907,\n",
              "  'Negative': 0.9212133288383484,\n",
              "  'Neutral': 0.06721948087215424,\n",
              "  'Positive': 0.0007472822326235473}}"
            ]
          },
          "metadata": {
            "tags": []
          },
          "execution_count": 4
        }
      ]
    },
    {
      "cell_type": "markdown",
      "metadata": {
        "id": "0IpVk_AVc4fM",
        "colab_type": "text"
      },
      "source": [
        ""
      ]
    },
    {
      "cell_type": "markdown",
      "metadata": {
        "id": "jYjzO6a4N88q",
        "colab_type": "text"
      },
      "source": [
        "## 1.3 Using magic functions\n"
      ]
    },
    {
      "cell_type": "markdown",
      "metadata": {
        "id": "Zf35CYV9PrjS",
        "colab_type": "text"
      },
      "source": [
        "### %timeit"
      ]
    },
    {
      "cell_type": "code",
      "metadata": {
        "id": "PRj8G5D0DDQz",
        "colab_type": "code",
        "colab": {}
      },
      "source": [
        "import numpy as np"
      ],
      "execution_count": 0,
      "outputs": []
    },
    {
      "cell_type": "code",
      "metadata": {
        "id": "tMpMJH0rfAEg",
        "colab_type": "code",
        "outputId": "974fd173-e9d1-476c-e45a-d09ec98dd201",
        "colab": {
          "base_uri": "https://localhost:8080/",
          "height": 119
        }
      },
      "source": [
        "too_many_decimals = 1.912345897\n",
        "\n",
        "print(\"built in Python Round\")\n",
        "%timeit round(too_many_decimals, 2)\n",
        "\n",
        "print(\"numpy round\")\n",
        "%timeit np.round(too_many_decimals, 2)\n"
      ],
      "execution_count": 0,
      "outputs": [
        {
          "output_type": "stream",
          "text": [
            "built in Python Round\n",
            "The slowest run took 13.28 times longer than the fastest. This could mean that an intermediate result is being cached.\n",
            "1000000 loops, best of 3: 507 ns per loop\n",
            "numpy round\n",
            "The slowest run took 9.87 times longer than the fastest. This could mean that an intermediate result is being cached.\n",
            "100000 loops, best of 3: 8.09 µs per loop\n"
          ],
          "name": "stdout"
        }
      ]
    },
    {
      "cell_type": "markdown",
      "metadata": {
        "id": "p_KLutZKq5yN",
        "colab_type": "text"
      },
      "source": [
        "### %alias"
      ]
    },
    {
      "cell_type": "code",
      "metadata": {
        "id": "jyIZLH6UpMou",
        "colab_type": "code",
        "colab": {}
      },
      "source": [
        "alias lscsv ls -l sample_data/*.csv "
      ],
      "execution_count": 0,
      "outputs": []
    },
    {
      "cell_type": "code",
      "metadata": {
        "id": "BNJ6bKtGpVn3",
        "colab_type": "code",
        "outputId": "27ce724d-3e94-41d8-9d0c-fb93905e6867",
        "colab": {
          "base_uri": "https://localhost:8080/",
          "height": 85
        }
      },
      "source": [
        "lscsv"
      ],
      "execution_count": 0,
      "outputs": [
        {
          "output_type": "stream",
          "text": [
            "-rw-r--r-- 1 root root   301141 Feb  6 17:31 sample_data/california_housing_test.csv\n",
            "-rw-r--r-- 1 root root  1706430 Feb  6 17:31 sample_data/california_housing_train.csv\n",
            "-rw-r--r-- 1 root root 18289443 Feb  6 17:31 sample_data/mnist_test.csv\n",
            "-rw-r--r-- 1 root root 36523880 Feb  6 17:31 sample_data/mnist_train_small.csv\n"
          ],
          "name": "stdout"
        }
      ]
    },
    {
      "cell_type": "markdown",
      "metadata": {
        "id": "AE1cfp41rcwL",
        "colab_type": "text"
      },
      "source": [
        "[Reference These]\n",
        "https://ipython.readthedocs.io/en/stable/interactive/magics.html"
      ]
    },
    {
      "cell_type": "markdown",
      "metadata": {
        "id": "MnsQIiDurIPp",
        "colab_type": "text"
      },
      "source": [
        "### %who"
      ]
    },
    {
      "cell_type": "markdown",
      "metadata": {
        "id": "ljy17rdjrWD9",
        "colab_type": "text"
      },
      "source": [
        "Print variables"
      ]
    },
    {
      "cell_type": "code",
      "metadata": {
        "id": "ACyoq3IsrNZV",
        "colab_type": "code",
        "outputId": "fc9f9dc3-811a-4d14-ea9b-534ea7e9feeb",
        "colab": {
          "base_uri": "https://localhost:8080/",
          "height": 510
        }
      },
      "source": [
        "who_ls"
      ],
      "execution_count": 0,
      "outputs": [
        {
          "output_type": "execute_result",
          "data": {
            "text/plain": [
              "['Use_Python',\n",
              " 'alt',\n",
              " 'boto3',\n",
              " 'cars',\n",
              " 'comprehend',\n",
              " 'data',\n",
              " 'data_test',\n",
              " 'data_train',\n",
              " 'df',\n",
              " 'drive',\n",
              " 'files',\n",
              " 'n_features_test',\n",
              " 'n_features_train',\n",
              " 'n_samples_test',\n",
              " 'n_samples_train',\n",
              " 'np',\n",
              " 'os',\n",
              " 'pd',\n",
              " 'plt',\n",
              " 'show_img',\n",
              " 'sys',\n",
              " 'test_path',\n",
              " 'text',\n",
              " 'too_many_decimals',\n",
              " 'train_path',\n",
              " 'uploaded',\n",
              " 'x_test',\n",
              " 'x_train',\n",
              " 'y_train']"
            ]
          },
          "metadata": {
            "tags": []
          },
          "execution_count": 33
        }
      ]
    },
    {
      "cell_type": "code",
      "metadata": {
        "id": "MURtyzAMrZ1Z",
        "colab_type": "code",
        "outputId": "8e57937b-a5b0-472e-8c71-0dc64dcb31a1",
        "colab": {
          "base_uri": "https://localhost:8080/",
          "height": 1969
        }
      },
      "source": [
        "cars"
      ],
      "execution_count": 0,
      "outputs": [
        {
          "output_type": "execute_result",
          "data": {
            "text/html": [
              "<div>\n",
              "<style scoped>\n",
              "    .dataframe tbody tr th:only-of-type {\n",
              "        vertical-align: middle;\n",
              "    }\n",
              "\n",
              "    .dataframe tbody tr th {\n",
              "        vertical-align: top;\n",
              "    }\n",
              "\n",
              "    .dataframe thead th {\n",
              "        text-align: right;\n",
              "    }\n",
              "</style>\n",
              "<table border=\"1\" class=\"dataframe\">\n",
              "  <thead>\n",
              "    <tr style=\"text-align: right;\">\n",
              "      <th></th>\n",
              "      <th>Acceleration</th>\n",
              "      <th>Cylinders</th>\n",
              "      <th>Displacement</th>\n",
              "      <th>Horsepower</th>\n",
              "      <th>Miles_per_Gallon</th>\n",
              "      <th>Name</th>\n",
              "      <th>Origin</th>\n",
              "      <th>Weight_in_lbs</th>\n",
              "      <th>Year</th>\n",
              "    </tr>\n",
              "  </thead>\n",
              "  <tbody>\n",
              "    <tr>\n",
              "      <th>0</th>\n",
              "      <td>12.0</td>\n",
              "      <td>8</td>\n",
              "      <td>307.0</td>\n",
              "      <td>130.0</td>\n",
              "      <td>18.0</td>\n",
              "      <td>chevrolet chevelle malibu</td>\n",
              "      <td>USA</td>\n",
              "      <td>3504</td>\n",
              "      <td>1970-01-01</td>\n",
              "    </tr>\n",
              "    <tr>\n",
              "      <th>1</th>\n",
              "      <td>11.5</td>\n",
              "      <td>8</td>\n",
              "      <td>350.0</td>\n",
              "      <td>165.0</td>\n",
              "      <td>15.0</td>\n",
              "      <td>buick skylark 320</td>\n",
              "      <td>USA</td>\n",
              "      <td>3693</td>\n",
              "      <td>1970-01-01</td>\n",
              "    </tr>\n",
              "    <tr>\n",
              "      <th>2</th>\n",
              "      <td>11.0</td>\n",
              "      <td>8</td>\n",
              "      <td>318.0</td>\n",
              "      <td>150.0</td>\n",
              "      <td>18.0</td>\n",
              "      <td>plymouth satellite</td>\n",
              "      <td>USA</td>\n",
              "      <td>3436</td>\n",
              "      <td>1970-01-01</td>\n",
              "    </tr>\n",
              "    <tr>\n",
              "      <th>3</th>\n",
              "      <td>12.0</td>\n",
              "      <td>8</td>\n",
              "      <td>304.0</td>\n",
              "      <td>150.0</td>\n",
              "      <td>16.0</td>\n",
              "      <td>amc rebel sst</td>\n",
              "      <td>USA</td>\n",
              "      <td>3433</td>\n",
              "      <td>1970-01-01</td>\n",
              "    </tr>\n",
              "    <tr>\n",
              "      <th>4</th>\n",
              "      <td>10.5</td>\n",
              "      <td>8</td>\n",
              "      <td>302.0</td>\n",
              "      <td>140.0</td>\n",
              "      <td>17.0</td>\n",
              "      <td>ford torino</td>\n",
              "      <td>USA</td>\n",
              "      <td>3449</td>\n",
              "      <td>1970-01-01</td>\n",
              "    </tr>\n",
              "    <tr>\n",
              "      <th>5</th>\n",
              "      <td>10.0</td>\n",
              "      <td>8</td>\n",
              "      <td>429.0</td>\n",
              "      <td>198.0</td>\n",
              "      <td>15.0</td>\n",
              "      <td>ford galaxie 500</td>\n",
              "      <td>USA</td>\n",
              "      <td>4341</td>\n",
              "      <td>1970-01-01</td>\n",
              "    </tr>\n",
              "    <tr>\n",
              "      <th>6</th>\n",
              "      <td>9.0</td>\n",
              "      <td>8</td>\n",
              "      <td>454.0</td>\n",
              "      <td>220.0</td>\n",
              "      <td>14.0</td>\n",
              "      <td>chevrolet impala</td>\n",
              "      <td>USA</td>\n",
              "      <td>4354</td>\n",
              "      <td>1970-01-01</td>\n",
              "    </tr>\n",
              "    <tr>\n",
              "      <th>7</th>\n",
              "      <td>8.5</td>\n",
              "      <td>8</td>\n",
              "      <td>440.0</td>\n",
              "      <td>215.0</td>\n",
              "      <td>14.0</td>\n",
              "      <td>plymouth fury iii</td>\n",
              "      <td>USA</td>\n",
              "      <td>4312</td>\n",
              "      <td>1970-01-01</td>\n",
              "    </tr>\n",
              "    <tr>\n",
              "      <th>8</th>\n",
              "      <td>10.0</td>\n",
              "      <td>8</td>\n",
              "      <td>455.0</td>\n",
              "      <td>225.0</td>\n",
              "      <td>14.0</td>\n",
              "      <td>pontiac catalina</td>\n",
              "      <td>USA</td>\n",
              "      <td>4425</td>\n",
              "      <td>1970-01-01</td>\n",
              "    </tr>\n",
              "    <tr>\n",
              "      <th>9</th>\n",
              "      <td>8.5</td>\n",
              "      <td>8</td>\n",
              "      <td>390.0</td>\n",
              "      <td>190.0</td>\n",
              "      <td>15.0</td>\n",
              "      <td>amc ambassador dpl</td>\n",
              "      <td>USA</td>\n",
              "      <td>3850</td>\n",
              "      <td>1970-01-01</td>\n",
              "    </tr>\n",
              "    <tr>\n",
              "      <th>10</th>\n",
              "      <td>17.5</td>\n",
              "      <td>4</td>\n",
              "      <td>133.0</td>\n",
              "      <td>115.0</td>\n",
              "      <td>NaN</td>\n",
              "      <td>citroen ds-21 pallas</td>\n",
              "      <td>Europe</td>\n",
              "      <td>3090</td>\n",
              "      <td>1970-01-01</td>\n",
              "    </tr>\n",
              "    <tr>\n",
              "      <th>11</th>\n",
              "      <td>11.5</td>\n",
              "      <td>8</td>\n",
              "      <td>350.0</td>\n",
              "      <td>165.0</td>\n",
              "      <td>NaN</td>\n",
              "      <td>chevrolet chevelle concours (sw)</td>\n",
              "      <td>USA</td>\n",
              "      <td>4142</td>\n",
              "      <td>1970-01-01</td>\n",
              "    </tr>\n",
              "    <tr>\n",
              "      <th>12</th>\n",
              "      <td>11.0</td>\n",
              "      <td>8</td>\n",
              "      <td>351.0</td>\n",
              "      <td>153.0</td>\n",
              "      <td>NaN</td>\n",
              "      <td>ford torino (sw)</td>\n",
              "      <td>USA</td>\n",
              "      <td>4034</td>\n",
              "      <td>1970-01-01</td>\n",
              "    </tr>\n",
              "    <tr>\n",
              "      <th>13</th>\n",
              "      <td>10.5</td>\n",
              "      <td>8</td>\n",
              "      <td>383.0</td>\n",
              "      <td>175.0</td>\n",
              "      <td>NaN</td>\n",
              "      <td>plymouth satellite (sw)</td>\n",
              "      <td>USA</td>\n",
              "      <td>4166</td>\n",
              "      <td>1970-01-01</td>\n",
              "    </tr>\n",
              "    <tr>\n",
              "      <th>14</th>\n",
              "      <td>11.0</td>\n",
              "      <td>8</td>\n",
              "      <td>360.0</td>\n",
              "      <td>175.0</td>\n",
              "      <td>NaN</td>\n",
              "      <td>amc rebel sst (sw)</td>\n",
              "      <td>USA</td>\n",
              "      <td>3850</td>\n",
              "      <td>1970-01-01</td>\n",
              "    </tr>\n",
              "    <tr>\n",
              "      <th>15</th>\n",
              "      <td>10.0</td>\n",
              "      <td>8</td>\n",
              "      <td>383.0</td>\n",
              "      <td>170.0</td>\n",
              "      <td>15.0</td>\n",
              "      <td>dodge challenger se</td>\n",
              "      <td>USA</td>\n",
              "      <td>3563</td>\n",
              "      <td>1970-01-01</td>\n",
              "    </tr>\n",
              "    <tr>\n",
              "      <th>16</th>\n",
              "      <td>8.0</td>\n",
              "      <td>8</td>\n",
              "      <td>340.0</td>\n",
              "      <td>160.0</td>\n",
              "      <td>14.0</td>\n",
              "      <td>plymouth 'cuda 340</td>\n",
              "      <td>USA</td>\n",
              "      <td>3609</td>\n",
              "      <td>1970-01-01</td>\n",
              "    </tr>\n",
              "    <tr>\n",
              "      <th>17</th>\n",
              "      <td>8.0</td>\n",
              "      <td>8</td>\n",
              "      <td>302.0</td>\n",
              "      <td>140.0</td>\n",
              "      <td>NaN</td>\n",
              "      <td>ford mustang boss 302</td>\n",
              "      <td>USA</td>\n",
              "      <td>3353</td>\n",
              "      <td>1970-01-01</td>\n",
              "    </tr>\n",
              "    <tr>\n",
              "      <th>18</th>\n",
              "      <td>9.5</td>\n",
              "      <td>8</td>\n",
              "      <td>400.0</td>\n",
              "      <td>150.0</td>\n",
              "      <td>15.0</td>\n",
              "      <td>chevrolet monte carlo</td>\n",
              "      <td>USA</td>\n",
              "      <td>3761</td>\n",
              "      <td>1970-01-01</td>\n",
              "    </tr>\n",
              "    <tr>\n",
              "      <th>19</th>\n",
              "      <td>10.0</td>\n",
              "      <td>8</td>\n",
              "      <td>455.0</td>\n",
              "      <td>225.0</td>\n",
              "      <td>14.0</td>\n",
              "      <td>buick estate wagon (sw)</td>\n",
              "      <td>USA</td>\n",
              "      <td>3086</td>\n",
              "      <td>1970-01-01</td>\n",
              "    </tr>\n",
              "    <tr>\n",
              "      <th>20</th>\n",
              "      <td>15.0</td>\n",
              "      <td>4</td>\n",
              "      <td>113.0</td>\n",
              "      <td>95.0</td>\n",
              "      <td>24.0</td>\n",
              "      <td>toyota corona mark ii</td>\n",
              "      <td>Japan</td>\n",
              "      <td>2372</td>\n",
              "      <td>1970-01-01</td>\n",
              "    </tr>\n",
              "    <tr>\n",
              "      <th>21</th>\n",
              "      <td>15.5</td>\n",
              "      <td>6</td>\n",
              "      <td>198.0</td>\n",
              "      <td>95.0</td>\n",
              "      <td>22.0</td>\n",
              "      <td>plymouth duster</td>\n",
              "      <td>USA</td>\n",
              "      <td>2833</td>\n",
              "      <td>1970-01-01</td>\n",
              "    </tr>\n",
              "    <tr>\n",
              "      <th>22</th>\n",
              "      <td>15.5</td>\n",
              "      <td>6</td>\n",
              "      <td>199.0</td>\n",
              "      <td>97.0</td>\n",
              "      <td>18.0</td>\n",
              "      <td>amc hornet</td>\n",
              "      <td>USA</td>\n",
              "      <td>2774</td>\n",
              "      <td>1970-01-01</td>\n",
              "    </tr>\n",
              "    <tr>\n",
              "      <th>23</th>\n",
              "      <td>16.0</td>\n",
              "      <td>6</td>\n",
              "      <td>200.0</td>\n",
              "      <td>85.0</td>\n",
              "      <td>21.0</td>\n",
              "      <td>ford maverick</td>\n",
              "      <td>USA</td>\n",
              "      <td>2587</td>\n",
              "      <td>1970-01-01</td>\n",
              "    </tr>\n",
              "    <tr>\n",
              "      <th>24</th>\n",
              "      <td>14.5</td>\n",
              "      <td>4</td>\n",
              "      <td>97.0</td>\n",
              "      <td>88.0</td>\n",
              "      <td>27.0</td>\n",
              "      <td>datsun pl510</td>\n",
              "      <td>Japan</td>\n",
              "      <td>2130</td>\n",
              "      <td>1970-01-01</td>\n",
              "    </tr>\n",
              "    <tr>\n",
              "      <th>25</th>\n",
              "      <td>20.5</td>\n",
              "      <td>4</td>\n",
              "      <td>97.0</td>\n",
              "      <td>46.0</td>\n",
              "      <td>26.0</td>\n",
              "      <td>volkswagen 1131 deluxe sedan</td>\n",
              "      <td>Europe</td>\n",
              "      <td>1835</td>\n",
              "      <td>1970-01-01</td>\n",
              "    </tr>\n",
              "    <tr>\n",
              "      <th>26</th>\n",
              "      <td>17.5</td>\n",
              "      <td>4</td>\n",
              "      <td>110.0</td>\n",
              "      <td>87.0</td>\n",
              "      <td>25.0</td>\n",
              "      <td>peugeot 504</td>\n",
              "      <td>Europe</td>\n",
              "      <td>2672</td>\n",
              "      <td>1970-01-01</td>\n",
              "    </tr>\n",
              "    <tr>\n",
              "      <th>27</th>\n",
              "      <td>14.5</td>\n",
              "      <td>4</td>\n",
              "      <td>107.0</td>\n",
              "      <td>90.0</td>\n",
              "      <td>24.0</td>\n",
              "      <td>audi 100 ls</td>\n",
              "      <td>Europe</td>\n",
              "      <td>2430</td>\n",
              "      <td>1970-01-01</td>\n",
              "    </tr>\n",
              "    <tr>\n",
              "      <th>28</th>\n",
              "      <td>17.5</td>\n",
              "      <td>4</td>\n",
              "      <td>104.0</td>\n",
              "      <td>95.0</td>\n",
              "      <td>25.0</td>\n",
              "      <td>saab 99e</td>\n",
              "      <td>Europe</td>\n",
              "      <td>2375</td>\n",
              "      <td>1970-01-01</td>\n",
              "    </tr>\n",
              "    <tr>\n",
              "      <th>29</th>\n",
              "      <td>12.5</td>\n",
              "      <td>4</td>\n",
              "      <td>121.0</td>\n",
              "      <td>113.0</td>\n",
              "      <td>26.0</td>\n",
              "      <td>bmw 2002</td>\n",
              "      <td>Europe</td>\n",
              "      <td>2234</td>\n",
              "      <td>1970-01-01</td>\n",
              "    </tr>\n",
              "    <tr>\n",
              "      <th>...</th>\n",
              "      <td>...</td>\n",
              "      <td>...</td>\n",
              "      <td>...</td>\n",
              "      <td>...</td>\n",
              "      <td>...</td>\n",
              "      <td>...</td>\n",
              "      <td>...</td>\n",
              "      <td>...</td>\n",
              "      <td>...</td>\n",
              "    </tr>\n",
              "    <tr>\n",
              "      <th>376</th>\n",
              "      <td>18.6</td>\n",
              "      <td>4</td>\n",
              "      <td>112.0</td>\n",
              "      <td>88.0</td>\n",
              "      <td>27.0</td>\n",
              "      <td>chevrolet cavalier wagon</td>\n",
              "      <td>USA</td>\n",
              "      <td>2640</td>\n",
              "      <td>1982-01-01</td>\n",
              "    </tr>\n",
              "    <tr>\n",
              "      <th>377</th>\n",
              "      <td>18.0</td>\n",
              "      <td>4</td>\n",
              "      <td>112.0</td>\n",
              "      <td>88.0</td>\n",
              "      <td>34.0</td>\n",
              "      <td>chevrolet cavalier 2-door</td>\n",
              "      <td>USA</td>\n",
              "      <td>2395</td>\n",
              "      <td>1982-01-01</td>\n",
              "    </tr>\n",
              "    <tr>\n",
              "      <th>378</th>\n",
              "      <td>16.2</td>\n",
              "      <td>4</td>\n",
              "      <td>112.0</td>\n",
              "      <td>85.0</td>\n",
              "      <td>31.0</td>\n",
              "      <td>pontiac j2000 se hatchback</td>\n",
              "      <td>USA</td>\n",
              "      <td>2575</td>\n",
              "      <td>1982-01-01</td>\n",
              "    </tr>\n",
              "    <tr>\n",
              "      <th>379</th>\n",
              "      <td>16.0</td>\n",
              "      <td>4</td>\n",
              "      <td>135.0</td>\n",
              "      <td>84.0</td>\n",
              "      <td>29.0</td>\n",
              "      <td>dodge aries se</td>\n",
              "      <td>USA</td>\n",
              "      <td>2525</td>\n",
              "      <td>1982-01-01</td>\n",
              "    </tr>\n",
              "    <tr>\n",
              "      <th>380</th>\n",
              "      <td>18.0</td>\n",
              "      <td>4</td>\n",
              "      <td>151.0</td>\n",
              "      <td>90.0</td>\n",
              "      <td>27.0</td>\n",
              "      <td>pontiac phoenix</td>\n",
              "      <td>USA</td>\n",
              "      <td>2735</td>\n",
              "      <td>1982-01-01</td>\n",
              "    </tr>\n",
              "    <tr>\n",
              "      <th>381</th>\n",
              "      <td>16.4</td>\n",
              "      <td>4</td>\n",
              "      <td>140.0</td>\n",
              "      <td>92.0</td>\n",
              "      <td>24.0</td>\n",
              "      <td>ford fairmont futura</td>\n",
              "      <td>USA</td>\n",
              "      <td>2865</td>\n",
              "      <td>1982-01-01</td>\n",
              "    </tr>\n",
              "    <tr>\n",
              "      <th>382</th>\n",
              "      <td>20.5</td>\n",
              "      <td>4</td>\n",
              "      <td>151.0</td>\n",
              "      <td>NaN</td>\n",
              "      <td>23.0</td>\n",
              "      <td>amc concord dl</td>\n",
              "      <td>USA</td>\n",
              "      <td>3035</td>\n",
              "      <td>1982-01-01</td>\n",
              "    </tr>\n",
              "    <tr>\n",
              "      <th>383</th>\n",
              "      <td>15.3</td>\n",
              "      <td>4</td>\n",
              "      <td>105.0</td>\n",
              "      <td>74.0</td>\n",
              "      <td>36.0</td>\n",
              "      <td>volkswagen rabbit l</td>\n",
              "      <td>Europe</td>\n",
              "      <td>1980</td>\n",
              "      <td>1982-01-01</td>\n",
              "    </tr>\n",
              "    <tr>\n",
              "      <th>384</th>\n",
              "      <td>18.2</td>\n",
              "      <td>4</td>\n",
              "      <td>91.0</td>\n",
              "      <td>68.0</td>\n",
              "      <td>37.0</td>\n",
              "      <td>mazda glc custom l</td>\n",
              "      <td>Japan</td>\n",
              "      <td>2025</td>\n",
              "      <td>1982-01-01</td>\n",
              "    </tr>\n",
              "    <tr>\n",
              "      <th>385</th>\n",
              "      <td>17.6</td>\n",
              "      <td>4</td>\n",
              "      <td>91.0</td>\n",
              "      <td>68.0</td>\n",
              "      <td>31.0</td>\n",
              "      <td>mazda glc custom</td>\n",
              "      <td>Japan</td>\n",
              "      <td>1970</td>\n",
              "      <td>1982-01-01</td>\n",
              "    </tr>\n",
              "    <tr>\n",
              "      <th>386</th>\n",
              "      <td>14.7</td>\n",
              "      <td>4</td>\n",
              "      <td>105.0</td>\n",
              "      <td>63.0</td>\n",
              "      <td>38.0</td>\n",
              "      <td>plymouth horizon miser</td>\n",
              "      <td>USA</td>\n",
              "      <td>2125</td>\n",
              "      <td>1982-01-01</td>\n",
              "    </tr>\n",
              "    <tr>\n",
              "      <th>387</th>\n",
              "      <td>17.3</td>\n",
              "      <td>4</td>\n",
              "      <td>98.0</td>\n",
              "      <td>70.0</td>\n",
              "      <td>36.0</td>\n",
              "      <td>mercury lynx l</td>\n",
              "      <td>USA</td>\n",
              "      <td>2125</td>\n",
              "      <td>1982-01-01</td>\n",
              "    </tr>\n",
              "    <tr>\n",
              "      <th>388</th>\n",
              "      <td>14.5</td>\n",
              "      <td>4</td>\n",
              "      <td>120.0</td>\n",
              "      <td>88.0</td>\n",
              "      <td>36.0</td>\n",
              "      <td>nissan stanza xe</td>\n",
              "      <td>Japan</td>\n",
              "      <td>2160</td>\n",
              "      <td>1982-01-01</td>\n",
              "    </tr>\n",
              "    <tr>\n",
              "      <th>389</th>\n",
              "      <td>14.5</td>\n",
              "      <td>4</td>\n",
              "      <td>107.0</td>\n",
              "      <td>75.0</td>\n",
              "      <td>36.0</td>\n",
              "      <td>honda Accelerationord</td>\n",
              "      <td>Japan</td>\n",
              "      <td>2205</td>\n",
              "      <td>1982-01-01</td>\n",
              "    </tr>\n",
              "    <tr>\n",
              "      <th>390</th>\n",
              "      <td>16.9</td>\n",
              "      <td>4</td>\n",
              "      <td>108.0</td>\n",
              "      <td>70.0</td>\n",
              "      <td>34.0</td>\n",
              "      <td>toyota corolla</td>\n",
              "      <td>Japan</td>\n",
              "      <td>2245</td>\n",
              "      <td>1982-01-01</td>\n",
              "    </tr>\n",
              "    <tr>\n",
              "      <th>391</th>\n",
              "      <td>15.0</td>\n",
              "      <td>4</td>\n",
              "      <td>91.0</td>\n",
              "      <td>67.0</td>\n",
              "      <td>38.0</td>\n",
              "      <td>honda civic</td>\n",
              "      <td>Japan</td>\n",
              "      <td>1965</td>\n",
              "      <td>1982-01-01</td>\n",
              "    </tr>\n",
              "    <tr>\n",
              "      <th>392</th>\n",
              "      <td>15.7</td>\n",
              "      <td>4</td>\n",
              "      <td>91.0</td>\n",
              "      <td>67.0</td>\n",
              "      <td>32.0</td>\n",
              "      <td>honda civic (auto)</td>\n",
              "      <td>Japan</td>\n",
              "      <td>1965</td>\n",
              "      <td>1982-01-01</td>\n",
              "    </tr>\n",
              "    <tr>\n",
              "      <th>393</th>\n",
              "      <td>16.2</td>\n",
              "      <td>4</td>\n",
              "      <td>91.0</td>\n",
              "      <td>67.0</td>\n",
              "      <td>38.0</td>\n",
              "      <td>datsun 310 gx</td>\n",
              "      <td>Japan</td>\n",
              "      <td>1995</td>\n",
              "      <td>1982-01-01</td>\n",
              "    </tr>\n",
              "    <tr>\n",
              "      <th>394</th>\n",
              "      <td>16.4</td>\n",
              "      <td>6</td>\n",
              "      <td>181.0</td>\n",
              "      <td>110.0</td>\n",
              "      <td>25.0</td>\n",
              "      <td>buick century limited</td>\n",
              "      <td>USA</td>\n",
              "      <td>2945</td>\n",
              "      <td>1982-01-01</td>\n",
              "    </tr>\n",
              "    <tr>\n",
              "      <th>395</th>\n",
              "      <td>17.0</td>\n",
              "      <td>6</td>\n",
              "      <td>262.0</td>\n",
              "      <td>85.0</td>\n",
              "      <td>38.0</td>\n",
              "      <td>oldsmobile cutlass ciera (diesel)</td>\n",
              "      <td>USA</td>\n",
              "      <td>3015</td>\n",
              "      <td>1982-01-01</td>\n",
              "    </tr>\n",
              "    <tr>\n",
              "      <th>396</th>\n",
              "      <td>14.5</td>\n",
              "      <td>4</td>\n",
              "      <td>156.0</td>\n",
              "      <td>92.0</td>\n",
              "      <td>26.0</td>\n",
              "      <td>chrysler lebaron medallion</td>\n",
              "      <td>USA</td>\n",
              "      <td>2585</td>\n",
              "      <td>1982-01-01</td>\n",
              "    </tr>\n",
              "    <tr>\n",
              "      <th>397</th>\n",
              "      <td>14.7</td>\n",
              "      <td>6</td>\n",
              "      <td>232.0</td>\n",
              "      <td>112.0</td>\n",
              "      <td>22.0</td>\n",
              "      <td>ford granada l</td>\n",
              "      <td>USA</td>\n",
              "      <td>2835</td>\n",
              "      <td>1982-01-01</td>\n",
              "    </tr>\n",
              "    <tr>\n",
              "      <th>398</th>\n",
              "      <td>13.9</td>\n",
              "      <td>4</td>\n",
              "      <td>144.0</td>\n",
              "      <td>96.0</td>\n",
              "      <td>32.0</td>\n",
              "      <td>toyota celica gt</td>\n",
              "      <td>Japan</td>\n",
              "      <td>2665</td>\n",
              "      <td>1982-01-01</td>\n",
              "    </tr>\n",
              "    <tr>\n",
              "      <th>399</th>\n",
              "      <td>13.0</td>\n",
              "      <td>4</td>\n",
              "      <td>135.0</td>\n",
              "      <td>84.0</td>\n",
              "      <td>36.0</td>\n",
              "      <td>dodge charger 2.2</td>\n",
              "      <td>USA</td>\n",
              "      <td>2370</td>\n",
              "      <td>1982-01-01</td>\n",
              "    </tr>\n",
              "    <tr>\n",
              "      <th>400</th>\n",
              "      <td>17.3</td>\n",
              "      <td>4</td>\n",
              "      <td>151.0</td>\n",
              "      <td>90.0</td>\n",
              "      <td>27.0</td>\n",
              "      <td>chevrolet camaro</td>\n",
              "      <td>USA</td>\n",
              "      <td>2950</td>\n",
              "      <td>1982-01-01</td>\n",
              "    </tr>\n",
              "    <tr>\n",
              "      <th>401</th>\n",
              "      <td>15.6</td>\n",
              "      <td>4</td>\n",
              "      <td>140.0</td>\n",
              "      <td>86.0</td>\n",
              "      <td>27.0</td>\n",
              "      <td>ford mustang gl</td>\n",
              "      <td>USA</td>\n",
              "      <td>2790</td>\n",
              "      <td>1982-01-01</td>\n",
              "    </tr>\n",
              "    <tr>\n",
              "      <th>402</th>\n",
              "      <td>24.6</td>\n",
              "      <td>4</td>\n",
              "      <td>97.0</td>\n",
              "      <td>52.0</td>\n",
              "      <td>44.0</td>\n",
              "      <td>vw pickup</td>\n",
              "      <td>Europe</td>\n",
              "      <td>2130</td>\n",
              "      <td>1982-01-01</td>\n",
              "    </tr>\n",
              "    <tr>\n",
              "      <th>403</th>\n",
              "      <td>11.6</td>\n",
              "      <td>4</td>\n",
              "      <td>135.0</td>\n",
              "      <td>84.0</td>\n",
              "      <td>32.0</td>\n",
              "      <td>dodge rampage</td>\n",
              "      <td>USA</td>\n",
              "      <td>2295</td>\n",
              "      <td>1982-01-01</td>\n",
              "    </tr>\n",
              "    <tr>\n",
              "      <th>404</th>\n",
              "      <td>18.6</td>\n",
              "      <td>4</td>\n",
              "      <td>120.0</td>\n",
              "      <td>79.0</td>\n",
              "      <td>28.0</td>\n",
              "      <td>ford ranger</td>\n",
              "      <td>USA</td>\n",
              "      <td>2625</td>\n",
              "      <td>1982-01-01</td>\n",
              "    </tr>\n",
              "    <tr>\n",
              "      <th>405</th>\n",
              "      <td>19.4</td>\n",
              "      <td>4</td>\n",
              "      <td>119.0</td>\n",
              "      <td>82.0</td>\n",
              "      <td>31.0</td>\n",
              "      <td>chevy s-10</td>\n",
              "      <td>USA</td>\n",
              "      <td>2720</td>\n",
              "      <td>1982-01-01</td>\n",
              "    </tr>\n",
              "  </tbody>\n",
              "</table>\n",
              "<p>406 rows × 9 columns</p>\n",
              "</div>"
            ],
            "text/plain": [
              "     Acceleration  Cylinders  Displacement  Horsepower  Miles_per_Gallon  \\\n",
              "0            12.0          8         307.0       130.0              18.0   \n",
              "1            11.5          8         350.0       165.0              15.0   \n",
              "2            11.0          8         318.0       150.0              18.0   \n",
              "3            12.0          8         304.0       150.0              16.0   \n",
              "4            10.5          8         302.0       140.0              17.0   \n",
              "5            10.0          8         429.0       198.0              15.0   \n",
              "6             9.0          8         454.0       220.0              14.0   \n",
              "7             8.5          8         440.0       215.0              14.0   \n",
              "8            10.0          8         455.0       225.0              14.0   \n",
              "9             8.5          8         390.0       190.0              15.0   \n",
              "10           17.5          4         133.0       115.0               NaN   \n",
              "11           11.5          8         350.0       165.0               NaN   \n",
              "12           11.0          8         351.0       153.0               NaN   \n",
              "13           10.5          8         383.0       175.0               NaN   \n",
              "14           11.0          8         360.0       175.0               NaN   \n",
              "15           10.0          8         383.0       170.0              15.0   \n",
              "16            8.0          8         340.0       160.0              14.0   \n",
              "17            8.0          8         302.0       140.0               NaN   \n",
              "18            9.5          8         400.0       150.0              15.0   \n",
              "19           10.0          8         455.0       225.0              14.0   \n",
              "20           15.0          4         113.0        95.0              24.0   \n",
              "21           15.5          6         198.0        95.0              22.0   \n",
              "22           15.5          6         199.0        97.0              18.0   \n",
              "23           16.0          6         200.0        85.0              21.0   \n",
              "24           14.5          4          97.0        88.0              27.0   \n",
              "25           20.5          4          97.0        46.0              26.0   \n",
              "26           17.5          4         110.0        87.0              25.0   \n",
              "27           14.5          4         107.0        90.0              24.0   \n",
              "28           17.5          4         104.0        95.0              25.0   \n",
              "29           12.5          4         121.0       113.0              26.0   \n",
              "..            ...        ...           ...         ...               ...   \n",
              "376          18.6          4         112.0        88.0              27.0   \n",
              "377          18.0          4         112.0        88.0              34.0   \n",
              "378          16.2          4         112.0        85.0              31.0   \n",
              "379          16.0          4         135.0        84.0              29.0   \n",
              "380          18.0          4         151.0        90.0              27.0   \n",
              "381          16.4          4         140.0        92.0              24.0   \n",
              "382          20.5          4         151.0         NaN              23.0   \n",
              "383          15.3          4         105.0        74.0              36.0   \n",
              "384          18.2          4          91.0        68.0              37.0   \n",
              "385          17.6          4          91.0        68.0              31.0   \n",
              "386          14.7          4         105.0        63.0              38.0   \n",
              "387          17.3          4          98.0        70.0              36.0   \n",
              "388          14.5          4         120.0        88.0              36.0   \n",
              "389          14.5          4         107.0        75.0              36.0   \n",
              "390          16.9          4         108.0        70.0              34.0   \n",
              "391          15.0          4          91.0        67.0              38.0   \n",
              "392          15.7          4          91.0        67.0              32.0   \n",
              "393          16.2          4          91.0        67.0              38.0   \n",
              "394          16.4          6         181.0       110.0              25.0   \n",
              "395          17.0          6         262.0        85.0              38.0   \n",
              "396          14.5          4         156.0        92.0              26.0   \n",
              "397          14.7          6         232.0       112.0              22.0   \n",
              "398          13.9          4         144.0        96.0              32.0   \n",
              "399          13.0          4         135.0        84.0              36.0   \n",
              "400          17.3          4         151.0        90.0              27.0   \n",
              "401          15.6          4         140.0        86.0              27.0   \n",
              "402          24.6          4          97.0        52.0              44.0   \n",
              "403          11.6          4         135.0        84.0              32.0   \n",
              "404          18.6          4         120.0        79.0              28.0   \n",
              "405          19.4          4         119.0        82.0              31.0   \n",
              "\n",
              "                                  Name  Origin  Weight_in_lbs       Year  \n",
              "0            chevrolet chevelle malibu     USA           3504 1970-01-01  \n",
              "1                    buick skylark 320     USA           3693 1970-01-01  \n",
              "2                   plymouth satellite     USA           3436 1970-01-01  \n",
              "3                        amc rebel sst     USA           3433 1970-01-01  \n",
              "4                          ford torino     USA           3449 1970-01-01  \n",
              "5                     ford galaxie 500     USA           4341 1970-01-01  \n",
              "6                     chevrolet impala     USA           4354 1970-01-01  \n",
              "7                    plymouth fury iii     USA           4312 1970-01-01  \n",
              "8                     pontiac catalina     USA           4425 1970-01-01  \n",
              "9                   amc ambassador dpl     USA           3850 1970-01-01  \n",
              "10                citroen ds-21 pallas  Europe           3090 1970-01-01  \n",
              "11    chevrolet chevelle concours (sw)     USA           4142 1970-01-01  \n",
              "12                    ford torino (sw)     USA           4034 1970-01-01  \n",
              "13             plymouth satellite (sw)     USA           4166 1970-01-01  \n",
              "14                  amc rebel sst (sw)     USA           3850 1970-01-01  \n",
              "15                 dodge challenger se     USA           3563 1970-01-01  \n",
              "16                  plymouth 'cuda 340     USA           3609 1970-01-01  \n",
              "17               ford mustang boss 302     USA           3353 1970-01-01  \n",
              "18               chevrolet monte carlo     USA           3761 1970-01-01  \n",
              "19             buick estate wagon (sw)     USA           3086 1970-01-01  \n",
              "20               toyota corona mark ii   Japan           2372 1970-01-01  \n",
              "21                     plymouth duster     USA           2833 1970-01-01  \n",
              "22                          amc hornet     USA           2774 1970-01-01  \n",
              "23                       ford maverick     USA           2587 1970-01-01  \n",
              "24                        datsun pl510   Japan           2130 1970-01-01  \n",
              "25        volkswagen 1131 deluxe sedan  Europe           1835 1970-01-01  \n",
              "26                         peugeot 504  Europe           2672 1970-01-01  \n",
              "27                         audi 100 ls  Europe           2430 1970-01-01  \n",
              "28                            saab 99e  Europe           2375 1970-01-01  \n",
              "29                            bmw 2002  Europe           2234 1970-01-01  \n",
              "..                                 ...     ...            ...        ...  \n",
              "376           chevrolet cavalier wagon     USA           2640 1982-01-01  \n",
              "377          chevrolet cavalier 2-door     USA           2395 1982-01-01  \n",
              "378         pontiac j2000 se hatchback     USA           2575 1982-01-01  \n",
              "379                     dodge aries se     USA           2525 1982-01-01  \n",
              "380                    pontiac phoenix     USA           2735 1982-01-01  \n",
              "381               ford fairmont futura     USA           2865 1982-01-01  \n",
              "382                     amc concord dl     USA           3035 1982-01-01  \n",
              "383                volkswagen rabbit l  Europe           1980 1982-01-01  \n",
              "384                 mazda glc custom l   Japan           2025 1982-01-01  \n",
              "385                   mazda glc custom   Japan           1970 1982-01-01  \n",
              "386             plymouth horizon miser     USA           2125 1982-01-01  \n",
              "387                     mercury lynx l     USA           2125 1982-01-01  \n",
              "388                   nissan stanza xe   Japan           2160 1982-01-01  \n",
              "389              honda Accelerationord   Japan           2205 1982-01-01  \n",
              "390                     toyota corolla   Japan           2245 1982-01-01  \n",
              "391                        honda civic   Japan           1965 1982-01-01  \n",
              "392                 honda civic (auto)   Japan           1965 1982-01-01  \n",
              "393                      datsun 310 gx   Japan           1995 1982-01-01  \n",
              "394              buick century limited     USA           2945 1982-01-01  \n",
              "395  oldsmobile cutlass ciera (diesel)     USA           3015 1982-01-01  \n",
              "396         chrysler lebaron medallion     USA           2585 1982-01-01  \n",
              "397                     ford granada l     USA           2835 1982-01-01  \n",
              "398                   toyota celica gt   Japan           2665 1982-01-01  \n",
              "399                  dodge charger 2.2     USA           2370 1982-01-01  \n",
              "400                   chevrolet camaro     USA           2950 1982-01-01  \n",
              "401                    ford mustang gl     USA           2790 1982-01-01  \n",
              "402                          vw pickup  Europe           2130 1982-01-01  \n",
              "403                      dodge rampage     USA           2295 1982-01-01  \n",
              "404                        ford ranger     USA           2625 1982-01-01  \n",
              "405                         chevy s-10     USA           2720 1982-01-01  \n",
              "\n",
              "[406 rows x 9 columns]"
            ]
          },
          "metadata": {
            "tags": []
          },
          "execution_count": 32
        }
      ]
    },
    {
      "cell_type": "markdown",
      "metadata": {
        "id": "l9z-cAQow-BO",
        "colab_type": "text"
      },
      "source": [
        "### %writefile"
      ]
    },
    {
      "cell_type": "code",
      "metadata": {
        "id": "luIP2qKqxJmB",
        "colab_type": "code",
        "outputId": "30c2945c-f3fe-4245-c08e-5bbe9f094b95",
        "colab": {
          "base_uri": "https://localhost:8080/",
          "height": 34
        }
      },
      "source": [
        "%%writefile magic_stuff.txt\n",
        "import pandas as pd\n",
        "df = pd.read_csv(\n",
        "    \"https://raw.githubusercontent.com/noahgift/food/master/data/features.en.openfoodfacts.org.products.csv\")\n",
        "df.drop([\"Unnamed: 0\", \"exceeded\", \"g_sum\", \"energy_100g\"], axis=1, inplace=True) #drop two rows we don't need\n",
        "df = df.drop(df.index[[1,11877]]) #drop outlier\n",
        "df.rename(index=str, columns={\"reconstructed_energy\": \"energy_100g\"}, inplace=True)\n",
        "df.head()"
      ],
      "execution_count": 0,
      "outputs": [
        {
          "output_type": "stream",
          "text": [
            "Writing magic_stuff.txt\n"
          ],
          "name": "stdout"
        }
      ]
    },
    {
      "cell_type": "code",
      "metadata": {
        "id": "uok6ppvvxRo9",
        "colab_type": "code",
        "outputId": "575bba8d-4fdd-408e-c350-ea34def136b2",
        "colab": {
          "base_uri": "https://localhost:8080/",
          "height": 136
        }
      },
      "source": [
        "cat magic_stuff.txt"
      ],
      "execution_count": 0,
      "outputs": [
        {
          "output_type": "stream",
          "text": [
            "import pandas as pd\n",
            "df = pd.read_csv(\n",
            "    \"https://raw.githubusercontent.com/noahgift/food/master/data/features.en.openfoodfacts.org.products.csv\")\n",
            "df.drop([\"Unnamed: 0\", \"exceeded\", \"g_sum\", \"energy_100g\"], axis=1, inplace=True) #drop two rows we don't need\n",
            "df = df.drop(df.index[[1,11877]]) #drop outlier\n",
            "df.rename(index=str, columns={\"reconstructed_energy\": \"energy_100g\"}, inplace=True)\n",
            "df.head()"
          ],
          "name": "stdout"
        }
      ]
    },
    {
      "cell_type": "markdown",
      "metadata": {
        "id": "TtVDMB8EwJqG",
        "colab_type": "text"
      },
      "source": [
        "### Bash"
      ]
    },
    {
      "cell_type": "code",
      "metadata": {
        "id": "YC03T7XUuF1k",
        "colab_type": "code",
        "outputId": "d635ca51-3ed6-472a-fd8d-351315a06fa7",
        "colab": {
          "base_uri": "https://localhost:8080/",
          "height": 34
        }
      },
      "source": [
        "%%bash\n",
        "uname -a"
      ],
      "execution_count": 0,
      "outputs": [
        {
          "output_type": "stream",
          "text": [
            "Linux c14846d13496 4.14.79+ #1 SMP Wed Dec 19 21:19:13 PST 2018 x86_64 x86_64 x86_64 GNU/Linux\n"
          ],
          "name": "stdout"
        }
      ]
    },
    {
      "cell_type": "markdown",
      "metadata": {
        "id": "ohA_HAOewNMT",
        "colab_type": "text"
      },
      "source": [
        "### Python2"
      ]
    },
    {
      "cell_type": "code",
      "metadata": {
        "id": "eioZW4txwO7-",
        "colab_type": "code",
        "outputId": "9adb3426-f1cc-4b9d-c965-e229ec95284a",
        "colab": {
          "base_uri": "https://localhost:8080/",
          "height": 34
        }
      },
      "source": [
        "%%python2\n",
        "print \"old school\"\n"
      ],
      "execution_count": 0,
      "outputs": [
        {
          "output_type": "stream",
          "text": [
            "old school\n"
          ],
          "name": "stdout"
        }
      ]
    },
    {
      "cell_type": "code",
      "metadata": {
        "id": "FneBpGetEHjG",
        "colab_type": "code",
        "outputId": "efc909b0-5ce2-406d-ab65-cf505c4c354c",
        "colab": {
          "base_uri": "https://localhost:8080/",
          "height": 130
        }
      },
      "source": [
        "print \"old school\""
      ],
      "execution_count": 0,
      "outputs": [
        {
          "output_type": "error",
          "ename": "SyntaxError",
          "evalue": "ignored",
          "traceback": [
            "\u001b[0;36m  File \u001b[0;32m\"<ipython-input-39-ed16c9002a7c>\"\u001b[0;36m, line \u001b[0;32m1\u001b[0m\n\u001b[0;31m    print \"old school\"\u001b[0m\n\u001b[0m                     ^\u001b[0m\n\u001b[0;31mSyntaxError\u001b[0m\u001b[0;31m:\u001b[0m Missing parentheses in call to 'print'. Did you mean print(\"old school\")?\n"
          ]
        }
      ]
    },
    {
      "cell_type": "markdown",
      "metadata": {
        "id": "A2sW1aQ-wuPH",
        "colab_type": "text"
      },
      "source": [
        "### HTML"
      ]
    },
    {
      "cell_type": "code",
      "metadata": {
        "id": "C8ueccG-wv8Z",
        "colab_type": "code",
        "outputId": "659ddcd0-4be0-4391-b7b9-d55c80964f86",
        "colab": {
          "base_uri": "https://localhost:8080/",
          "height": 74
        }
      },
      "source": [
        "%%html\n",
        "<h1>Only The Best Tags</h>"
      ],
      "execution_count": 0,
      "outputs": [
        {
          "output_type": "display_data",
          "data": {
            "text/html": [
              "<h1>Only The Best Tags</h>"
            ],
            "text/plain": [
              "<IPython.core.display.HTML object>"
            ]
          },
          "metadata": {
            "tags": []
          }
        }
      ]
    }
  ]
}
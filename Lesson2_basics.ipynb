{
  "nbformat": 4,
  "nbformat_minor": 0,
  "metadata": {
    "kernelspec": {
      "display_name": "Python 3",
      "language": "python",
      "name": "python3"
    },
    "language_info": {
      "codemirror_mode": {
        "name": "ipython",
        "version": 3
      },
      "file_extension": ".py",
      "mimetype": "text/x-python",
      "name": "python",
      "nbconvert_exporter": "python",
      "pygments_lexer": "ipython3",
      "version": "3.6.8"
    },
    "varInspector": {
      "cols": {
        "lenName": 16,
        "lenType": 16,
        "lenVar": 40
      },
      "kernels_config": {
        "python": {
          "delete_cmd_postfix": "",
          "delete_cmd_prefix": "del ",
          "library": "var_list.py",
          "varRefreshCmd": "print(var_dic_list())"
        },
        "r": {
          "delete_cmd_postfix": ") ",
          "delete_cmd_prefix": "rm(",
          "library": "var_list.r",
          "varRefreshCmd": "cat(var_dic_list()) "
        }
      },
      "types_to_exclude": [
        "module",
        "function",
        "builtin_function_or_method",
        "instance",
        "_Feature"
      ],
      "window_display": false
    },
    "colab": {
      "name": "Copy of basics.ipynb",
      "provenance": [],
      "collapsed_sections": [
        "AdpJgyocpmII",
        "NvX3n6b9pmIc",
        "2SbbEW7MpmIy",
        "YCOg2ZUzpmI4",
        "eMMNQz2ApmJn",
        "w2iyhFwapmKE",
        "NFaoK6ZupmKU",
        "ZQ1OpYl-pmKt",
        "xk8XPpF9pmKu",
        "LhN1oAtfpmKv",
        "sVWdCGsCpmLA",
        "5RdwozH6pmLB",
        "nJGIZkQ-pmLC",
        "V0g0mjeJpmLC",
        "lN7vUqlapmLC",
        "ADxCHEICpmLD",
        "w0k4JltVpmLD",
        "sAmJmhF9pmLE",
        "I1dqG2XVpmLG"
      ],
      "include_colab_link": true
    }
  },
  "cells": [
    {
      "cell_type": "markdown",
      "metadata": {
        "id": "view-in-github",
        "colab_type": "text"
      },
      "source": [
        "<a href=\"https://colab.research.google.com/github/smabb/p/blob/master/Lesson2_basics.ipynb\" target=\"_parent\"><img src=\"https://colab.research.google.com/assets/colab-badge.svg\" alt=\"Open In Colab\"/></a>"
      ]
    },
    {
      "cell_type": "markdown",
      "metadata": {
        "id": "MQP1Qzq-pmCl",
        "colab_type": "text"
      },
      "source": [
        "<!--NAVIGATION-->\n",
        "\n",
        "\n",
        "<a href=\"https://colab.research.google.com/github/smabb/p/blob/master/Lesson2_basics.ipynb\"><img align=\"left\" src=\"https://colab.research.google.com/assets/colab-badge.svg\" alt=\"Open in Colab\" title=\"Open and Execute in Google Colaboratory\"></a>\n",
        "\n",
        "|                                          -                                          |                                          -                                          |                                          -                                          |\n",
        "|-------------------------------------------------------------------------------------|-------------------------------------------------------------------------------------|-------------------------------------------------------------------------------------|\n",
        "|             [Exercise 1 (hello world)](<#Exercise-1-(hello-world&#41;>)             |              [Exercise 2 (compliment)](<#Exercise-2-(compliment&#41;>)              |          [Exercise 3 (multiplication)](<#Exercise-3-(multiplication&#41;>)          |\n",
        "|    [Exercise 4 (multiplication table)](<#Exercise-4-(multiplication-table&#41;>)    |                [Exercise 5 (two dice)](<#Exercise-5-(two-dice&#41;>)                |           [Exercise 6 (triple square)](<#Exercise-6-(triple-square&#41;>)           |\n",
        "|         [Exercise 7 (areas of shapes)](<#Exercise-7-(areas-of-shapes&#41;>)         |         [Exercise 8 (solve quadratic)](<#Exercise-8-(solve-quadratic&#41;>)         |                   [Exercise 9 (merge)](<#Exercise-9-(merge&#41;>)                   |\n",
        "|          [Exercise 10 (detect ranges)](<#Exercise-10-(detect-ranges&#41;>)          |             [Exercise 11 (interleave)](<#Exercise-11-(interleave&#41;>)             |    [Exercise 12 (distinct characters)](<#Exercise-12-(distinct-characters&#41;>)    |\n",
        "|     [Exercise 13 (reverse dictionary)](<#Exercise-13-(reverse-dictionary&#41;>)     |          [Exercise 14 (find matching)](<#Exercise-14-(find-matching&#41;>)          | [Exercise 15 (two dice comprehension)](<#Exercise-15-(two-dice-comprehension&#41;>)                   |\n",
        "|          [Exercise 16 (acronyms)](<#Exercise-16-(acronyms&#41;>)           |             [Exercise 17 (sum equation)](<#Exercise-17-(sum-equation&#41;>)           |              [Exercise 18 (usemodule)](<#Exercise-18-(usemodule&#41;>)                   |\n",
        "| [Exercise 19 (integers in brackets)](<#Exercise-19-(integers-in-brackets&#41;>) |         [Exercise 20 (file listing)](<#Exercise-20-(file-listing&#41;>)         |       [Exercise 21 (red green blue)](<#Exercise-21-(red-green-blue&#41;>)       |\n",
        "|     [Exercise 22 (word frequencies)](<#Exercise-22-(word-frequencies&#41;>)     |           [Exercise 23 (file count)](<#Exercise-24-(file-count&#41;>)           |           [Exercise 24 (file extensions)](<#Exercise-25-(file-extensions&#41;>)             \n"
      ]
    },
    {
      "cell_type": "markdown",
      "metadata": {
        "id": "65uSkFMDpmCr",
        "colab_type": "text"
      },
      "source": [
        "# Python"
      ]
    },
    {
      "cell_type": "markdown",
      "metadata": {
        "id": "F8rlLGeQpmCw",
        "colab_type": "text"
      },
      "source": [
        "## Basic concepts"
      ]
    },
    {
      "cell_type": "markdown",
      "metadata": {
        "id": "1jlsrbUQpmCz",
        "colab_type": "text"
      },
      "source": [
        "### Basic input and output"
      ]
    },
    {
      "cell_type": "markdown",
      "metadata": {
        "id": "jdtlHGb5pmC4",
        "colab_type": "text"
      },
      "source": [
        "The traditional \"Hello, world\" program is very simple in Python. You can run the program by selecting the cell by mouse and pressing control-enter on keyboard. Try editing the string in the quotes and rerunning the program."
      ]
    },
    {
      "cell_type": "code",
      "metadata": {
        "id": "viNbjdiVpmDM",
        "colab_type": "code",
        "outputId": "d4520b3e-dc88-4d24-a8ae-e57f14130598",
        "colab": {
          "base_uri": "https://localhost:8080/",
          "height": 34
        }
      },
      "source": [
        "print(\"Hello World!\")"
      ],
      "execution_count": 1,
      "outputs": [
        {
          "output_type": "stream",
          "text": [
            "Hello World!\n"
          ],
          "name": "stdout"
        }
      ]
    },
    {
      "cell_type": "markdown",
      "metadata": {
        "id": "NAiYSIlkpmDa",
        "colab_type": "text"
      },
      "source": [
        "Multiple strings can be printed. By default, they are concatenated with a space:"
      ]
    },
    {
      "cell_type": "code",
      "metadata": {
        "id": "n4u_J-FRpmDd",
        "colab_type": "code",
        "outputId": "8a893b63-067c-420c-c65f-f720d3def0da",
        "colab": {
          "base_uri": "https://localhost:8080/",
          "height": 35
        }
      },
      "source": [
        "print(\"Hello,\", \"How are you?\")"
      ],
      "execution_count": 0,
      "outputs": [
        {
          "output_type": "stream",
          "text": [
            "Hello, How are you?\n"
          ],
          "name": "stdout"
        }
      ]
    },
    {
      "cell_type": "markdown",
      "metadata": {
        "id": "-lmhkSw-pmDp",
        "colab_type": "text"
      },
      "source": [
        "In the print function, numerical expression are first evaluated and then automatically converted to strings. Subsequently the strings are concatenated with spaces:"
      ]
    },
    {
      "cell_type": "code",
      "metadata": {
        "id": "aD4FzDq6pmDt",
        "colab_type": "code",
        "outputId": "a5792b36-c738-4a9a-c08f-491bea6a5547",
        "colab": {}
      },
      "source": [
        "print(1, \"plus\", 2, \"equals\", 1+2)"
      ],
      "execution_count": 0,
      "outputs": [
        {
          "output_type": "stream",
          "text": [
            "1 plus 2 equals 3\n"
          ],
          "name": "stdout"
        }
      ]
    },
    {
      "cell_type": "markdown",
      "metadata": {
        "id": "l910vzVupmD1",
        "colab_type": "text"
      },
      "source": [
        "Reading textual input from the user can be achieved with the input function. The input function is given a string parameter, which is printed and prompts the user to give input. In the example below, the string entered by the user is stored the variable `name`. Try executing the program in the interactive notebook by pressing control-enter!"
      ]
    },
    {
      "cell_type": "code",
      "metadata": {
        "id": "cjHVWeaApmD4",
        "colab_type": "code",
        "outputId": "50651aa5-fd02-4b12-c651-c66d2b727316",
        "colab": {
          "base_uri": "https://localhost:8080/",
          "height": 52
        }
      },
      "source": [
        "name=input(\"Give me your name: \")\n",
        "print(\"Hello,\", name)"
      ],
      "execution_count": 2,
      "outputs": [
        {
          "output_type": "stream",
          "text": [
            "Give me your name: Samir\n",
            "Hello, Samir\n"
          ],
          "name": "stdout"
        }
      ]
    },
    {
      "cell_type": "markdown",
      "metadata": {
        "id": "W97rnxwwpmEC",
        "colab_type": "text"
      },
      "source": [
        "### Indentation"
      ]
    },
    {
      "cell_type": "markdown",
      "metadata": {
        "id": "c8CYs5SypmEF",
        "colab_type": "text"
      },
      "source": [
        "Repetition is possible with the for loop. Note that the body of for loop is indented with a tabulator or four spaces.\n",
        "Unlike in some other languages, braces are not needed to denote the body of the loop. When the indentation stops, the body of the loop ends."
      ]
    },
    {
      "cell_type": "code",
      "metadata": {
        "id": "78IdqZDtpmEI",
        "colab_type": "code",
        "outputId": "7821f040-ffe8-4d8c-d5ee-b6de4c34ce18",
        "colab": {
          "base_uri": "https://localhost:8080/",
          "height": 86
        }
      },
      "source": [
        "for i in range(3):\n",
        "    print(\"Hello\", i)\n",
        "print(\"Bye!\")\n"
      ],
      "execution_count": 3,
      "outputs": [
        {
          "output_type": "stream",
          "text": [
            "Hello 0\n",
            "Hello 1\n",
            "Hello 2\n",
            "Bye!\n"
          ],
          "name": "stdout"
        }
      ]
    },
    {
      "cell_type": "markdown",
      "metadata": {
        "id": "2YqzwAF2pmEX",
        "colab_type": "text"
      },
      "source": [
        "Indentation applies to other compound statements as well, such as bodies of functions, different branches of an if statement, and while loops. We shall see examples of these later."
      ]
    },
    {
      "cell_type": "markdown",
      "metadata": {
        "id": "3mjZNtNcpmEb",
        "colab_type": "text"
      },
      "source": [
        "The `range(3)` expression above actually results with the sequence of integers 0, 1, and 2. So, the range is a half-open interval with the end point excluded from the range. In general, expression range(n) gives integers 0, 1, 2, ..., n-1. Modify the above program to make it also print the value of variable i at each iteration. Rerun the code with control-enter."
      ]
    },
    {
      "cell_type": "markdown",
      "metadata": {
        "id": "sbXihYYupmEe",
        "colab_type": "text"
      },
      "source": [
        "#### <div class=\"alert alert-info\">Exercise 1 (hello world)</div>\n",
        "Fill in the missing piece to make it print the following:\n",
        "\n",
        "`Hello, world!`\n",
        "\n",
        "Make sure you use correct indenting. \n",
        "<hr/>"
      ]
    },
    {
      "cell_type": "code",
      "metadata": {
        "id": "gUWH_oJaqwTy",
        "colab_type": "code",
        "colab": {}
      },
      "source": [
        "#Write code Here"
      ],
      "execution_count": 0,
      "outputs": []
    },
    {
      "cell_type": "markdown",
      "metadata": {
        "id": "Z6x8Aa05pmEg",
        "colab_type": "text"
      },
      "source": [
        "#### <div class=\"alert alert-info\">Exercise 2 </div>\n",
        "Write a program that work as follows. The program should ask the user for an input, and the print an answer as the examples below show.\n",
        "\n",
        "```\n",
        "What country are you from? Palestine\n",
        "I have heard that Palestine is a beautiful country.\n",
        "\n",
        "What country are you from? Jordan  \n",
        "I have heard that Jordan is a beautiful country.\n",
        "```\n",
        "<hr/>"
      ]
    },
    {
      "cell_type": "code",
      "metadata": {
        "id": "pobMWl39rCWE",
        "colab_type": "code",
        "colab": {}
      },
      "source": [
        "#Write code Here"
      ],
      "execution_count": 0,
      "outputs": []
    },
    {
      "cell_type": "markdown",
      "metadata": {
        "id": "jV1ruXM0pmEi",
        "colab_type": "text"
      },
      "source": [
        "#### <div class=\"alert alert-info\">Exercise 3 (multiplication)</div> \n",
        "Write a program that gives the following output. You should use a for loop in your solution.\n",
        "\n",
        "```\n",
        "4 multiplied by 0 is 0\n",
        "4 multiplied by 1 is 4\n",
        "4 multiplied by 2 is 8\n",
        "4 multiplied by 3 is 12\n",
        "4 multiplied by 4 is 16\n",
        "4 multiplied by 5 is 20\n",
        "4 multiplied by 6 is 24\n",
        "4 multiplied by 7 is 28\n",
        "4 multiplied by 8 is 32\n",
        "4 multiplied by 9 is 36\n",
        "4 multiplied by 10 is 40\n",
        "```\n",
        "<hr/>"
      ]
    },
    {
      "cell_type": "code",
      "metadata": {
        "id": "U6PT_6Ixr_9G",
        "colab_type": "code",
        "colab": {}
      },
      "source": [
        "#Write code Here"
      ],
      "execution_count": 0,
      "outputs": []
    },
    {
      "cell_type": "markdown",
      "metadata": {
        "id": "yd0MdaxapmEl",
        "colab_type": "text"
      },
      "source": [
        "### Variables and data types\n",
        "\n",
        "We saw already earlier that assigning a value to variable is very simple:"
      ]
    },
    {
      "cell_type": "code",
      "metadata": {
        "id": "ojk50XT1pmEm",
        "colab_type": "code",
        "outputId": "2954b9f6-2f6f-4073-a6cf-396d73f6273f",
        "colab": {}
      },
      "source": [
        "a=1\n",
        "print(a)"
      ],
      "execution_count": 0,
      "outputs": [
        {
          "output_type": "stream",
          "text": [
            "1\n"
          ],
          "name": "stdout"
        }
      ]
    },
    {
      "cell_type": "markdown",
      "metadata": {
        "id": "GR2J8vYfpmEs",
        "colab_type": "text"
      },
      "source": [
        "Note that we did not need to introduce the variable `a` in any way. No type was given for the variable. Python automatically detected that the type of `a` must be `int` (an integer). We can query the type of a variable with the builtin function `type`:"
      ]
    },
    {
      "cell_type": "code",
      "metadata": {
        "id": "XcSGSD42pmEt",
        "colab_type": "code",
        "outputId": "f07a79c3-d3f9-419b-aefe-692357fa4a4c",
        "colab": {}
      },
      "source": [
        "type(a)"
      ],
      "execution_count": 0,
      "outputs": [
        {
          "output_type": "execute_result",
          "data": {
            "text/plain": [
              "int"
            ]
          },
          "metadata": {
            "tags": []
          },
          "execution_count": 7
        }
      ]
    },
    {
      "cell_type": "markdown",
      "metadata": {
        "id": "gKgDxILVpmEy",
        "colab_type": "text"
      },
      "source": [
        "Note also that the type of a variable is not fixed:"
      ]
    },
    {
      "cell_type": "code",
      "metadata": {
        "id": "0K0iK2E0pmEz",
        "colab_type": "code",
        "outputId": "482f9ec0-e621-427d-8100-32c6c72fa67b",
        "colab": {}
      },
      "source": [
        "a=\"some text\"\n",
        "type(a)"
      ],
      "execution_count": 0,
      "outputs": [
        {
          "output_type": "execute_result",
          "data": {
            "text/plain": [
              "str"
            ]
          },
          "metadata": {
            "tags": []
          },
          "execution_count": 8
        }
      ]
    },
    {
      "cell_type": "markdown",
      "metadata": {
        "id": "yw1kTn-2pmE4",
        "colab_type": "text"
      },
      "source": [
        "In Python the type of a variable is not attached to the name of the variable, like in C for instance, but instead with the actual value. This is called dynamic typing."
      ]
    },
    {
      "cell_type": "markdown",
      "metadata": {
        "id": "QpBY9gz3pmE7",
        "colab_type": "text"
      },
      "source": [
        "We say that a variable is a name that *refers* to a value or an object, and the assignment operator *binds* a variable name to a value."
      ]
    },
    {
      "cell_type": "markdown",
      "metadata": {
        "id": "FRPHtJMqpmE-",
        "colab_type": "text"
      },
      "source": [
        "The basic data types in Python are: `int`, `float`, `complex`, `str` (a string), `bool` (a boolean with values `True` and `False`), and `bytes`. Below are few examples of their use."
      ]
    },
    {
      "cell_type": "code",
      "metadata": {
        "id": "O-SPxSpapmFA",
        "colab_type": "code",
        "outputId": "5d5408cc-2ad0-45dc-978c-553151b67755",
        "colab": {
          "base_uri": "https://localhost:8080/",
          "height": 69
        }
      },
      "source": [
        "i=5\n",
        "f=1.5\n",
        "b = i==4\n",
        "print(\"Result of the comparison:\", b)\n",
        "c=0+2j                                 # Note that j denotes the imaginary unit of complex numbers.\n",
        "print(\"Complex multiplication:\", c*c)\n",
        "s=\"conca\" + \"tenation\"\n",
        "print(s)"
      ],
      "execution_count": 4,
      "outputs": [
        {
          "output_type": "stream",
          "text": [
            "Result of the comparison: False\n",
            "Complex multiplication: (-4+0j)\n",
            "concatenation\n"
          ],
          "name": "stdout"
        }
      ]
    },
    {
      "cell_type": "markdown",
      "metadata": {
        "id": "i0gv6ZoPpmFF",
        "colab_type": "text"
      },
      "source": [
        "The names of the types act as conversion operators between types:"
      ]
    },
    {
      "cell_type": "code",
      "metadata": {
        "id": "CqccO6qopmFI",
        "colab_type": "code",
        "outputId": "918ecab5-5e8a-4b07-9cad-6b42cf4e731e",
        "colab": {
          "base_uri": "https://localhost:8080/",
          "height": 109
        }
      },
      "source": [
        "print(int(-2.8))\n",
        "print(float(2))\n",
        "print(int(\"123\"))\n",
        "print(bool(-2), bool(0))  # Zero is interpreted as False\n",
        "print(str(234))"
      ],
      "execution_count": 0,
      "outputs": [
        {
          "output_type": "stream",
          "text": [
            "-2\n",
            "2.0\n",
            "123\n",
            "True False\n",
            "234\n"
          ],
          "name": "stdout"
        }
      ]
    },
    {
      "cell_type": "markdown",
      "metadata": {
        "id": "mlp4pzx5pmFY",
        "colab_type": "text"
      },
      "source": [
        "#### Creating strings\n",
        "A string is a sequence of characters commonly used to store input or output data in a program. The characters of a string are specified either between single (`'`) or double (`\"`) quotes. This optionality is useful if, for example, a string needs to contain a quotation mark:\n",
        "\"I don't want to go!\". You can also achieve this by *escaping* the quotation mark with the backslash: 'I don\\\\'t want to go'.\n",
        "\n",
        "The string can also contain other escape sequences like `\\n` for newline and `\\t` for a tabulator. See [literals](https://docs.python.org/3/reference/lexical_analysis.html#literals) for a list of all escape sequences."
      ]
    },
    {
      "cell_type": "code",
      "metadata": {
        "id": "HV2q9zKopmFY",
        "colab_type": "code",
        "outputId": "9a56f855-5019-4ebe-aabd-9d5f0dcdb04d",
        "colab": {}
      },
      "source": [
        "print(\"One\\tTwo\\nThree\\tFour\")"
      ],
      "execution_count": 0,
      "outputs": [
        {
          "output_type": "stream",
          "text": [
            "One\tTwo\n",
            "Three\tFour\n"
          ],
          "name": "stdout"
        }
      ]
    },
    {
      "cell_type": "markdown",
      "metadata": {
        "id": "2qA9SL7epmFj",
        "colab_type": "text"
      },
      "source": [
        "A string containing newlines can be easily given within triple double or triple single quotes:"
      ]
    },
    {
      "cell_type": "code",
      "metadata": {
        "id": "MC-85PtnpmFl",
        "colab_type": "code",
        "colab": {}
      },
      "source": [
        "s=\"\"\"A string\n",
        "spanning over\n",
        "several lines\"\"\""
      ],
      "execution_count": 0,
      "outputs": []
    },
    {
      "cell_type": "markdown",
      "metadata": {
        "id": "l-sqekqBpmFy",
        "colab_type": "text"
      },
      "source": [
        "Although we can concatenate strings using the `+` operator, for effiency reasons, one should use the `join` method to concatenate larger number of strings:"
      ]
    },
    {
      "cell_type": "code",
      "metadata": {
        "id": "IX0VeAWNpmF0",
        "colab_type": "code",
        "outputId": "00ba0f92-2503-42bf-ec91-da615c32142e",
        "colab": {
          "base_uri": "https://localhost:8080/",
          "height": 54
        }
      },
      "source": [
        "a=\"first\"\n",
        "b=\"second\"\n",
        "print(a+b)\n",
        "print(\" \".join([a, b, b, a]))   # More about the join method later\n"
      ],
      "execution_count": 0,
      "outputs": [
        {
          "output_type": "stream",
          "text": [
            "firstsecond\n",
            "first second second first\n"
          ],
          "name": "stdout"
        }
      ]
    },
    {
      "cell_type": "markdown",
      "metadata": {
        "id": "CFC_UF0wpmF4",
        "colab_type": "text"
      },
      "source": [
        "Sometimes printing by concatenation from pieces can be clumsy:"
      ]
    },
    {
      "cell_type": "code",
      "metadata": {
        "id": "tvdTghFQpmF4",
        "colab_type": "code",
        "outputId": "3b207791-8e10-4190-a308-9bd066e537a6",
        "colab": {
          "base_uri": "https://localhost:8080/",
          "height": 52
        }
      },
      "source": [
        "print(1 + \" plus \" + 3 + \" is equal to \" + 4)\n",
        "# slightly better\n",
        "print(1, \"plus\", 3, \"is equal to\", 4)"
      ],
      "execution_count": 7,
      "outputs": [
        {
          "output_type": "stream",
          "text": [
            "1 plus 3 is equal to 4\n",
            "1 plus 3 is equal to 4\n"
          ],
          "name": "stdout"
        }
      ]
    },
    {
      "cell_type": "markdown",
      "metadata": {
        "id": "ZxsHY3rbpmF7",
        "colab_type": "text"
      },
      "source": [
        "The multiple catenation and quotation characters break the flow of thought. *String interpolation* offers somewhat easier syntax.\n",
        "\n",
        "There are multiple ways to do sting interpolation:\n",
        "\n",
        "* Python format strings\n",
        "* the `format` method\n",
        "* f-strings\n",
        "\n",
        "Examples of these can be seen below:"
      ]
    },
    {
      "cell_type": "code",
      "metadata": {
        "ExecuteTime": {
          "end_time": "2019-06-13T07:20:50.778447Z",
          "start_time": "2019-06-13T07:20:50.770086Z"
        },
        "id": "-dXT9HFNpmF8",
        "colab_type": "code",
        "outputId": "b20ef3fb-68a1-4b75-db79-a7443c0ca011",
        "colab": {
          "base_uri": "https://localhost:8080/",
          "height": 69
        }
      },
      "source": [
        "print(\"%i plus %i is equal to %i\" % (1, 3, 4))     # Format syntax\n",
        "\n",
        "print(\"{} plus {} is equal to {}\".format(1, 3, 4)) # Format method\n",
        "\n",
        "print(f\"{1} plus {3} is equal to {4}\")             # f-string"
      ],
      "execution_count": 8,
      "outputs": [
        {
          "output_type": "stream",
          "text": [
            "1 plus 3 is equal to 4\n",
            "1 plus 3 is equal to 4\n",
            "1 plus 3 is equal to 4\n"
          ],
          "name": "stdout"
        }
      ]
    },
    {
      "cell_type": "markdown",
      "metadata": {
        "id": "bj8BhsAapmGA",
        "colab_type": "text"
      },
      "source": [
        "The `i` format specifier in the format syntacs corresponds to integers and the specifier `f` corresponds to floats. When using f-strings or the `format` method, integers use `d` instead. In format strings specifiers can usually be omitted and are generally used only when specific formatting is required. For example in f-strings `f\"{4:3d}\"` would specify the number 4 left padded with spaces to 3 digits.\n",
        "\n",
        "It is often useful to specify the number of decimals when printing floats:"
      ]
    },
    {
      "cell_type": "code",
      "metadata": {
        "ExecuteTime": {
          "end_time": "2019-06-13T07:20:11.299655Z",
          "start_time": "2019-06-13T07:20:11.290634Z"
        },
        "id": "yQ131HXZpmGB",
        "colab_type": "code",
        "outputId": "4a859400-329e-4cbc-de4d-b162acdffcc9",
        "colab": {}
      },
      "source": [
        "print(\"%.1f %.2f %.3f\" % (1.6, 1.7, 1.8))               # Old style\n",
        "print(\"{:.1f} {:.2f} {:.3f}\".format(1.6, 1.7, 1.8))     # newer style\n",
        "print(f\"{1.6:.1f} {1.7:.2f} {1.8:.3f}\")                 # f-string"
      ],
      "execution_count": 0,
      "outputs": [
        {
          "output_type": "stream",
          "text": [
            "1.6 1.70 1.800\n",
            "1.6 1.70 1.800\n",
            "1.6 1.70 1.800\n"
          ],
          "name": "stdout"
        }
      ]
    },
    {
      "cell_type": "markdown",
      "metadata": {
        "id": "VRkYqdbXpmGJ",
        "colab_type": "text"
      },
      "source": [
        "The specifier `s` is used for strings. An example:"
      ]
    },
    {
      "cell_type": "code",
      "metadata": {
        "ExecuteTime": {
          "end_time": "2019-06-13T07:22:04.651508Z",
          "start_time": "2019-06-13T07:22:04.646191Z"
        },
        "id": "IPwOt1ZkpmGL",
        "colab_type": "code",
        "outputId": "24aa5ce6-feff-43ba-e548-1df008aae4de",
        "colab": {
          "base_uri": "https://localhost:8080/",
          "height": 72
        }
      },
      "source": [
        "print(\"%s concatenated with %s produces %s\" % (\"water\", \"melon\", \"water\"+\"melon\"))\n",
        "print(\"{0} concatenated with {1} produces {0}{1}\".format(\"water\", \"melon\"))\n",
        "print(f\"{'water'} concatenated with {'melon'} produces {'water' + 'melon'}\")"
      ],
      "execution_count": 0,
      "outputs": [
        {
          "output_type": "stream",
          "text": [
            "water concatenated with melon produces watermelon\n",
            "water concatenated with melon produces watermelon\n",
            "water concatenated with melon produces watermelon\n"
          ],
          "name": "stdout"
        }
      ]
    },
    {
      "cell_type": "markdown",
      "metadata": {
        "id": "-f9AFhlBpmGO",
        "colab_type": "text"
      },
      "source": [
        "Look [here](https://pyformat.info/#number) for more details about format specifiers, and for comparison between the old and new style of string interpolation.\n",
        "\n",
        "Different ways of string interpolation have different strengths and weaknesses. Generally choosing which to use is a matter of personal preference. On this course examples and model solutions will predominantly use f-strings and the `format` method."
      ]
    },
    {
      "cell_type": "markdown",
      "metadata": {
        "id": "ssZGeSxJpmGP",
        "colab_type": "text"
      },
      "source": [
        "### Expressions\n",
        "An *expression* is a piece of Python code that results in a value. It consists of values combined together with *operators*. Values can be literals, such as `1`, `1.2`, `\"text\"`, or variables. Operators include arithmetics operators, comparison operators, function call, indexing, attribute references, among others. Below there are a few examples of expressions:"
      ]
    },
    {
      "cell_type": "markdown",
      "metadata": {
        "id": "b-vjpiSkpmGQ",
        "colab_type": "text"
      },
      "source": [
        "```\n",
        "1+2\n",
        "7/(2+0.1)\n",
        "a\n",
        "cos(0)\n",
        "mylist[1]\n",
        "c > 0 and c !=1\n",
        "(1,2,3)\n",
        "a<5\n",
        "obj.attr\n",
        "(-1)**2 == 1\n",
        "```"
      ]
    },
    {
      "cell_type": "markdown",
      "metadata": {
        "id": "txUlq8OipmGQ",
        "colab_type": "text"
      },
      "source": [
        "<div class=\"alert alert-warning\">Note that in Python the operator `//` performs integer division and operator `/` performs float division. The `**` operator denotes exponentiation. These operators might therefore behave differently than in many other common languages.</div>"
      ]
    },
    {
      "cell_type": "markdown",
      "metadata": {
        "id": "PBuTrPINpmGS",
        "colab_type": "text"
      },
      "source": [
        "### Statements\n",
        "Statements are commands that have some effect. For example, a function call (that is not part of another expression) is a statement. Also, the variable assignment is a statement:"
      ]
    },
    {
      "cell_type": "code",
      "metadata": {
        "id": "lvxPfIAtpmGT",
        "colab_type": "code",
        "colab": {}
      },
      "source": [
        "i = 5\n",
        "i = i+1    # This is a commong idiom to increment the value of i by one\n",
        "i += 1     # This is a short-hand for the above"
      ],
      "execution_count": 0,
      "outputs": []
    },
    {
      "cell_type": "markdown",
      "metadata": {
        "id": "3wnAZvIWpmGW",
        "colab_type": "text"
      },
      "source": [
        "Note that in Python there are no operators `++` or `--` unlike in some other languages."
      ]
    },
    {
      "cell_type": "markdown",
      "metadata": {
        "id": "SnM7ATCTpmGX",
        "colab_type": "text"
      },
      "source": [
        "It turns out that the operators `+ - * / // % & | ^ >> << **` have the corresponding *augmented assignment operators* `+= -= *= /= //= %= &= |= ^= >>= <<= **=`"
      ]
    },
    {
      "cell_type": "markdown",
      "metadata": {
        "id": "pvPQpYm9pmGX",
        "colab_type": "text"
      },
      "source": [
        "Another large set of statements is the flow-control statements such as if-else, for and while loops. We will look into these in the next sections."
      ]
    },
    {
      "cell_type": "markdown",
      "metadata": {
        "id": "HEYbP_uupmGY",
        "colab_type": "text"
      },
      "source": [
        "#### Loops for repetitive tasks\n",
        "In Python we have two kinds of loops: `while` and `for`. We briefly saw the `for` loop earlier. Let's now look at the `while` loop. A `while` loop repeats a set of statements while a given condition holds. An example:"
      ]
    },
    {
      "cell_type": "code",
      "metadata": {
        "id": "UNzd5VZnpmGZ",
        "colab_type": "code",
        "outputId": "e1334232-fac4-4bfb-b65e-3bda41c8d36b",
        "colab": {
          "base_uri": "https://localhost:8080/",
          "height": 605
        }
      },
      "source": [
        "i=1\n",
        "while i*i < 1000:\n",
        "    print(\"Square of\", i, \"is\", i*i)\n",
        "    i += 1\n",
        "print(\"Finished printing all the squares below 1000.\")"
      ],
      "execution_count": 0,
      "outputs": [
        {
          "output_type": "stream",
          "text": [
            "Square of 1 is 1\n",
            "Square of 2 is 4\n",
            "Square of 3 is 9\n",
            "Square of 4 is 16\n",
            "Square of 5 is 25\n",
            "Square of 6 is 36\n",
            "Square of 7 is 49\n",
            "Square of 8 is 64\n",
            "Square of 9 is 81\n",
            "Square of 10 is 100\n",
            "Square of 11 is 121\n",
            "Square of 12 is 144\n",
            "Square of 13 is 169\n",
            "Square of 14 is 196\n",
            "Square of 15 is 225\n",
            "Square of 16 is 256\n",
            "Square of 17 is 289\n",
            "Square of 18 is 324\n",
            "Square of 19 is 361\n",
            "Square of 20 is 400\n",
            "Square of 21 is 441\n",
            "Square of 22 is 484\n",
            "Square of 23 is 529\n",
            "Square of 24 is 576\n",
            "Square of 25 is 625\n",
            "Square of 26 is 676\n",
            "Square of 27 is 729\n",
            "Square of 28 is 784\n",
            "Square of 29 is 841\n",
            "Square of 30 is 900\n",
            "Square of 31 is 961\n",
            "Finished printing all the squares below 1000.\n"
          ],
          "name": "stdout"
        }
      ]
    },
    {
      "cell_type": "markdown",
      "metadata": {
        "id": "3wLTcR6ZpmGh",
        "colab_type": "text"
      },
      "source": [
        "Note again that the body of the while statement was marked with the indentation."
      ]
    },
    {
      "cell_type": "markdown",
      "metadata": {
        "id": "kQqEhzP6pmGk",
        "colab_type": "text"
      },
      "source": [
        "Another way of repeating statements is with the `for` statement. An example"
      ]
    },
    {
      "cell_type": "code",
      "metadata": {
        "id": "tpsEecx3pmGl",
        "colab_type": "code",
        "outputId": "62fafec7-7124-4014-9145-0cd445af2dd5",
        "colab": {
          "base_uri": "https://localhost:8080/",
          "height": 35
        }
      },
      "source": [
        "s=0\n",
        "for i in [0,1,2,3,4,5,6,7,8,9]:\n",
        "    s += i\n",
        "print(\"The sum is\", s)"
      ],
      "execution_count": 0,
      "outputs": [
        {
          "output_type": "stream",
          "text": [
            "The sum is 45\n"
          ],
          "name": "stdout"
        }
      ]
    },
    {
      "cell_type": "markdown",
      "metadata": {
        "id": "qVyLQ9d7pmGs",
        "colab_type": "text"
      },
      "source": [
        "The `for` loop executes the statements in the block as many times as there are elements in the given list. At each iteration the variable `i` refers to another value from the list in order. Instead of the giving the list explicitly as above, we could have used the *generator* `range(10)` which returns values from the sequence 0,1,...,9 as the for loop asks for a new value. In the most general form the `for` loop goes through all the elements in an *iterable*.\n",
        "Besides lists and generators there are other iterables. We will talk about iterables and generators later this week."
      ]
    },
    {
      "cell_type": "markdown",
      "metadata": {
        "id": "lKTppa5tpmGs",
        "colab_type": "text"
      },
      "source": [
        "When one wants to iterate through all the elements in an iterable, then the `for` loop is a natural choice. But sometimes `while` loops offer cleaner solution. For instance, if we want\n",
        "to go through all Fibonacci numbers up till a given limit, then it is easier to do with a `while` loop."
      ]
    },
    {
      "cell_type": "markdown",
      "metadata": {
        "id": "lan1ZdwOpmGu",
        "colab_type": "text"
      },
      "source": [
        "#### <div class=\"alert alert-info\">Exercise 4 (multiplication table)</div>\n",
        "\n",
        "Write a code to print a multiplication table shown below:\n",
        "```\n",
        "   1   2   3   4   5   6   7   8   9  10\n",
        "   2   4   6   8  10  12  14  16  18  20\n",
        "   3   6   9  12  15  18  21  24  27  30\n",
        "   4   8  12  16  20  24  28  32  36  40\n",
        "   5  10  15  20  25  30  35  40  45  50\n",
        "   6  12  18  24  30  36  42  48  54  60\n",
        "   7  14  21  28  35  42  49  56  63  70\n",
        "   8  16  24  32  40  48  56  64  72  80\n",
        "   9  18  27  36  45  54  63  72  81  90\n",
        "  10  20  30  40  50  60  70  80  90 100\n",
        "```\n",
        "For example at row 4 and column 9 we have 4*9=36.\n",
        "\n",
        "Use two nested for loops to achive this. Note that you can use the following form to stop the `print` function from automatically starting a new line:"
      ]
    },
    {
      "cell_type": "code",
      "metadata": {
        "id": "8bnvbT3KpmGu",
        "colab_type": "code",
        "outputId": "ceb9e787-302e-40f9-d9bb-bfb963468ab2",
        "colab": {
          "base_uri": "https://localhost:8080/",
          "height": 34
        }
      },
      "source": [
        "print(\"text\", end=\"\")\n",
        "print(\"more text\")"
      ],
      "execution_count": 12,
      "outputs": [
        {
          "output_type": "stream",
          "text": [
            "textmore text\n"
          ],
          "name": "stdout"
        }
      ]
    },
    {
      "cell_type": "markdown",
      "metadata": {
        "id": "7NVFvK9PpmGy",
        "colab_type": "text"
      },
      "source": [
        "Print the numbers in a field with width four, so that the numbers are nicely aligned. For instructions on how adjust the field width refer to [pyformat.info](https://pyformat.info/#number_padding).\n",
        "<hr/>"
      ]
    },
    {
      "cell_type": "code",
      "metadata": {
        "id": "N5U-6rKt0hXw",
        "colab_type": "code",
        "colab": {
          "base_uri": "https://localhost:8080/",
          "height": 382
        },
        "outputId": "86015790-126a-42cb-f387-735888c1ba40"
      },
      "source": [
        "#Write code Here\n",
        "for i in range(1,11):\n",
        "    print('\\n')\n",
        "    for x in range(1,11):\n",
        "      print('{:4d}'.format(i*x),end='')\n",
        "  \n",
        "   \n",
        "\n",
        "    \n",
        "    \n"
      ],
      "execution_count": 57,
      "outputs": [
        {
          "output_type": "stream",
          "text": [
            "\n",
            "\n",
            "   1   2   3   4   5   6   7   8   9  10\n",
            "\n",
            "   2   4   6   8  10  12  14  16  18  20\n",
            "\n",
            "   3   6   9  12  15  18  21  24  27  30\n",
            "\n",
            "   4   8  12  16  20  24  28  32  36  40\n",
            "\n",
            "   5  10  15  20  25  30  35  40  45  50\n",
            "\n",
            "   6  12  18  24  30  36  42  48  54  60\n",
            "\n",
            "   7  14  21  28  35  42  49  56  63  70\n",
            "\n",
            "   8  16  24  32  40  48  56  64  72  80\n",
            "\n",
            "   9  18  27  36  45  54  63  72  81  90\n",
            "\n",
            "  10  20  30  40  50  60  70  80  90 100"
          ],
          "name": "stdout"
        }
      ]
    },
    {
      "cell_type": "markdown",
      "metadata": {
        "id": "Ls0hKoxwpmG4",
        "colab_type": "text"
      },
      "source": [
        "#### Decision making with the if statement\n",
        "The if-else statement works as can be expected.\n",
        "Try running the below cell by pressing control+enter."
      ]
    },
    {
      "cell_type": "code",
      "metadata": {
        "id": "KCqQiGSdpmG5",
        "colab_type": "code",
        "outputId": "60467132-963c-448d-efa6-fb9c0bbe9d33",
        "colab": {
          "base_uri": "https://localhost:8080/",
          "height": 52
        }
      },
      "source": [
        "x=input(\"Give an integer: \")\n",
        "x=int(x)\n",
        "if x >= 0:\n",
        "    a=x\n",
        "else:\n",
        "    a=-x\n",
        "print(\"The absolute value of %i is %i\" % (x, a))"
      ],
      "execution_count": 58,
      "outputs": [
        {
          "output_type": "stream",
          "text": [
            "Give an integer: 3\n",
            "The absolute value of 3 is 3\n"
          ],
          "name": "stdout"
        }
      ]
    },
    {
      "cell_type": "markdown",
      "metadata": {
        "id": "xoHchS7xpmG6",
        "colab_type": "text"
      },
      "source": [
        "The general from of an if-else statement is\n",
        "\n",
        "```\n",
        "if condition1:\n",
        "    statement1_1\n",
        "    statement1_2\n",
        "    ...\n",
        "elif condition2:\n",
        "    statement2_1\n",
        "    statement2_2\n",
        "    ...\n",
        "...\n",
        "else:\n",
        "    statementn_1\n",
        "    statementn_2\n",
        "    ...\n",
        "```"
      ]
    },
    {
      "cell_type": "markdown",
      "metadata": {
        "id": "mjIgwcwVpmG7",
        "colab_type": "text"
      },
      "source": [
        "Another example:"
      ]
    },
    {
      "cell_type": "code",
      "metadata": {
        "id": "w4p16TR9pmG8",
        "colab_type": "code",
        "outputId": "72917477-bed6-4cf1-9f39-7f7d39fcd632",
        "colab": {
          "base_uri": "https://localhost:8080/",
          "height": 54
        }
      },
      "source": [
        "c=input(\"Give a number: \")\n",
        "if c > 0:\n",
        "    print(\"c is positive\")\n",
        "elif c<0:\n",
        "    print(\"c is negative\")\n",
        "else:\n",
        "    print(\"c is zero\")"
      ],
      "execution_count": 0,
      "outputs": [
        {
          "output_type": "stream",
          "text": [
            "Give a number: 1\n",
            "c is positive\n"
          ],
          "name": "stdout"
        }
      ]
    },
    {
      "cell_type": "markdown",
      "metadata": {
        "id": "EgE6GvxypmHB",
        "colab_type": "text"
      },
      "source": [
        "#### Breaking and continuing loop\n",
        "Breaking the loop, when the wanted element is found, with the `break` statement:"
      ]
    },
    {
      "cell_type": "code",
      "metadata": {
        "id": "drsjeiwVpmHC",
        "colab_type": "code",
        "outputId": "66d9c063-9d5b-42b5-cf01-68734ce6a46f",
        "colab": {
          "base_uri": "https://localhost:8080/",
          "height": 35
        }
      },
      "source": [
        "l=[1,3,65,3,-1,56,-10]\n",
        "for x in l:\n",
        "    if x < 0:\n",
        "        break\n",
        "print(\"The first negative list element was\", x)"
      ],
      "execution_count": 0,
      "outputs": [
        {
          "output_type": "stream",
          "text": [
            "The first negative list element was -1\n"
          ],
          "name": "stdout"
        }
      ]
    },
    {
      "cell_type": "markdown",
      "metadata": {
        "id": "SMn2ARXWpmHF",
        "colab_type": "text"
      },
      "source": [
        "Stopping current iteration and continuing to the next one with the `continue` statement:"
      ]
    },
    {
      "cell_type": "code",
      "metadata": {
        "ExecuteTime": {
          "end_time": "2019-06-17T13:56:49.327404Z",
          "start_time": "2019-06-17T13:56:49.318054Z"
        },
        "id": "oHo0TY3gpmHG",
        "colab_type": "code",
        "outputId": "56760327-5800-40a0-e427-9ddf9a6d8d07",
        "colab": {
          "base_uri": "https://localhost:8080/",
          "height": 104
        }
      },
      "source": [
        "l=[1,3,65,3,-1,56,-10]\n",
        "for x in l:\n",
        "    if x < 0:\n",
        "        continue\n",
        "    print(f\"The power of {x} by 2 is {x**2}\")\n"
      ],
      "execution_count": 70,
      "outputs": [
        {
          "output_type": "stream",
          "text": [
            "The power of 1 by 2 is 1\n",
            "The power of 3 by 2 is 9\n",
            "The power of 65 by 2 is 4225\n",
            "The power of 3 by 2 is 9\n",
            "The power of 56 by 2 is 3136\n"
          ],
          "name": "stdout"
        }
      ]
    },
    {
      "cell_type": "markdown",
      "metadata": {
        "id": "tONIa1czpmHJ",
        "colab_type": "text"
      },
      "source": [
        "#### <div class=\"alert alert-info\">Exercise 5 (two dice)</div>\n",
        "\n",
        "Consider throwing two dice(value between 1 and 6.) Use two nested `for`\n",
        "loops  iterate through all possible combinations the pair of dice can give. \n",
        "Print all those combinations as (ordered) pairs that sum to 5. \n",
        "For example, your printout should include the pair `(2,3)`. Print one pair per line.\n",
        "<hr/>"
      ]
    },
    {
      "cell_type": "code",
      "metadata": {
        "id": "Kq1_oe7g9VN8",
        "colab_type": "code",
        "colab": {
          "base_uri": "https://localhost:8080/",
          "height": 86
        },
        "outputId": "bf1228a7-5a07-46c5-a3b9-386557583c61"
      },
      "source": [
        "#Write code Here\n",
        "for i in range(1,7):\n",
        "  for x in range(1,7):\n",
        "    if i + x == 5:\n",
        "      print(f'({i},{x})')"
      ],
      "execution_count": 74,
      "outputs": [
        {
          "output_type": "stream",
          "text": [
            "(1,4)\n",
            "(2,3)\n",
            "(3,2)\n",
            "(4,1)\n"
          ],
          "name": "stdout"
        }
      ]
    },
    {
      "cell_type": "markdown",
      "metadata": {
        "id": "tbYR9YNtpmHK",
        "colab_type": "text"
      },
      "source": [
        "### Functions\n",
        "A function is defined with the `def` statement. Let's do a doubling function."
      ]
    },
    {
      "cell_type": "code",
      "metadata": {
        "id": "X3timl56pmHM",
        "colab_type": "code",
        "outputId": "f90e967a-0e72-440e-b56f-05ac142b38dc",
        "colab": {
          "base_uri": "https://localhost:8080/",
          "height": 35
        }
      },
      "source": [
        "def double(x):\n",
        "    \"This function multiplies its argument by two.\"\n",
        "    return x*2\n",
        "print(double(4), double(1.2), double(\"abc\")) # It even happens to work for strings!"
      ],
      "execution_count": 0,
      "outputs": [
        {
          "output_type": "stream",
          "text": [
            "8 2.4 abcabc\n"
          ],
          "name": "stdout"
        }
      ]
    },
    {
      "cell_type": "markdown",
      "metadata": {
        "id": "foaRum0UpmHR",
        "colab_type": "text"
      },
      "source": [
        "The double function takes only one parameter. Notice the *docstring* on the second line. It documents the purpose and usage of the function. Let's try to access it."
      ]
    },
    {
      "cell_type": "code",
      "metadata": {
        "id": "Qzz0741LpmHS",
        "colab_type": "code",
        "outputId": "ae00248d-1e09-429f-c7c3-15f131440853",
        "colab": {
          "base_uri": "https://localhost:8080/",
          "height": 109
        }
      },
      "source": [
        "help(double)   "
      ],
      "execution_count": 0,
      "outputs": [
        {
          "output_type": "stream",
          "text": [
            "Help on function double in module __main__:\n",
            "\n",
            "double(x)\n",
            "    This function multiplies its argument by two.\n",
            "\n"
          ],
          "name": "stdout"
        }
      ]
    },
    {
      "cell_type": "markdown",
      "metadata": {
        "id": "SeBfsROMpmHV",
        "colab_type": "text"
      },
      "source": [
        "Most of Python's builtin functions, classes, and modules should contain a docstring."
      ]
    },
    {
      "cell_type": "code",
      "metadata": {
        "id": "nezgnE8wpmHW",
        "colab_type": "code",
        "outputId": "c7443903-cb4d-4976-9a1e-b27d02b84111",
        "colab": {
          "base_uri": "https://localhost:8080/",
          "height": 237
        }
      },
      "source": [
        "help(print)"
      ],
      "execution_count": 0,
      "outputs": [
        {
          "output_type": "stream",
          "text": [
            "Help on built-in function print in module builtins:\n",
            "\n",
            "print(...)\n",
            "    print(value, ..., sep=' ', end='\\n', file=sys.stdout, flush=False)\n",
            "    \n",
            "    Prints the values to a stream, or to sys.stdout by default.\n",
            "    Optional keyword arguments:\n",
            "    file:  a file-like object (stream); defaults to the current sys.stdout.\n",
            "    sep:   string inserted between values, default a space.\n",
            "    end:   string appended after the last value, default a newline.\n",
            "    flush: whether to forcibly flush the stream.\n",
            "\n"
          ],
          "name": "stdout"
        }
      ]
    },
    {
      "cell_type": "markdown",
      "metadata": {
        "id": "a_KCTRsBpmHY",
        "colab_type": "text"
      },
      "source": [
        "Here's another example function:"
      ]
    },
    {
      "cell_type": "code",
      "metadata": {
        "id": "RBPCl37ppmHY",
        "colab_type": "code",
        "outputId": "075b626c-d2d5-4539-aeba-14645ac20320",
        "colab": {}
      },
      "source": [
        "def sum_of_squares(a, b):\n",
        "    \"Computes the sum of arguments squared\"\n",
        "    return a**2 + b**2\n",
        "print(sum_of_squares(3, 4))"
      ],
      "execution_count": 0,
      "outputs": [
        {
          "output_type": "stream",
          "text": [
            "25\n"
          ],
          "name": "stdout"
        }
      ]
    },
    {
      "cell_type": "markdown",
      "metadata": {
        "id": "CA14BjRPpmHc",
        "colab_type": "text"
      },
      "source": [
        "<div class=\"alert alert-warning\">Note the terminology: in the function definition the names a and b are called <strong>parameters</strong> of the function; in the function call, however, 3 and 4 are called <strong>arguments</strong> to the function.\n",
        "</div>"
      ]
    },
    {
      "cell_type": "markdown",
      "metadata": {
        "id": "0c1A_UohpmHd",
        "colab_type": "text"
      },
      "source": [
        "It would be nice that the number of arguments could be arbitrary, not just two. We could pass a list to the function as a parameter."
      ]
    },
    {
      "cell_type": "code",
      "metadata": {
        "id": "cun7jOb9pmHe",
        "colab_type": "code",
        "outputId": "78b0d632-771b-4f91-9431-6537d9f48d46",
        "colab": {
          "base_uri": "https://localhost:8080/",
          "height": 54
        }
      },
      "source": [
        "def sum_of_squares(lst):\n",
        "    \"Computes the sum of squares of elements in the list given as parameter\"\n",
        "    s=0\n",
        "    for x in lst:\n",
        "        s += x**2\n",
        "    return s\n",
        "print(sum_of_squares([-2]))\n",
        "print(sum_of_squares([-2,4,5]))"
      ],
      "execution_count": 0,
      "outputs": [
        {
          "output_type": "stream",
          "text": [
            "4\n",
            "45\n"
          ],
          "name": "stdout"
        }
      ]
    },
    {
      "cell_type": "markdown",
      "metadata": {
        "id": "KYM9Cq8ZpmHg",
        "colab_type": "text"
      },
      "source": [
        "Another way:"
      ]
    },
    {
      "cell_type": "code",
      "metadata": {
        "id": "ohmyAPkrpmHh",
        "colab_type": "code",
        "outputId": "21f7a345-c315-4128-93e6-26d9c6f5f4d0",
        "colab": {
          "base_uri": "https://localhost:8080/",
          "height": 54
        }
      },
      "source": [
        "def sum_of_squares(*t):\n",
        "    \"Computes the sum of squares of arbitrary number of arguments\"\n",
        "    s=0\n",
        "    for x in t:\n",
        "        s += x**2\n",
        "    return s\n",
        "print(sum_of_squares(-2))\n",
        "print(sum_of_squares(-2,4,5))"
      ],
      "execution_count": 0,
      "outputs": [
        {
          "output_type": "stream",
          "text": [
            "4\n",
            "45\n"
          ],
          "name": "stdout"
        }
      ]
    },
    {
      "cell_type": "markdown",
      "metadata": {
        "id": "K5_sMYKmpmHk",
        "colab_type": "text"
      },
      "source": [
        "The strange looking argument notation (the star) is called *argument packing*. It packs all the given positional arguments into a tuple `t`. We will encounter tuples again later, but it suffices now to say that tuples are *immutable* lists. With the `for` loop we can iterate through all the elements in the tuple.\n"
      ]
    },
    {
      "cell_type": "markdown",
      "metadata": {
        "id": "_GvqUTpwpmHn",
        "colab_type": "text"
      },
      "source": [
        "In addition to positional arguments we have seen so far, a function call can also have *named arguments*. An example will explain this concept best:"
      ]
    },
    {
      "cell_type": "code",
      "metadata": {
        "id": "KmQ2JQ2upmHq",
        "colab_type": "code",
        "outputId": "272b5548-572c-4525-c3e2-4e13c61ab2d0",
        "colab": {
          "base_uri": "https://localhost:8080/",
          "height": 35
        }
      },
      "source": [
        "def named(a, b, c):\n",
        "    print(\"First:\", a, \"Second:\", b, \"Third:\", c)\n",
        "named(5, c=7, b=8)"
      ],
      "execution_count": 0,
      "outputs": [
        {
          "output_type": "stream",
          "text": [
            "First: 5 Second: 8 Third: 7\n"
          ],
          "name": "stdout"
        }
      ]
    },
    {
      "cell_type": "markdown",
      "metadata": {
        "id": "wMyb54RnpmHv",
        "colab_type": "text"
      },
      "source": [
        "Note that the named arguments didn't need to be in the same order as in the function definition.\n",
        "The named arguments must come after the positional arguments. For example, the following function call is illegal `named(a=5, 7, 8)`.\n",
        "\n",
        "One can also specify an optional parameter by giving the parameter a default value. The parameters that have default values must come after those parameters that don't. We saw that the parameters of the `print` function were of form `print(value, ..., sep=' ', end='\\n')`. If some default values don't suit us, we can give them in the function call using the name of the parameter:"
      ]
    },
    {
      "cell_type": "code",
      "metadata": {
        "id": "uvPIRVDKpmH0",
        "colab_type": "code",
        "outputId": "9d358f53-904f-4813-fe94-e2f7dc69bb40",
        "colab": {
          "base_uri": "https://localhost:8080/",
          "height": 35
        }
      },
      "source": [
        "print(1, 2, 3, end=' |', sep=' -*- ')\n",
        "print(\"first\", \"second\", \"third\", end=' |', sep=' -*- ')"
      ],
      "execution_count": 0,
      "outputs": [
        {
          "output_type": "stream",
          "text": [
            "1 -*- 2 -*- 3 |first -*- second -*- third |"
          ],
          "name": "stdout"
        }
      ]
    },
    {
      "cell_type": "markdown",
      "metadata": {
        "id": "8KARs3wipmH9",
        "colab_type": "text"
      },
      "source": [
        "Let's go through another example of using parameters with default values:"
      ]
    },
    {
      "cell_type": "code",
      "metadata": {
        "id": "dWfbR-Z3pmH9",
        "colab_type": "code",
        "outputId": "4b1680b3-def1-4503-8da4-8aa27e353c65",
        "colab": {
          "base_uri": "https://localhost:8080/",
          "height": 35
        }
      },
      "source": [
        "def sum_of_squares(a=2, b=4):\n",
        "    \"Computes the sum of arguments squared\"\n",
        "    return a**2 + b**2\n",
        "print(sum_of_squares())"
      ],
      "execution_count": 0,
      "outputs": [
        {
          "output_type": "stream",
          "text": [
            "20\n"
          ],
          "name": "stdout"
        }
      ]
    },
    {
      "cell_type": "markdown",
      "metadata": {
        "id": "yNO9TC7ZpmIB",
        "colab_type": "text"
      },
      "source": [
        "#### Visibility of variables\n",
        "Function definition creates a new *namespace* (also called local scope). Variables created inside this scope are not available from outside the function definition. Also, the function parameters are only visible inside the function definition. Variables that are not defined inside any function are called `global variables`.\n",
        "\n",
        "Global variable are readable also in local scopes, but an assignment creates a new local variable without rebinding the global variable. If we are inside a function, a local variable hides a global variable by the same name:"
      ]
    },
    {
      "cell_type": "code",
      "metadata": {
        "id": "1oz20oBppmIB",
        "colab_type": "code",
        "outputId": "4725187f-99cb-4e78-8366-916cb980cce7",
        "colab": {}
      },
      "source": [
        "i=2           # global variable\n",
        "def f():\n",
        "    i=3       # this creates a new variable, it does not rebind the global i\n",
        "    print(i)  # This will print 3    \n",
        "f()\n",
        "print(i)      # This will print 2"
      ],
      "execution_count": 0,
      "outputs": [
        {
          "output_type": "stream",
          "text": [
            "3\n",
            "2\n"
          ],
          "name": "stdout"
        }
      ]
    },
    {
      "cell_type": "markdown",
      "metadata": {
        "id": "jtB42Sa9pmID",
        "colab_type": "text"
      },
      "source": [
        "If you really need to rebind a global variable from a function, use the `global` statement. Example:"
      ]
    },
    {
      "cell_type": "code",
      "metadata": {
        "id": "FebhkQNIpmIE",
        "colab_type": "code",
        "outputId": "b419f9b2-8b3e-434d-bb82-5ec078f59a97",
        "colab": {}
      },
      "source": [
        "i=2\n",
        "def f():\n",
        "    global i\n",
        "    i=5       # rebind the global i variable\n",
        "    print(i)  # This will print 5\n",
        "f()\n",
        "print(i)      # This will print 5"
      ],
      "execution_count": 0,
      "outputs": [
        {
          "output_type": "stream",
          "text": [
            "5\n",
            "5\n"
          ],
          "name": "stdout"
        }
      ]
    },
    {
      "cell_type": "markdown",
      "metadata": {
        "id": "9_0noPH-pmII",
        "colab_type": "text"
      },
      "source": [
        "#### <div class=\"alert alert-info\">Exercise 6 (triple square)</div>\n",
        "\n",
        "Write two functions: `triple` and `square`. Function `triple` multiplies its parameter by three. Function `square` raises its parameter to the power of two. For example, we have equalities `triple(5)==15`\n",
        "and `square(5)==25`.\n",
        "\n",
        "Part 1.\n",
        "\n",
        "Write a `for` loop that iterates through values 1 to 10, and for each value prints its triple and its square. The output should be as follows:\n",
        "```\n",
        "triple(1)==3 square(1)==1\n",
        "triple(2)==6 square(2)==4\n",
        "...\n",
        "```\n",
        "\n",
        "Part 2.\n",
        "\n",
        "Now modify this `for` loop so that it stops iteration when the square of a value is larger than the\n",
        "triple of the value, without printing anything in the last iteration.\n",
        "\n",
        "<hr/>"
      ]
    },
    {
      "cell_type": "code",
      "metadata": {
        "id": "i1k6JzxXH7Rt",
        "colab_type": "code",
        "colab": {}
      },
      "source": [
        "#Write Code Here"
      ],
      "execution_count": 0,
      "outputs": []
    },
    {
      "cell_type": "markdown",
      "metadata": {
        "id": "AdpJgyocpmII",
        "colab_type": "text"
      },
      "source": [
        "#### <div class=\"alert alert-info\">Exercise 7 (areas of shapes)</div>\n",
        "\n",
        "Create a program that can compute the areas of three shapes, triangles, rectangles and circles, when\n",
        "their dimensions are given.\n",
        "\n",
        "An endless loop should ask for which shape you want the area be calculated. An empty string as input will exit the loop. \n",
        "If the user gives a\n",
        "string that is none of the given shapes, the message “unknown shape!” should be printed.\n",
        "Then it will ask for dimensions for that particular shape. When all the necessary dimensions are\n",
        "given, it prints the area, and starts the loop all over again. Use format specifier `f` for the area.\n",
        "\n",
        "What happens if you give incorrect dimensions, like giving string \"aa\" as radius? You  have to check for errors in the input.\n",
        "\n",
        "Example interaction:\n",
        "```\n",
        "Choose a shape (triangle, rectangle, circle): triangle\n",
        "Give base of the triangle: 20\n",
        "Give height of the triangle: 5\n",
        "The area is 50.000000\n",
        "Choose a shape (triangle, rectangle, circle): rectangel\n",
        "Unknown shape!\n",
        "Choose a shape (triangle, rectangle, circle): rectangle\n",
        "Give width of the rectangle: 20\n",
        "Give height of the rectangle: 4\n",
        "The area is 80.000000\n",
        "Choose a shape (triangle, rectangle, circle): circle\n",
        "Give radius of the circle: 10\n",
        "The area is 314.159265\n",
        "Choose a shape (triangle, rectangle, circle): \n",
        "```\n",
        "<hr/>"
      ]
    },
    {
      "cell_type": "markdown",
      "metadata": {
        "id": "7QDQ6f_1pmIJ",
        "colab_type": "text"
      },
      "source": [
        "### Data structures\n",
        "The main data structures in Python are strings, lists, tuples, dictionaries, and sets. We saw some examples of lists, when we discussed `for` loops. And we saw briefly tuples when we introduced argument packing and unpacking. Let's get into more details now.\n",
        "\n",
        "#### Sequences\n",
        "A *list* contains arbitrary number of elements (even zero) that are stored in sequential order. The elements are separated by commas and written between brackets. The elements don't need to be of the same type. An example of a list with four values:"
      ]
    },
    {
      "cell_type": "code",
      "metadata": {
        "id": "tufPRDxFpmIJ",
        "colab_type": "code",
        "outputId": "712158ad-fe35-400a-daaa-eb4de540b597",
        "colab": {}
      },
      "source": [
        "[2, 100, \"hello\", 1.0]"
      ],
      "execution_count": 0,
      "outputs": [
        {
          "output_type": "execute_result",
          "data": {
            "text/plain": [
              "[2, 100, 'hello', 1.0]"
            ]
          },
          "metadata": {
            "tags": []
          },
          "execution_count": 42
        }
      ]
    },
    {
      "cell_type": "markdown",
      "metadata": {
        "id": "3YaDKgfzpmIL",
        "colab_type": "text"
      },
      "source": [
        "A *tuple* is fixed length, immutable, and ordered container. Elements of tuple are separated by commas and written between parentheses. Examples of tuples:"
      ]
    },
    {
      "cell_type": "code",
      "metadata": {
        "id": "LHDICX_ZpmIN",
        "colab_type": "code",
        "colab": {}
      },
      "source": [
        "(3,)               # a singleton\n",
        "(1,3)              # a pair\n",
        "(1, \"hello\", 1.0); # a triple"
      ],
      "execution_count": 0,
      "outputs": []
    },
    {
      "cell_type": "markdown",
      "metadata": {
        "id": "qzOczYXHpmIO",
        "colab_type": "text"
      },
      "source": [
        "<div class=\"alert alert-warning\">Note the difference between `(3)` and `(3,)`. Because the parentheses can also be used to group expressions, the first one defines an integer, but the second one defines a tuple with single element.</div>"
      ]
    },
    {
      "cell_type": "markdown",
      "metadata": {
        "id": "AaqthvfqpmIO",
        "colab_type": "text"
      },
      "source": [
        "As we can see, both lists and tuples can contain values of different type.\n",
        "\n",
        "List, tuples, and strings are called *sequences* in Python, and they have several commonalities:\n",
        "\n",
        "* their length can be queried with the `len` function\n",
        "* `min` and `max` function find the minimum and maximum element of a sequence, and `sum` adds all the elements of numbers together\n",
        "* Sequences can be concatenated with the `+` operator, and repeated with the `*` operator: `\"hi\"*3==\"hihihi\"`\n",
        "* Since sequences are ordered, we can refer to the elements of a sequences by integers using the *indexing* notation: `\"abcd\"[2] == \"c\"`\n",
        "* Note that the indexing begins from 0\n",
        "* Negative integers start indexing from the end: -1 refers to the last element, -2 refers to the second last, and so on"
      ]
    },
    {
      "cell_type": "markdown",
      "metadata": {
        "id": "4XJFp8AbpmIP",
        "colab_type": "text"
      },
      "source": [
        "Above we saw that we can access a single element of a sequence using *indexing*. If we want a subsequence of a sequence, we can use the *slicing* syntax. A slice consists of elements of the original sequence, and it is itself a sequence as well. A simple slice is a range of elements:"
      ]
    },
    {
      "cell_type": "code",
      "metadata": {
        "id": "vjgeSeNupmIQ",
        "colab_type": "code",
        "outputId": "09600c8c-f8dc-4ee9-a1f5-00993327a277",
        "colab": {}
      },
      "source": [
        "s=\"abcdefg\"\n",
        "s[1:4]"
      ],
      "execution_count": 0,
      "outputs": [
        {
          "output_type": "execute_result",
          "data": {
            "text/plain": [
              "'bcd'"
            ]
          },
          "metadata": {
            "tags": []
          },
          "execution_count": 44
        }
      ]
    },
    {
      "cell_type": "markdown",
      "metadata": {
        "id": "ZlXmbq6KpmIS",
        "colab_type": "text"
      },
      "source": [
        "Note that Python ranges exclude the last index. The generic form of a slice is\n",
        "`sequence[first:last:step]`. If any of the three parameters are left out, they are set to default values as follows: first=0, last=len(L), step=1. So, for instance \"abcde\"[1:]==\"bcde\". The step parameter selects elements that are step distance apart from each other. For example:"
      ]
    },
    {
      "cell_type": "code",
      "metadata": {
        "id": "DYyLPuSxpmIS",
        "colab_type": "code",
        "outputId": "a47b2236-7c6f-4960-e54d-d4e4c611e33f",
        "colab": {}
      },
      "source": [
        "print([0,1,2,3,4,5,6,7,8,9][::3])"
      ],
      "execution_count": 0,
      "outputs": [
        {
          "output_type": "stream",
          "text": [
            "[0, 3, 6, 9]\n"
          ],
          "name": "stdout"
        }
      ]
    },
    {
      "cell_type": "markdown",
      "metadata": {
        "id": "k5DnI7PFpmIV",
        "colab_type": "text"
      },
      "source": [
        "#### <div class=\"alert alert-info\">Exercise 8 (solve quadratic)</div>\n",
        "\n",
        "In mathematics, the quadratic equation $ax^2+bx+c=0$ can be solved with the formula \n",
        "$x=\\frac{-b\\pm \\sqrt{b^2 -4ac}}{2a}$. \n",
        "\n",
        "Write a function `solve_quadratic`, that returns both solutions of a generic quadratic as a pair (2-tuple)\n",
        "when the coefficients are given as parameters. It should work like this:\n",
        "```python\n",
        "print(solve_quadratic(1,-3,2))\n",
        "(2.0,1.0)\n",
        "print(solve_quadratic(1,2,1))\n",
        "(-1.0,-1.0)\n",
        "```\n",
        "\n",
        "Use the `math.sqrt` function from the `math` module in your solution. \n",
        "<hr/>"
      ]
    },
    {
      "cell_type": "code",
      "metadata": {
        "id": "YDENP1hFKDxT",
        "colab_type": "code",
        "colab": {}
      },
      "source": [
        "#Write code here\n",
        "# usage math.sqrt(x)\n",
        "import math\n"
      ],
      "execution_count": 0,
      "outputs": []
    },
    {
      "cell_type": "markdown",
      "metadata": {
        "id": "keQPYrTnpmIW",
        "colab_type": "text"
      },
      "source": [
        "#### Modifying lists\n",
        "We can assign values to elements of a list by indexing or by slicing. An example:"
      ]
    },
    {
      "cell_type": "code",
      "metadata": {
        "id": "eUNZpUbwpmIX",
        "colab_type": "code",
        "outputId": "6589bbbf-da01-4568-8166-92fee18ca37e",
        "colab": {}
      },
      "source": [
        "L=[11,13,22,32]\n",
        "L[2]=10          # Changes the third element\n",
        "print(L)"
      ],
      "execution_count": 0,
      "outputs": [
        {
          "output_type": "stream",
          "text": [
            "[11, 13, 10, 32]\n"
          ],
          "name": "stdout"
        }
      ]
    },
    {
      "cell_type": "markdown",
      "metadata": {
        "id": "7bnu0GGapmIY",
        "colab_type": "text"
      },
      "source": [
        "Or we can assign a list to a slice:"
      ]
    },
    {
      "cell_type": "code",
      "metadata": {
        "id": "qkZBq4jSpmIZ",
        "colab_type": "code",
        "outputId": "8bf121b5-e6e1-464c-9cde-8ab40547c466",
        "colab": {}
      },
      "source": [
        "L[1:3]=[4]\n",
        "print(L)"
      ],
      "execution_count": 0,
      "outputs": [
        {
          "output_type": "stream",
          "text": [
            "[11, 4, 32]\n"
          ],
          "name": "stdout"
        }
      ]
    },
    {
      "cell_type": "markdown",
      "metadata": {
        "id": "84G6mmL7pmIc",
        "colab_type": "text"
      },
      "source": [
        "We can also modify a list by using *mutating methods* of the `list` class, namely the methods `append`, `extend`, `insert`, `remove`, `pop`, `reverse`, and `sort`. Try Python's help functionality to find more about these methods: e.g. `help(list.extend)` or `help(list)`.\n",
        "\n",
        "<div class=\"alert alert-warning\">Note that we cannot perform these modifications on tuples or strings since they are *immutable*</div>"
      ]
    },
    {
      "cell_type": "markdown",
      "metadata": {
        "id": "NvX3n6b9pmIc",
        "colab_type": "text"
      },
      "source": [
        "#### Generating numerical sequences\n",
        "Trivial lists can be tedious to write: `[0,1,2,3,4,5,6]`. The function `range` creates numeric ranges automatically. The above sequence can be generated with the function call `range(7)`. Note again that then end value is not included  in the sequence. An example of using the `range` function:"
      ]
    },
    {
      "cell_type": "code",
      "metadata": {
        "id": "PxmzL1nGpmIc",
        "colab_type": "code",
        "outputId": "67b1ae6f-7fe3-47df-c965-99e500f94756",
        "colab": {}
      },
      "source": [
        "L=range(3)\n",
        "for i in L:\n",
        "    print(i)\n",
        "# Note that L is not a list!\n",
        "print(L)"
      ],
      "execution_count": 0,
      "outputs": [
        {
          "output_type": "stream",
          "text": [
            "0\n",
            "1\n",
            "2\n",
            "range(0, 3)\n"
          ],
          "name": "stdout"
        }
      ]
    },
    {
      "cell_type": "markdown",
      "metadata": {
        "id": "Gj_jn2M-pmIh",
        "colab_type": "text"
      },
      "source": [
        "So `L` is not a list, but it is a sequence. We can for instace access its last element with `L[-1]`. If really needed, then it can be converted to a list with the `list` constructor:"
      ]
    },
    {
      "cell_type": "code",
      "metadata": {
        "id": "8X0T9U_-pmIi",
        "colab_type": "code",
        "outputId": "80872fc1-0456-4ae3-e03e-a99e4b108bec",
        "colab": {}
      },
      "source": [
        "L=range(10)\n",
        "print(list(L))"
      ],
      "execution_count": 0,
      "outputs": [
        {
          "output_type": "stream",
          "text": [
            "[0, 1, 2, 3, 4, 5, 6, 7, 8, 9]\n"
          ],
          "name": "stdout"
        }
      ]
    },
    {
      "cell_type": "markdown",
      "metadata": {
        "id": "r_j85CNrpmIl",
        "colab_type": "text"
      },
      "source": [
        "<div class=\"alert alert-warning\">Note that using a range consumes less memory than the corresponding list. This is because in a list all the elements are stored in the memory, whereas the range generates the requested elements only when needed. For example, when the for loop asks for the next element from the range at each iteration, only a single element from the range exists in memory at the same time. This makes a big difference when using large ranges, like range(1000000).</div>"
      ]
    },
    {
      "cell_type": "markdown",
      "metadata": {
        "id": "1JhkjwZ7pmIl",
        "colab_type": "text"
      },
      "source": [
        "The `range` function works in similar fashion as slices. So, for instance the step of the sequence can be given:"
      ]
    },
    {
      "cell_type": "code",
      "metadata": {
        "id": "nJnnVpctpmIm",
        "colab_type": "code",
        "outputId": "85fe37be-4b83-4daf-ad51-73a902e0e884",
        "colab": {}
      },
      "source": [
        "print(list(range(0, 7, 2)))"
      ],
      "execution_count": 0,
      "outputs": [
        {
          "output_type": "stream",
          "text": [
            "[0, 2, 4, 6]\n"
          ],
          "name": "stdout"
        }
      ]
    },
    {
      "cell_type": "markdown",
      "metadata": {
        "id": "C4ASx79apmIo",
        "colab_type": "text"
      },
      "source": [
        "#### Sorting sequences\n",
        "\n",
        "In Python there are two ways to sort sequences. The `sort` *method* modifies the original list, whereas the `sorted` *function* returns a new sorted list and leaves the original intact. A couple of examples will demonstrate this:"
      ]
    },
    {
      "cell_type": "code",
      "metadata": {
        "id": "Y4iKg5yRpmIr",
        "colab_type": "code",
        "outputId": "f3a0377c-9024-463e-de43-b6bda079adba",
        "colab": {}
      },
      "source": [
        "L=[5,3,7,1]\n",
        "L.sort()      # here we call the sort method of the object L\n",
        "print(L)\n",
        "L2=[6,1,7,3,6]\n",
        "print(sorted(L2))\n",
        "print(L2)"
      ],
      "execution_count": 0,
      "outputs": [
        {
          "output_type": "stream",
          "text": [
            "[1, 3, 5, 7]\n",
            "[1, 3, 6, 6, 7]\n",
            "[6, 1, 7, 3, 6]\n"
          ],
          "name": "stdout"
        }
      ]
    },
    {
      "cell_type": "markdown",
      "metadata": {
        "id": "3XPTusT-pmIv",
        "colab_type": "text"
      },
      "source": [
        "The parameter `reverse=True` can be given (both to `sort` and `sorted`) to get descending order of elements:"
      ]
    },
    {
      "cell_type": "code",
      "metadata": {
        "id": "8FyptIfbpmIv",
        "colab_type": "code",
        "outputId": "71ca1346-d349-411f-8061-6cce083e28ec",
        "colab": {}
      },
      "source": [
        "L=[5,3,7,1]\n",
        "print(sorted(L, reverse=True))"
      ],
      "execution_count": 0,
      "outputs": [
        {
          "output_type": "stream",
          "text": [
            "[7, 5, 3, 1]\n"
          ],
          "name": "stdout"
        }
      ]
    },
    {
      "cell_type": "markdown",
      "metadata": {
        "id": "HDYCN6rxpmIx",
        "colab_type": "text"
      },
      "source": [
        "#### <div class=\"alert alert-info\">Exercise 9 (merge)</div>\n",
        "\n",
        "Suppose we have two lists `L1` and `L2` that contain integers which are sorted in ascending order.\n",
        "Create a function `merge` that gets these lists as parameters and returns a new sorted list `L` that has\n",
        "all the elements of `L1` and `L2`. So, `len(L)` should equal to `len(L1)+len(L2)`. Do this using the\n",
        "fact that both lists are already sorted. \n",
        "<hr/>"
      ]
    },
    {
      "cell_type": "code",
      "metadata": {
        "id": "LPf7eMf8LTTv",
        "colab_type": "code",
        "outputId": "134ea1dc-f031-47ab-833f-302c23e37a89",
        "colab": {
          "base_uri": "https://localhost:8080/",
          "height": 35
        }
      },
      "source": [
        "L1 = [1,5,9,12]\n",
        "L2 = [2,6,10]\n",
        "\n",
        "#Write Code here\n",
        "\n",
        "\n",
        "print(merge(L1, L2))"
      ],
      "execution_count": 0,
      "outputs": [
        {
          "output_type": "stream",
          "text": [
            "[1, 2, 5, 6, 9, 10, 12]\n"
          ],
          "name": "stdout"
        }
      ]
    },
    {
      "cell_type": "markdown",
      "metadata": {
        "id": "2SbbEW7MpmIy",
        "colab_type": "text"
      },
      "source": [
        "#### <div class=\"alert alert-info\">Exercise 10 (detect ranges)</div>\n",
        "\n",
        "Create a function named `detect_ranges` that gets a list of integers as a parameter. The function\n",
        "should then sort this list, and transform the list into another list where pairs are used for all the\n",
        "detected intervals. So `3,4,5,6` is replaced by the pair `(3,7)`. Numbers that are not part of any\n",
        "interval result just single numbers. The resulting list consists of these numbers and\n",
        "pairs, separated by commas.\n",
        "An example of how this function works:\n",
        "```python\n",
        "print(detect_ranges([2,5,4,8,12,6,7,10,13]))\n",
        "[2,(4,9),10,(12,14)]\n",
        "```\n",
        "\n",
        "Note that the second element of the pair does not belong to the range. This is consistent with the way Python's `range` function works. You may assume that no element in the input list appears multiple times.\n",
        "<hr/>"
      ]
    },
    {
      "cell_type": "markdown",
      "metadata": {
        "id": "qnAM1AblpmIy",
        "colab_type": "text"
      },
      "source": [
        "#### Zipping sequences\n",
        "\n",
        "The `zip` function combines two (or more) sequences into one sequence. If, for example, two sequences are zipped together, the resulting sequence contains pairs. In general, if `n` sequences are zipped together, the elements of the resulting sequence contains `n`-tuples. An example of this:"
      ]
    },
    {
      "cell_type": "code",
      "metadata": {
        "id": "OmG3kDNxpmIz",
        "colab_type": "code",
        "outputId": "25280439-404c-483f-cdd6-3aa00e626f77",
        "colab": {}
      },
      "source": [
        "L1=[1,2,3]\n",
        "L2=[\"first\", \"second\", \"third\"]\n",
        "print(zip(L1, L2))               # Note that zip does not return a list, like range\n",
        "print(list(zip(L1, L2)))         # Convert to a list"
      ],
      "execution_count": 0,
      "outputs": [
        {
          "output_type": "stream",
          "text": [
            "<zip object at 0x7fb8141907c8>\n",
            "[(1, 'first'), (2, 'second'), (3, 'third')]\n"
          ],
          "name": "stdout"
        }
      ]
    },
    {
      "cell_type": "markdown",
      "metadata": {
        "id": "t19O-ux7pmI1",
        "colab_type": "text"
      },
      "source": [
        "Here's another example of using the `zip` function."
      ]
    },
    {
      "cell_type": "code",
      "metadata": {
        "ExecuteTime": {
          "end_time": "2019-06-13T08:16:20.888496Z",
          "start_time": "2019-06-13T08:16:20.878238Z"
        },
        "id": "vTsyNmwapmI1",
        "colab_type": "code",
        "outputId": "65eba42c-49cc-411a-c1b0-e29f47ed484d",
        "colab": {
          "base_uri": "https://localhost:8080/",
          "height": 146
        }
      },
      "source": [
        "days=\"Monday Tuesday Wednesday Thursday Friday Saturday Sunday\".split()\n",
        "weathers=\"rainy rainy sunny cloudy rainy sunny sunny\".split()\n",
        "temperatures=[10,12,12,9,9,11,11]\n",
        "for day, weather, temperature in zip(days,weathers,temperatures):\n",
        "    print(f\"On {day} it was {weather} and the temperature was {temperature} degrees celsius.\")\n",
        "\n",
        "# Or equivalently:\n",
        "#for t in zip(days,weathers,temperatures):\n",
        "#    print(\"On {} it was {} and the temperature was {} degrees celsius.\".format(*t))"
      ],
      "execution_count": 0,
      "outputs": [
        {
          "output_type": "stream",
          "text": [
            "On Monday it was rainy and the temperature was 10 degrees celsius.\n",
            "On Tuesday it was rainy and the temperature was 12 degrees celsius.\n",
            "On Wednesday it was sunny and the temperature was 12 degrees celsius.\n",
            "On Thursday it was cloudy and the temperature was 9 degrees celsius.\n",
            "On Friday it was rainy and the temperature was 9 degrees celsius.\n",
            "On Saturday it was sunny and the temperature was 11 degrees celsius.\n",
            "On Sunday it was sunny and the temperature was 11 degrees celsius.\n"
          ],
          "name": "stdout"
        }
      ]
    },
    {
      "cell_type": "markdown",
      "metadata": {
        "id": "B6Y21e8IpmI3",
        "colab_type": "text"
      },
      "source": [
        "If the sequences are not of equal length, then the resulting sequence will be as long as the shortest input sequence is."
      ]
    },
    {
      "cell_type": "markdown",
      "metadata": {
        "id": "YCOg2ZUzpmI4",
        "colab_type": "text"
      },
      "source": [
        "#### <div class=\"alert alert-info\">Exercise 11 (interleave)</div>\n",
        "\n",
        "Write function `interleave` that gets arbitrary number of lists as parameters. You may assume that all the lists have equal length. The function should return one list containing all the elements from the input lists interleaved.\n",
        "Test your function from the `main` function of the program.\n",
        "\n",
        "Example:\n",
        "`interleave([1,2,3], [20,30,40], ['a', 'b', 'c'])`\n",
        "should return\n",
        "`[1, 20, 'a', 2, 30, 'b', 3, 40, 'c']`.\n",
        "Use the `zip` function to implement `interleave`. Remember the `extend` method of list objects.\n",
        "<hr/>"
      ]
    },
    {
      "cell_type": "markdown",
      "metadata": {
        "id": "CqGSRhZJpmI4",
        "colab_type": "text"
      },
      "source": [
        "#### Enumerating sequences\n",
        "\n",
        "In some other programming languages one iterates through the elements using their indices (0,1, ...) in the sequence. In Python we normally don't need to think about indices when iterating, because the `for` loop allows simpler iteration through the elements. But sometimes you really need to know the index of the current element in the sequence. In this case one uses Python's `enumerate` function. In the next example we would like find the second occurrence of integer 5 in a list."
      ]
    },
    {
      "cell_type": "code",
      "metadata": {
        "id": "vbUudwvSpmI5",
        "colab_type": "code",
        "outputId": "4b9b3ae1-833f-44b0-817d-417d118c7038",
        "colab": {
          "base_uri": "https://localhost:8080/",
          "height": 35
        }
      },
      "source": [
        "L=[1,2,98,5,-1,2,0,5,10]\n",
        "counter = 0\n",
        "for  i,x in enumerate(L):\n",
        "    if x == 5:\n",
        "        counter += 1\n",
        "        if counter == 2:\n",
        "            break\n",
        "print(i)\n",
        "\n"
      ],
      "execution_count": 0,
      "outputs": [
        {
          "output_type": "stream",
          "text": [
            "7\n"
          ],
          "name": "stdout"
        }
      ]
    },
    {
      "cell_type": "markdown",
      "metadata": {
        "id": "JIHaJV31pmI9",
        "colab_type": "text"
      },
      "source": [
        "#### Dictionaries\n",
        "A *dictionary* is a dynamic, unordered container. Instead of using integers to access the elements of the container, the dictionary uses *keys* to access the stored *values*. The dictionary can be created by listing the comma separated key-value pairs in braces. Keys and values are separated by a colon. A tuple (key,value) is called an *item* of the dictionary.\n",
        "\n",
        "Let's demonstrate the dictionary creation and usage:"
      ]
    },
    {
      "cell_type": "code",
      "metadata": {
        "id": "T6POtEQ6pmJA",
        "colab_type": "code",
        "outputId": "b39e1c7b-62d5-41ab-8c55-59f7cc055202",
        "colab": {}
      },
      "source": [
        "d={\"key1\":\"value1\", \"key2\":\"value2\"}\n",
        "print(d[\"key1\"])\n",
        "print(d[\"key2\"])"
      ],
      "execution_count": 0,
      "outputs": [
        {
          "output_type": "stream",
          "text": [
            "value1\n",
            "value2\n"
          ],
          "name": "stdout"
        }
      ]
    },
    {
      "cell_type": "markdown",
      "metadata": {
        "id": "u_5ANA1upmJF",
        "colab_type": "text"
      },
      "source": [
        "Keys can have different types even in the same container. So the following code is legal:\n",
        "`d={1:\"a\", \"z\":1}`. The only restriction is that the keys must be *hashable*. That is, there has to be a mapping from keys to integers. Lists are *not* hashable, but tuples are!\n",
        "\n",
        "There are alternative syntaxes for dictionary creation:"
      ]
    },
    {
      "cell_type": "code",
      "metadata": {
        "id": "DYcD4sijpmJG",
        "colab_type": "code",
        "colab": {}
      },
      "source": [
        "dict([(\"key1\", \"value1\"), (\"key2\", \"value2\"), (\"key3\", \"value3\")]) # list of items\n",
        "dict(key1=\"value1\", key2=\"value2\", key3=\"value3\");"
      ],
      "execution_count": 0,
      "outputs": []
    },
    {
      "cell_type": "markdown",
      "metadata": {
        "id": "EXiZDTwypmJH",
        "colab_type": "text"
      },
      "source": [
        "If a key is not found in a dictionary, the indexing `d[key]` results in an error (*exception* `KeyError`). But an assignment with a non-existing key causes the key to be added in the dictionary associated with the corresponding value:"
      ]
    },
    {
      "cell_type": "code",
      "metadata": {
        "id": "D-Vl115PpmJP",
        "colab_type": "code",
        "outputId": "e6e8ee95-e4e6-4f28-cc71-06f31ebf8379",
        "colab": {
          "base_uri": "https://localhost:8080/",
          "height": 35
        }
      },
      "source": [
        "d={}\n",
        "d[2]=\"value\"\n",
        "print(d)"
      ],
      "execution_count": 0,
      "outputs": [
        {
          "output_type": "stream",
          "text": [
            "{2: 'value'}\n"
          ],
          "name": "stdout"
        }
      ]
    },
    {
      "cell_type": "code",
      "metadata": {
        "id": "g3XaOslopmJR",
        "colab_type": "code",
        "colab": {}
      },
      "source": [
        "# d[1]   # This would cause an error"
      ],
      "execution_count": 0,
      "outputs": []
    },
    {
      "cell_type": "markdown",
      "metadata": {
        "id": "94vCK4DBpmJY",
        "colab_type": "text"
      },
      "source": [
        "Dictionary object contains several non-mutating methods:\n",
        "```\n",
        "d.copy()\n",
        "d.items()\n",
        "d.keys()\n",
        "d.values()\n",
        "d.get(k[,x])\n",
        "```\n",
        "\n",
        "Some methods mutate the dictionary:\n",
        "```\n",
        "d.clear()\n",
        "d.update(d1)\n",
        "d.setdefault(k[,x])\n",
        "d.pop(k[,x])\n",
        "d.popitem()\n",
        "```\n",
        "\n",
        "Try out some of these in the below cell. You can find more info with `help(dict)` or `help(dict.keys)`."
      ]
    },
    {
      "cell_type": "code",
      "metadata": {
        "id": "bKPOar1CpmJY",
        "colab_type": "code",
        "outputId": "a00e1c3a-bf76-409a-f8c4-07f46c138ba4",
        "colab": {
          "base_uri": "https://localhost:8080/",
          "height": 35
        }
      },
      "source": [
        "d=dict(a=1, b=2, c=3, d=4, e=5)\n",
        "d.values()"
      ],
      "execution_count": 0,
      "outputs": [
        {
          "output_type": "execute_result",
          "data": {
            "text/plain": [
              "dict_values([1, 2, 3, 4, 5])"
            ]
          },
          "metadata": {
            "tags": []
          },
          "execution_count": 82
        }
      ]
    },
    {
      "cell_type": "markdown",
      "metadata": {
        "id": "aHJjYghupmJZ",
        "colab_type": "text"
      },
      "source": [
        "#### Sets\n",
        "Set is a dynamic, unordered container. It works a bit like dictionary, but only the keys are stored. And each key can be stored only once. The set requires that the keys to be stored are hashable. Below are a few ways of creating a set:"
      ]
    },
    {
      "cell_type": "code",
      "metadata": {
        "id": "GHqRKTNEpmJa",
        "colab_type": "code",
        "outputId": "e24724d7-821f-4c05-9b8a-0c45d3b115e6",
        "colab": {
          "base_uri": "https://localhost:8080/",
          "height": 90
        }
      },
      "source": [
        "s={1,1,1}\n",
        "print(s)\n",
        "s=set([1,2,4,'a'])\n",
        "print(s)\n",
        "s=set()  # empty set\n",
        "print(s)\n",
        "s.add(7) # add one element\n",
        "print(s)"
      ],
      "execution_count": 0,
      "outputs": [
        {
          "output_type": "stream",
          "text": [
            "{1}\n",
            "{1, 2, 4, 'a'}\n",
            "set()\n",
            "{7}\n"
          ],
          "name": "stdout"
        }
      ]
    },
    {
      "cell_type": "markdown",
      "metadata": {
        "id": "44dkJUWVpmJc",
        "colab_type": "text"
      },
      "source": [
        "A more useful example:"
      ]
    },
    {
      "cell_type": "code",
      "metadata": {
        "ExecuteTime": {
          "end_time": "2019-06-13T08:21:16.770094Z",
          "start_time": "2019-06-13T08:21:16.765594Z"
        },
        "id": "W5PFOUc2pmJd",
        "colab_type": "code",
        "outputId": "e034aef3-b9f3-48f0-f15b-40a6d66e7b83",
        "colab": {}
      },
      "source": [
        "s=\"mississippi\"\n",
        "print(f\"There are {len(set(s))} distinct characters in {s}\")"
      ],
      "execution_count": 0,
      "outputs": [
        {
          "output_type": "stream",
          "text": [
            "There are 4 distinct characters in mississippi\n"
          ],
          "name": "stdout"
        }
      ]
    },
    {
      "cell_type": "markdown",
      "metadata": {
        "id": "27zKGONZpmJe",
        "colab_type": "text"
      },
      "source": [
        "The `set` provides the following non-mutating methods:"
      ]
    },
    {
      "cell_type": "code",
      "metadata": {
        "id": "ET4WhDB3pmJe",
        "colab_type": "code",
        "colab": {}
      },
      "source": [
        "s=set()\n",
        "s1=set()\n",
        "s.copy()\n",
        "s.issubset(s1)\n",
        "s.issuperset(s1)\n",
        "s.union(s1)\n",
        "s.intersection(s1)\n",
        "s.difference(s1)\n",
        "s.symmetric_difference(s1);"
      ],
      "execution_count": 0,
      "outputs": []
    },
    {
      "cell_type": "markdown",
      "metadata": {
        "id": "WhKy1U4ypmJf",
        "colab_type": "text"
      },
      "source": [
        "The last four operation can be tedious to write to create a more complicated expression. The alternative is to use the corresponding operator forms: `|`, `&`, `-`, and `^`. An example of these:"
      ]
    },
    {
      "cell_type": "code",
      "metadata": {
        "id": "2pgt7m9xpmJh",
        "colab_type": "code",
        "outputId": "64b01a8b-0282-44f3-a31e-127f2cf3a565",
        "colab": {}
      },
      "source": [
        "s=set([1,2,7])\n",
        "t=set([2,8,9])\n",
        "print(\"Union:\", s|t)\n",
        "print(\"Intersection:\", s&t)\n",
        "print(\"Difference:\", s-t)\n",
        "print(\"Symmetric difference\", s^t)"
      ],
      "execution_count": 0,
      "outputs": [
        {
          "output_type": "stream",
          "text": [
            "Union: {1, 2, 7, 8, 9}\n",
            "Intersection: {2}\n",
            "Difference: {1, 7}\n",
            "Symmetric difference {1, 7, 8, 9}\n"
          ],
          "name": "stdout"
        }
      ]
    },
    {
      "cell_type": "markdown",
      "metadata": {
        "id": "MPjI3wpUpmJl",
        "colab_type": "text"
      },
      "source": [
        "There are also the following mutating methods:\n",
        "```\n",
        "s.add(x)\n",
        "s.clear()\n",
        "s.discard()\n",
        "s.pop()\n",
        "s.remove(x)\n",
        "```\n",
        "\n",
        "And the set operators `|`, `&`, `-`, and `^` have the corresponding mutating, augmented assignment forms: `|=`, `&=`, `-=`, and `^=`."
      ]
    },
    {
      "cell_type": "markdown",
      "metadata": {
        "id": "eMMNQz2ApmJn",
        "colab_type": "text"
      },
      "source": [
        "#### <div class=\"alert alert-info\">Exercise 12 (distinct characters)</div>\n",
        "\n",
        "Write function `distinct_characters` that gets a list of strings as a parameter. It should return a dictionary whose keys are the strings of the input list and the corresponding values are the numbers of distinct characters in the key.\n",
        "\n",
        "Use the `set` container to temporarily store the distinct characters in a string.\n",
        "Example of usage:\n",
        "`distinct_characters([\"check\", \"look\", \"try\", \"pop\"])`\n",
        "should return\n",
        "`{ \"check\" : 4, \"look\" : 3, \"try\" : 3, \"pop\" : 2}`.\n",
        "<hr/>"
      ]
    },
    {
      "cell_type": "markdown",
      "metadata": {
        "id": "07-XbT1CpmJp",
        "colab_type": "text"
      },
      "source": [
        "#### Miscellaneous stuff\n",
        "\n",
        "To find out whether a container includes an element, the `in` operator can be used. The operator returns a truth value. Some examples of the usage:"
      ]
    },
    {
      "cell_type": "code",
      "metadata": {
        "id": "Nefg8hNHpmJp",
        "colab_type": "code",
        "outputId": "d5e46b62-acce-4f48-bd9c-05c4f2c0010f",
        "colab": {
          "base_uri": "https://localhost:8080/",
          "height": 90
        }
      },
      "source": [
        "print(1 in [1,2])\n",
        "d=dict(a=1, b=3)\n",
        "print(\"b\" in d)\n",
        "s=set()\n",
        "print(1 in s)\n",
        "print(\"x\" in \"text\")"
      ],
      "execution_count": 0,
      "outputs": [
        {
          "output_type": "stream",
          "text": [
            "True\n",
            "True\n",
            "False\n",
            "True\n"
          ],
          "name": "stdout"
        }
      ]
    },
    {
      "cell_type": "markdown",
      "metadata": {
        "id": "Pg9iH_iGpmJs",
        "colab_type": "text"
      },
      "source": [
        "As a special case, for strings the `in` operator can be used to check whether a string is part of another string:"
      ]
    },
    {
      "cell_type": "code",
      "metadata": {
        "id": "5eagaKwZpmJu",
        "colab_type": "code",
        "outputId": "23fc3f6d-b5b0-4d1c-8a16-4ca9c260d946",
        "colab": {}
      },
      "source": [
        "print(\"issi\" in \"mississippi\")\n",
        "print(\"issp\" in \"mississippi\")"
      ],
      "execution_count": 0,
      "outputs": [
        {
          "output_type": "stream",
          "text": [
            "True\n",
            "False\n"
          ],
          "name": "stdout"
        }
      ]
    },
    {
      "cell_type": "markdown",
      "metadata": {
        "id": "D4bhtFMqpmJx",
        "colab_type": "text"
      },
      "source": [
        "Elements of a container can be unpacked into variables:"
      ]
    },
    {
      "cell_type": "code",
      "metadata": {
        "ExecuteTime": {
          "end_time": "2019-06-13T08:37:47.009974Z",
          "start_time": "2019-06-13T08:37:47.001871Z"
        },
        "id": "qdVZhR8npmJz",
        "colab_type": "code",
        "outputId": "598a3cd4-86fe-4077-d864-652e27d58293",
        "colab": {
          "base_uri": "https://localhost:8080/",
          "height": 54
        }
      },
      "source": [
        "first, second = [4,5]\n",
        "a,b,c = \"bye\"\n",
        "print(c)\n",
        "d=dict(a=1, b=3)\n",
        "key1, key2 = d\n",
        "print(key1, key2)"
      ],
      "execution_count": 0,
      "outputs": [
        {
          "output_type": "stream",
          "text": [
            "e\n",
            "a b\n"
          ],
          "name": "stdout"
        }
      ]
    },
    {
      "cell_type": "markdown",
      "metadata": {
        "id": "ohQmqFDopmJ2",
        "colab_type": "text"
      },
      "source": [
        "In membership testing and unpacking only the keys of a dictionary are used, unless either values or items (like below) are explicitly asked."
      ]
    },
    {
      "cell_type": "code",
      "metadata": {
        "ExecuteTime": {
          "end_time": "2019-06-13T08:37:48.885038Z",
          "start_time": "2019-06-13T08:37:48.880368Z"
        },
        "id": "A93irTp3pmJ4",
        "colab_type": "code",
        "outputId": "8a5b069a-5062-4552-9e56-1cd884058680",
        "colab": {}
      },
      "source": [
        "for key, value in d.items():\n",
        "    print(f\"For key '{key}' value {value} was stored\")"
      ],
      "execution_count": 0,
      "outputs": [
        {
          "output_type": "stream",
          "text": [
            "For key 'a' value 1 was stored\n",
            "For key 'b' value 3 was stored\n"
          ],
          "name": "stdout"
        }
      ]
    },
    {
      "cell_type": "markdown",
      "metadata": {
        "id": "rZmp8QAZpmJ7",
        "colab_type": "text"
      },
      "source": [
        "To remove the binding of a variable, use the `del` statement. For example:"
      ]
    },
    {
      "cell_type": "code",
      "metadata": {
        "id": "NhynnMcepmJ8",
        "colab_type": "code",
        "colab": {}
      },
      "source": [
        "s = \"bye\"\n",
        "del s\n",
        "#print(s)    # This would cause an error"
      ],
      "execution_count": 0,
      "outputs": []
    },
    {
      "cell_type": "markdown",
      "metadata": {
        "id": "xZZfe4xapmJ_",
        "colab_type": "text"
      },
      "source": [
        "To delete an item from a container, the `del` statement can again be applied:"
      ]
    },
    {
      "cell_type": "code",
      "metadata": {
        "id": "bFzOygQ3pmKA",
        "colab_type": "code",
        "outputId": "b9f9594e-e2f4-4f00-aef1-fea99d340007",
        "colab": {}
      },
      "source": [
        "L=[13,23,40,100]\n",
        "del L[1]\n",
        "print(L)"
      ],
      "execution_count": 0,
      "outputs": [
        {
          "output_type": "stream",
          "text": [
            "[13, 40, 100]\n"
          ],
          "name": "stdout"
        }
      ]
    },
    {
      "cell_type": "markdown",
      "metadata": {
        "id": "tePEeDcCpmKD",
        "colab_type": "text"
      },
      "source": [
        "In similar fashion `del` can be used to delete a slice. Later we will see that `del` can delete attributes from an object."
      ]
    },
    {
      "cell_type": "markdown",
      "metadata": {
        "id": "w2iyhFwapmKE",
        "colab_type": "text"
      },
      "source": [
        "#### <div class=\"alert alert-info\">Exercise 13 (reverse dictionary)</div>\n",
        "\n",
        "Let `d` be a dictionary that has English words as keys and a list of Finnish words as values. So, the\n",
        "dictionary can be used to find out the Finnish equivalents of an English word in the following way:\n",
        "\n",
        "```\n",
        "d[\"move\"]\n",
        "[\"liikuttaa\"]\n",
        "d[\"hide\"]\n",
        "[\"piilottaa\", \"salata\"]\n",
        "```\n",
        "\n",
        "Make a function `reverse_dictionary` that creates a Finnish to English dictionary based on a English to Finnish dictionary given as a parameter. The values of the created dictionary should be lists of words. It should work like this:\n",
        "```\n",
        "d={'move': ['liikuttaa'], 'hide': ['piilottaa', 'salata'], 'six': ['kuusi'], 'fir': ['kuusi']}\n",
        "reverse_dictionary(d)\n",
        "{'liikuttaa': ['move'], 'piilottaa': ['hide'], 'salata': ['hide'], 'kuusi': ['six', 'fir']}\n",
        "```\n",
        "\n",
        "\n",
        "<hr/>"
      ]
    },
    {
      "cell_type": "markdown",
      "metadata": {
        "id": "PQP5Tn0TpmKE",
        "colab_type": "text"
      },
      "source": [
        "#### <div class=\"alert alert-info\">Exercise 14 (find matching)</div>\n",
        "\n",
        "Write function `find_matching` that gets a list of strings and a search string as parameters. The function should return the indices to those elements in the input list that contain the search string. Use the function `enumerate`.\n",
        "\n",
        "An example:\n",
        "`find_matching([\"sensitive\", \"engine\", \"rubbish\", \"comment\"], \"en\")`\n",
        "should return the list\n",
        "`[0, 1, 3]`.\n",
        "<hr/>"
      ]
    },
    {
      "cell_type": "code",
      "metadata": {
        "id": "thDE8V2DSa1P",
        "colab_type": "code",
        "colab": {}
      },
      "source": [
        "#Code here\n",
        "\n"
      ],
      "execution_count": 0,
      "outputs": []
    },
    {
      "cell_type": "markdown",
      "metadata": {
        "id": "DRgiAXTvpmKE",
        "colab_type": "text"
      },
      "source": [
        "### Compact way of creating data structures\n",
        "We can now easily create complicated data structures using `for` loops:"
      ]
    },
    {
      "cell_type": "code",
      "metadata": {
        "id": "5Mbtx0JZpmKF",
        "colab_type": "code",
        "outputId": "5092c89d-8e5a-41a0-fde6-b3084d4f7620",
        "colab": {}
      },
      "source": [
        "L=[]\n",
        "for i in range(10):\n",
        "    L.append(i**2)\n",
        "print(L)"
      ],
      "execution_count": 0,
      "outputs": [
        {
          "output_type": "stream",
          "text": [
            "[0, 1, 4, 9, 16, 25, 36, 49, 64, 81]\n"
          ],
          "name": "stdout"
        }
      ]
    },
    {
      "cell_type": "markdown",
      "metadata": {
        "id": "ysi-0bqzpmKH",
        "colab_type": "text"
      },
      "source": [
        "Because this kind of pattern is often used, Python offers a short-hand for this. A *list comprehension* is an expression that allows creating complicated lists on one line. "
      ]
    },
    {
      "cell_type": "markdown",
      "metadata": {
        "id": "f7Oo2c4IpmKI",
        "colab_type": "text"
      },
      "source": [
        "The same written in Python as a list comprehension:"
      ]
    },
    {
      "cell_type": "code",
      "metadata": {
        "id": "eeuG8qv8pmKI",
        "colab_type": "code",
        "outputId": "89f0d6da-e828-4052-f971-fba2ddb9de68",
        "colab": {}
      },
      "source": [
        "L=[ a**3 for a in range(1,11)]\n",
        "print(L)"
      ],
      "execution_count": 0,
      "outputs": [
        {
          "output_type": "stream",
          "text": [
            "[1, 8, 27, 64, 125, 216, 343, 512, 729, 1000]\n"
          ],
          "name": "stdout"
        }
      ]
    },
    {
      "cell_type": "markdown",
      "metadata": {
        "id": "gtrTxvIrpmKK",
        "colab_type": "text"
      },
      "source": [
        "The generic form of a list comprehension is:\n",
        "`[ expression for element in iterable lc-clauses ]`.\n",
        "Let's break this syntax into pieces. The iterable can be any sequence (or something more general). The lc-clauses consists of zero or more of the following clauses:\n",
        "\n",
        "* for elem in iterable\n",
        "* if expression\n",
        "\n",
        "A more complicated example. How would you describe these numbers?"
      ]
    },
    {
      "cell_type": "code",
      "metadata": {
        "id": "9AcHl3SNpmKK",
        "colab_type": "code",
        "outputId": "46fe5b5f-1832-4052-b12f-4f6436400840",
        "colab": {
          "base_uri": "https://localhost:8080/",
          "height": 55
        }
      },
      "source": [
        "L=[ 100*a + 10*b +c for a in range(0,10)\n",
        "                    for b in range(0,10)\n",
        "                    for c in range(0,10) \n",
        "                    if a <= b <= c]\n",
        "print(L)"
      ],
      "execution_count": 0,
      "outputs": [
        {
          "output_type": "stream",
          "text": [
            "[0, 1, 2, 3, 4, 5, 6, 7, 8, 9, 11, 12, 13, 14, 15, 16, 17, 18, 19, 22, 23, 24, 25, 26, 27, 28, 29, 33, 34, 35, 36, 37, 38, 39, 44, 45, 46, 47, 48, 49, 55, 56, 57, 58, 59, 66, 67, 68, 69, 77, 78, 79, 88, 89, 99, 111, 112, 113, 114, 115, 116, 117, 118, 119, 122, 123, 124, 125, 126, 127, 128, 129, 133, 134, 135, 136, 137, 138, 139, 144, 145, 146, 147, 148, 149, 155, 156, 157, 158, 159, 166, 167, 168, 169, 177, 178, 179, 188, 189, 199, 222, 223, 224, 225, 226, 227, 228, 229, 233, 234, 235, 236, 237, 238, 239, 244, 245, 246, 247, 248, 249, 255, 256, 257, 258, 259, 266, 267, 268, 269, 277, 278, 279, 288, 289, 299, 333, 334, 335, 336, 337, 338, 339, 344, 345, 346, 347, 348, 349, 355, 356, 357, 358, 359, 366, 367, 368, 369, 377, 378, 379, 388, 389, 399, 444, 445, 446, 447, 448, 449, 455, 456, 457, 458, 459, 466, 467, 468, 469, 477, 478, 479, 488, 489, 499, 555, 556, 557, 558, 559, 566, 567, 568, 569, 577, 578, 579, 588, 589, 599, 666, 667, 668, 669, 677, 678, 679, 688, 689, 699, 777, 778, 779, 788, 789, 799, 888, 889, 899, 999]\n"
          ],
          "name": "stdout"
        }
      ]
    },
    {
      "cell_type": "markdown",
      "metadata": {
        "id": "-yMp7xdmpmKM",
        "colab_type": "text"
      },
      "source": [
        "If one needs only to iterate through the list once, it is more memory efficient to use a *generator expression* instead. The only thing that changes syntactically is that the surrounding brackets are replaced by parentheses:"
      ]
    },
    {
      "cell_type": "code",
      "metadata": {
        "id": "-cIFlMyapmKN",
        "colab_type": "code",
        "outputId": "ae576624-591a-43b8-e246-97b231716a49",
        "colab": {}
      },
      "source": [
        "G = ( 100*a + 10*b + c for a in range(0,10)\n",
        "                       for b in range(0,10)\n",
        "                       for c in range(0,10) \n",
        "                       if a <= b <= c )\n",
        "print(sum(G))   # This iterates through all the elements from the generator\n",
        "print(sum(G))   # It doesn't restart from the beginning, so all elements are already consumed"
      ],
      "execution_count": 0,
      "outputs": [
        {
          "output_type": "stream",
          "text": [
            "60885\n",
            "0\n"
          ],
          "name": "stdout"
        }
      ]
    },
    {
      "cell_type": "markdown",
      "metadata": {
        "id": "1FL64IXHpmKO",
        "colab_type": "text"
      },
      "source": [
        "<div class=\"alert alert-warning\">Note above that one can only iterate through the generator once.</div>"
      ]
    },
    {
      "cell_type": "markdown",
      "metadata": {
        "id": "cMirbY1bpmKP",
        "colab_type": "text"
      },
      "source": [
        "Similary a *dictionary comprehension* creates a dictionary:"
      ]
    },
    {
      "cell_type": "code",
      "metadata": {
        "id": "qG0inreKpmKQ",
        "colab_type": "code",
        "outputId": "54303a9f-c371-40b4-8db5-a5daabaf0e01",
        "colab": {}
      },
      "source": [
        "d={ k : k**2 for k in range(10)}\n",
        "print(d)"
      ],
      "execution_count": 0,
      "outputs": [
        {
          "output_type": "stream",
          "text": [
            "{0: 0, 1: 1, 2: 4, 3: 9, 4: 16, 5: 25, 6: 36, 7: 49, 8: 64, 9: 81}\n"
          ],
          "name": "stdout"
        }
      ]
    },
    {
      "cell_type": "markdown",
      "metadata": {
        "id": "I4_IvEixpmKR",
        "colab_type": "text"
      },
      "source": [
        "And a *set comprehension* creates a set:"
      ]
    },
    {
      "cell_type": "code",
      "metadata": {
        "id": "q_BJGgHUpmKS",
        "colab_type": "code",
        "outputId": "d6f2b3fe-f06d-4840-f93e-e91bc7050099",
        "colab": {}
      },
      "source": [
        "s={ i*j for i in range(10) for j in range(10)}\n",
        "print(s)"
      ],
      "execution_count": 0,
      "outputs": [
        {
          "output_type": "stream",
          "text": [
            "{0, 1, 2, 3, 4, 5, 6, 7, 8, 9, 10, 12, 14, 15, 16, 18, 20, 21, 24, 25, 27, 28, 30, 32, 35, 36, 40, 42, 45, 48, 49, 54, 56, 63, 64, 72, 81}\n"
          ],
          "name": "stdout"
        }
      ]
    },
    {
      "cell_type": "markdown",
      "metadata": {
        "id": "NFaoK6ZupmKU",
        "colab_type": "text"
      },
      "source": [
        "#### <div class=\"alert alert-info\">Exercise 15 (two dice comprehension)</div>\n",
        "\n",
        "Redo the earlier exercise which printed all the pairs of two dice results that sum to 5. But this time use a list comprehension. Print one pair per line.\n",
        "<hr/>"
      ]
    },
    {
      "cell_type": "markdown",
      "metadata": {
        "id": "xK7FrM3_pmKs",
        "colab_type": "text"
      },
      "source": [
        "## String handling\n",
        "We have already seen how to index, slice, concatenate, and repeat strings. Let's now look into what methods the `str` class offers. In Python strings are immutable. This means that for instance the following assignment is not legal:"
      ]
    },
    {
      "cell_type": "code",
      "metadata": {
        "id": "HZLFvh1kpmKs",
        "colab_type": "code",
        "colab": {}
      },
      "source": [
        "s=\"text\"\n",
        "# s[0] = \"a\"    # This is not legal in Python"
      ],
      "execution_count": 0,
      "outputs": []
    },
    {
      "cell_type": "markdown",
      "metadata": {
        "id": "kuY3YIb4pmKt",
        "colab_type": "text"
      },
      "source": [
        "Because of the immutability of the strings, the string methods work by returning a value; they don't have any side-effects. In the rest of this section we briefly describe several of these methods. The methods are here divided into five groups."
      ]
    },
    {
      "cell_type": "markdown",
      "metadata": {
        "id": "ZQ1OpYl-pmKt",
        "colab_type": "text"
      },
      "source": [
        "### Classification of strings\n",
        "All the following methods will take no parameters and return a truth value. An empty string will always result in `False`.\n",
        "\n",
        "* `s.isalnum()` True if all characters are letters or digits\n",
        "* `s.isalpha()` True if all characters are letters\n",
        "* `s.isdigit()` True if all characters are digits\n",
        "* `s.islower()` True if contains letters, and all are lowercase\n",
        "* `s.isupper()` True if contains letters, and all are uppercase\n",
        "* `s.isspace()` True if all characters are whitespace\n",
        "* `s.istitle()` True if uppercase in the beginning of word, elsewhere lowercase"
      ]
    },
    {
      "cell_type": "markdown",
      "metadata": {
        "id": "xk8XPpF9pmKu",
        "colab_type": "text"
      },
      "source": [
        "### String transformations\n",
        "The following methods do conversions between lower and uppercase characters in the string. All these methods return a new string.\n",
        "\n",
        "* `s.lower()`      Change all letters to lowercase\n",
        "* `s.upper()`      Change all letters to uppercase\n",
        "* `s.capitalize()` Change all letters to capitalcase\n",
        "* `s.title()` Change to titlecase\n",
        "* `s.swapcase()` Change all uppercase letters to lowercase, and vice versa\n",
        "\n",
        "\n",
        "\n",
        "\n",
        "\n"
      ]
    },
    {
      "cell_type": "markdown",
      "metadata": {
        "id": "LhN1oAtfpmKv",
        "colab_type": "text"
      },
      "source": [
        "### Searching for substrings\n",
        "All the following methods get the wanted substring as the\n",
        "parameter, except the replace method, which also gets the\n",
        "replacing string as a parameter\n",
        "\n",
        "* `s.count(substr)` Counts the number of occurences of a substring\n",
        "* `s.find(substr)` Finds index of the first occurence of a substring, or -1\n",
        "* `s.rfind(substr)` Finds index of the last occurence of a substring, or -1\n",
        "* `s.index(substr)` Like find, except ValueError is raised if not found\n",
        "* `s.rindex(substr)` Like rfind, except ValueError is raised if not found\n",
        "* `s.startswith(substr)` Returns True if string starts with a given substring\n",
        "* `s.endswith(substr)` Returns True if string ends with a given substring\n",
        "* `s.replace(substr, replacement)` Returns a string where occurences of one string\n",
        "are replaced by another\n",
        "\n",
        "Keep also in mind that the expression `\"issi\" in \"mississippi\"` returns a truth value of whether the first string occurs in the second string.\n",
        "\n",
        "\n",
        "\n",
        "\n",
        "\n",
        "\n"
      ]
    },
    {
      "cell_type": "markdown",
      "metadata": {
        "id": "ofVgI2N2pmKv",
        "colab_type": "text"
      },
      "source": [
        "### Trimming and adjusting\n",
        "* `s.strip(x)` Removes leading and trailing whitespace by default, or characters found in string x\n",
        "* `s.lstrip(x)` Same as strip but only leading characters are removed\n",
        "* `s.rstrip(x)` Same as strip but only trailing characters are removed\n",
        "* `s.ljust(n)` Left justifies string inside a field of length n\n",
        "* `s.rjust(n)` Right justifies string inside a field of length n\n",
        "* `s.center(n)` Centers string inside a field of length n"
      ]
    },
    {
      "cell_type": "markdown",
      "metadata": {
        "id": "ysx2YZMapmKv",
        "colab_type": "text"
      },
      "source": [
        "An example of using the `center` method and string repetition:"
      ]
    },
    {
      "cell_type": "code",
      "metadata": {
        "ExecuteTime": {
          "end_time": "2019-06-13T10:43:02.880507Z",
          "start_time": "2019-06-13T10:43:02.873128Z"
        },
        "id": "0NkrnFCrpmKw",
        "colab_type": "code",
        "outputId": "cca6fafe-bf11-4fe1-8e5e-e3d6336fb96d",
        "colab": {}
      },
      "source": [
        "L=[1,3,5,7,9,1,1]\n",
        "print(\"-\"*11)\n",
        "for i in L:\n",
        "    s=\"*\"*i \n",
        "    print(f\"|{s.center(9)}|\")\n",
        "print(\"-\"*11)"
      ],
      "execution_count": 0,
      "outputs": [
        {
          "output_type": "stream",
          "text": [
            "-----------\n",
            "|    *    |\n",
            "|   ***   |\n",
            "|  *****  |\n",
            "| ******* |\n",
            "|*********|\n",
            "|    *    |\n",
            "|    *    |\n",
            "-----------\n"
          ],
          "name": "stdout"
        }
      ]
    },
    {
      "cell_type": "markdown",
      "metadata": {
        "id": "i2uhGf2EpmK0",
        "colab_type": "text"
      },
      "source": [
        "### Joining and splitting\n",
        "The `join(seq)` method joins the strings of the sequence `seq`. The string itself is used as a delimitter. An example:"
      ]
    },
    {
      "cell_type": "code",
      "metadata": {
        "id": "mvzRa9FBpmK0",
        "colab_type": "code",
        "outputId": "341fe3fb-775d-406c-fc0d-bf92c24061bf",
        "colab": {}
      },
      "source": [
        "\"--\".join([\"abc\", \"def\", \"ghi\"])"
      ],
      "execution_count": 0,
      "outputs": [
        {
          "output_type": "execute_result",
          "data": {
            "text/plain": [
              "'abc--def--ghi'"
            ]
          },
          "metadata": {
            "tags": []
          },
          "execution_count": 88
        }
      ]
    },
    {
      "cell_type": "code",
      "metadata": {
        "ExecuteTime": {
          "end_time": "2019-06-18T09:03:51.182630Z",
          "start_time": "2019-06-18T09:03:51.176643Z"
        },
        "id": "o2-pFvDvpmK3",
        "colab_type": "code",
        "outputId": "b05e1f95-199b-4126-e781-9350506d633f",
        "colab": {}
      },
      "source": [
        "L=[str(x) for x in range(100)]\n",
        "s=\"\"\n",
        "for x in L:\n",
        "    s += \" \" + x    # Avoid doing this, it creates a new string at every iteration\n",
        "print(s)            # Note the redundant initial space\n",
        "print(\" \".join(L))  # This is the correct way of building a string out of smaller strings"
      ],
      "execution_count": 0,
      "outputs": [
        {
          "output_type": "stream",
          "text": [
            " 0 1 2 3 4 5 6 7 8 9 10 11 12 13 14 15 16 17 18 19 20 21 22 23 24 25 26 27 28 29 30 31 32 33 34 35 36 37 38 39 40 41 42 43 44 45 46 47 48 49 50 51 52 53 54 55 56 57 58 59 60 61 62 63 64 65 66 67 68 69 70 71 72 73 74 75 76 77 78 79 80 81 82 83 84 85 86 87 88 89 90 91 92 93 94 95 96 97 98 99\n",
            "0 1 2 3 4 5 6 7 8 9 10 11 12 13 14 15 16 17 18 19 20 21 22 23 24 25 26 27 28 29 30 31 32 33 34 35 36 37 38 39 40 41 42 43 44 45 46 47 48 49 50 51 52 53 54 55 56 57 58 59 60 61 62 63 64 65 66 67 68 69 70 71 72 73 74 75 76 77 78 79 80 81 82 83 84 85 86 87 88 89 90 91 92 93 94 95 96 97 98 99\n"
          ],
          "name": "stdout"
        }
      ]
    },
    {
      "cell_type": "markdown",
      "metadata": {
        "id": "yvzotAHUpmK5",
        "colab_type": "text"
      },
      "source": [
        "<div class=\"alert alert-warning\">If you want to build a string out of smaller strings, then\n",
        "first put the small strings into a list, and then use the `join` method to catenate the pieces together. It is much more efficient this way. Use the <code>+</code> catenation operator only if you have very few short strings that you want to catenate.</div>"
      ]
    },
    {
      "cell_type": "markdown",
      "metadata": {
        "id": "kzXod8DQpmK5",
        "colab_type": "text"
      },
      "source": [
        "Below we can see that for our small (100 element) list, execution is an order of magnitude faster using the `join` method."
      ]
    },
    {
      "cell_type": "code",
      "metadata": {
        "ExecuteTime": {
          "end_time": "2019-06-18T09:04:03.371833Z",
          "start_time": "2019-06-18T09:03:53.717431Z"
        },
        "id": "OQPuQGBLpmK6",
        "colab_type": "code",
        "outputId": "20014ab2-c20d-450e-8d1a-8d5b2439b1e2",
        "colab": {}
      },
      "source": [
        "%%timeit\n",
        "s=\"\"\n",
        "for x in L:\n",
        "    s += \" \" + x"
      ],
      "execution_count": 0,
      "outputs": [
        {
          "output_type": "stream",
          "text": [
            "11.8 µs ± 114 ns per loop (mean ± std. dev. of 7 runs, 100000 loops each)\n"
          ],
          "name": "stdout"
        }
      ]
    },
    {
      "cell_type": "code",
      "metadata": {
        "ExecuteTime": {
          "end_time": "2019-06-18T09:04:35.670357Z",
          "start_time": "2019-06-18T09:04:25.471086Z"
        },
        "id": "PZkb9zZCpmK8",
        "colab_type": "code",
        "outputId": "91496d45-41a4-4667-f8ce-da5761439c03",
        "colab": {}
      },
      "source": [
        "%%timeit\n",
        "s = \" \".join(L)"
      ],
      "execution_count": 0,
      "outputs": [
        {
          "output_type": "stream",
          "text": [
            "1.25 µs ± 6.42 ns per loop (mean ± std. dev. of 7 runs, 1000000 loops each)\n"
          ],
          "name": "stdout"
        }
      ]
    },
    {
      "cell_type": "markdown",
      "metadata": {
        "id": "FZNOubrWpmK9",
        "colab_type": "text"
      },
      "source": [
        "`%%timeit` is an IPython [cell magic](https://ipython.readthedocs.io/en/stable/interactive/magics.html) command, that is useful for timing execution in notebooks."
      ]
    },
    {
      "cell_type": "markdown",
      "metadata": {
        "id": "JAcL7ok4pmK9",
        "colab_type": "text"
      },
      "source": [
        "The method `split(sep=None)` divides a string into pieces that are separated by the string `sep`. The pieces are returned in a list. For instance, the call `'abc--def--ghi'.split(\"--\")` will result in"
      ]
    },
    {
      "cell_type": "code",
      "metadata": {
        "id": "mzI6xMkhpmK-",
        "colab_type": "code",
        "outputId": "b3761342-ee6d-481e-d44e-f9537950278c",
        "colab": {}
      },
      "source": [
        "'abc--def--ghi'.split(\"--\")"
      ],
      "execution_count": 0,
      "outputs": [
        {
          "output_type": "execute_result",
          "data": {
            "text/plain": [
              "['abc', 'def', 'ghi']"
            ]
          },
          "metadata": {
            "tags": []
          },
          "execution_count": 90
        }
      ]
    },
    {
      "cell_type": "markdown",
      "metadata": {
        "id": "eUmM8xDVpmK_",
        "colab_type": "text"
      },
      "source": [
        "If no parameters are given to the `split` method, then it splits at any sequence of white space."
      ]
    },
    {
      "cell_type": "markdown",
      "metadata": {
        "id": "sVWdCGsCpmLA",
        "colab_type": "text"
      },
      "source": [
        "#### <div class=\"alert alert-info\">Exercise 16 (acronyms)</div>\n",
        "\n",
        "Write function `acronyms` which takes a string as a parameter and returns a list of acronyms. A word is an acronym if it has length at least two, and all its characters are in uppercase. Before acronym detection, delete punctuation with the `strip` method.\n",
        "\n",
        "Test this function in the `main` function with the following call:\n",
        "```python\n",
        "print(acronyms(\"\"\"For the purposes of the EU General Data Protection Regulation (GDPR), the controller of your personal information is International Business Machines Corporation (IBM Corp.), 1 New Orchard Road, Armonk, New York, United States, unless indicated otherwise. Where IBM Corp. or a subsidiary it controls (not established in the European Economic Area (EEA)) is required to appoint a legal representative in the EEA, the representative for all such cases is IBM United Kingdom Limited, PO Box 41, North Harbour, Portsmouth, Hampshire, United Kingdom PO6 3AU.\"\"\"))\n",
        "```\n",
        "\n",
        "This should return\n",
        "```['EU', 'GDPR', 'IBM', 'IBM', 'EEA', 'EEA', 'IBM', 'PO', 'PO6', '3AU']```\n",
        "<hr/>"
      ]
    },
    {
      "cell_type": "markdown",
      "metadata": {
        "id": "5RdwozH6pmLB",
        "colab_type": "text"
      },
      "source": [
        "#### <div class=\"alert alert-info\">Exercise 17 (sum equation)</div>\n",
        "\n",
        "Write a function `sum_equation` which takes a list of positive integers as parameters and returns a string with an equation of the sum of the elements.\n",
        "\n",
        "Example:\n",
        "`sum_equation([1,5,7])`\n",
        "returns\n",
        "`\"1 + 5 + 7 = 13\"`\n",
        "Observe, the spaces should be exactly as shown above. For an empty list the function should return the string \"0 = 0\".\n",
        "<hr/>"
      ]
    },
    {
      "cell_type": "markdown",
      "metadata": {
        "id": "d3vFm_NapmLB",
        "colab_type": "text"
      },
      "source": [
        "## Modules"
      ]
    },
    {
      "cell_type": "markdown",
      "metadata": {
        "id": "_D6ZTkHFpmLB",
        "colab_type": "text"
      },
      "source": [
        "To ease management of large programs, software is divided\n",
        "into smaller pieces. In Python these pieces are called *modules*.\n",
        "A module should be a unit that is as independent from other\n",
        "modules as possible.\n",
        "Each file in Python corresponds to a module.\n",
        "Modules can contain classes, objects, functions, ...\n",
        "For example, functions to handle regular expressions are in\n",
        "module `re`\n",
        "\n",
        "The standard library of Python consists of hundreds of\n",
        "modules. Some of the most common standard modules include\n",
        "\n",
        "* `re`\n",
        "* `math`\n",
        "* `random`\n",
        "* `os`\n",
        "* `sys`\n",
        "\n",
        "Any file with extension `.py` that contains Python source code\n",
        "is a module. So, no special notation is needed to create a module."
      ]
    },
    {
      "cell_type": "markdown",
      "metadata": {
        "id": "nJGIZkQ-pmLC",
        "colab_type": "text"
      },
      "source": [
        "### Using modules\n",
        "\n",
        "Let’s say that we need to use the cosine function.\n",
        "This function, and many other mathematical functions are\n",
        "located in the `math` module.\n",
        "To tell Python that we want to access the features offered by\n",
        "this module, we can give the statement `import math`.\n",
        "Now the module is loaded into memory.\n",
        "We can now call the function like this:\n",
        "```python\n",
        "math.cos(0)\n",
        "1.0\n",
        "```\n",
        "\n",
        "Note that we need to include the module name where the `cos`\n",
        "function is found.\n",
        "This is because other modules may have a function (or other\n",
        "attribute of a module) with the same name.\n",
        "This usage of different namespace for each module prevents\n",
        "name clashes. For example, functions `gzip.open`, `os.open` are not to be confused\n",
        "with the builtin `open` function."
      ]
    },
    {
      "cell_type": "markdown",
      "metadata": {
        "id": "V0g0mjeJpmLC",
        "colab_type": "text"
      },
      "source": [
        "### Breaking the namespace\n",
        "\n",
        "If the cosine is needed a lot, then it might be tedious to\n",
        "always specify the namespace, especially if the name of the\n",
        "namespace/module is long.\n",
        "For these cases there is another way of importing modules.\n",
        "Bring a name to the current scope with\n",
        "`from math import cos` statement.\n",
        "Now we can use it without the namespace specifier: `cos(1)`.\n",
        "\n",
        "Several names can be imported to the current scope with\n",
        "`from math import name1, name2, ...`\n",
        "Or even all names of the module with `from math import *`\n",
        "The last form is sensible only in few cases, normally it just\n",
        "confuses things since the user may have no idea what names\n",
        "will be imported."
      ]
    },
    {
      "cell_type": "markdown",
      "metadata": {
        "id": "lN7vUqlapmLC",
        "colab_type": "text"
      },
      "source": [
        "### Module lookup\n",
        "\n",
        "When we try to import a module `mod` with the import\n",
        "statement, the lookup proceeds in the following order:\n",
        "\n",
        "* Check if it is a builtin module\n",
        "* Check if the file `mod.py` is found in any of the folders in\n",
        "the list `sys.path`. The first item in this list is the current\n",
        "folder\n",
        "\n",
        "When Python is started, the `sys.path` list is initialised with\n",
        "the contents of the `PYTHONPATH` environment variable"
      ]
    },
    {
      "cell_type": "markdown",
      "metadata": {
        "id": "ADxCHEICpmLD",
        "colab_type": "text"
      },
      "source": [
        "### Module hierarchy\n",
        "\n",
        "The standard library contains hundreds of modules.\n",
        "Hence, it is hard to comprehend what the library includes.\n",
        "The modules therefore need to be organised somehow.\n",
        "In Python the modules can be organised into hierarchies using\n",
        "*packages*.\n",
        "A package is a module that can contain other packages and\n",
        "modules.\n",
        "For example, the `numpy` package contains subpackages `core`,\n",
        "`distutils`, `f2py`, `fft`, `lib`, `linalg`, `ma`, `numarray`, `oldnumeric`,\n",
        "`random`, and `testing`.\n",
        "And package `numpy.linalg` in turn contains modules `linalg`,\n",
        "`lapack_lite` and `info`."
      ]
    },
    {
      "cell_type": "markdown",
      "metadata": {
        "id": "w0k4JltVpmLD",
        "colab_type": "text"
      },
      "source": [
        "### Importing from packages\n",
        "\n",
        "The statement `import numpy` imports the top-level package `numpy`\n",
        "and its subpackages. \n",
        "\n",
        "* `import numpy.linalg` imports the subpackage only, and\n",
        "* `import numpy.linalg.linalg` imports the module only\n",
        "\n",
        "If we want to skip the long namespace specification, we can\n",
        "use the form\n",
        "\n",
        "```python\n",
        "from numpy.linalg import linalg\n",
        "```\n",
        "\n",
        "or\n",
        "\n",
        "```python\n",
        "from numpy.linalg import linalg as lin\n",
        "```\n",
        "\n",
        "if we want to use a different name for the module. The following command imports the function `det` (computes the determinant of a matrix) from the module linalg, which is contained in a subpackage linalg, which belongs to package numpy:\n",
        "```python\n",
        "from numpy.linalg.linalg import det\n",
        "```\n",
        "\n",
        "Had we only imported the top-level package `numpy` we would have to refer to the `det` function with the full name `numpy.linalg.linalg.det`.\n",
        "\n",
        "Here's a recap of the module hierarchy:\n",
        "\n",
        "```\n",
        "numpy    package\n",
        "  .\n",
        "linalg   subpackage\n",
        "  .\n",
        "linalg   module\n",
        "  .\n",
        " det     function\n",
        "```"
      ]
    },
    {
      "cell_type": "markdown",
      "metadata": {
        "id": "sAmJmhF9pmLE",
        "colab_type": "text"
      },
      "source": [
        "### Correspondence between folder and module hierarchies\n",
        "\n",
        "The packages are represented by folders in the filesystem.\n",
        "The folder should contain a file named `__init__.py` that\n",
        "makes up the package body. This handles the initialisation of\n",
        "the package.\n",
        "The folder may contain also further folders\n",
        "(subpackages) or Python files (normal modules).\n",
        "\n",
        "```\n",
        "a/\n",
        "    __init__.py\n",
        "    b.py\n",
        "    c/\n",
        "        __init__.py\n",
        "        d.py\n",
        "        e.py\n",
        "```\n",
        "![package.svg](https://github.com/saskeli/data-analysis-with-python-summer-2019/blob/master/package.svg?raw=1)"
      ]
    },
    {
      "cell_type": "markdown",
      "metadata": {
        "id": "TihuE_qepmLF",
        "colab_type": "text"
      },
      "source": [
        "### Contents of a module\n",
        "\n",
        "Suppose we have a module named `mod.py`.\n",
        "All the assignments, class definitions with the `class` statement,\n",
        "and function definitions with `def` statement will create new\n",
        "attributes to this module.\n",
        "Let’s import this module from another Python file using the\n",
        "`import mod` statement.\n",
        "After the import we can access the attributes of the module\n",
        "object using the normal dot notation: `mod.f()`,\n",
        "`mod.myclass()`, `mod.a`, etc.\n",
        "Note that Python doesn’t really have global variables that are\n",
        "visible to all modules. All variables belong to some module\n",
        "namespace.\n",
        "\n",
        "One can query the attributes of an object using the `dir` function. With no\n",
        "parameters, it shows the attributes of the current module. Try executing `dir()` in\n",
        "an IPython shell or in a Jupyter notebook! After that, define the following attributes, and try running `dir()`\n",
        "again:\n",
        "\n",
        "```python\n",
        "a=5\n",
        "def f(i):\n",
        "    return i + 1\n",
        "```\n",
        "\n",
        "The above definitions created a *data attribute* called `a` and a *function attribute* called `f`.\n",
        "We will talk more about attributes next week when we will talk about objects.\n",
        "\n",
        "Just like other objects, the module object contains its\n",
        "attributes in the dictionary `modulename.__dict__`\n",
        "Usually a module contains at least the attributes `__name__` and\n",
        "`__file__`. Other common attributes are `__version__`,\n",
        "`__author__` and `__doc__` , which contains the docstring of the\n",
        "module.\n",
        "If the first statement of a file is a string, this is taken as the\n",
        "docstring for that module. Note that the docstring of the module really must be the first non-empty non-comment line.\n",
        "The attribute `__file__` is always the filename of the module.\n",
        "\n",
        "The module attribute `__name__` has value `“__main__”` if we in are the main program,\n",
        "otherwise some other module has imported us and name\n",
        "equals `__file__`."
      ]
    },
    {
      "cell_type": "markdown",
      "metadata": {
        "id": "TmRMBxzFpmLF",
        "colab_type": "text"
      },
      "source": [
        "In Python it is possible to put statements on the top-level of our module `mod` so that they don't belong to any function. For instance like this:\n",
        "\n",
        "```python\n",
        "for _ in range(3):\n",
        "    print(\"Hello\")\n",
        "```\n",
        "\n",
        "But if somebody imports our module with `import mod`, then all the statements at the top-level will be executed. This may be surprising to the user who imported the module. The user will usually say, explicitly when he/she wants to execute some code from the imported module.\n",
        "\n",
        "It is better style to put these statements inside some function. If they don't fit in any other function, then you can use, for example, the function named `main`, like this:\n",
        "\n",
        "```python\n",
        "def main():\n",
        "    for _ in range(3):\n",
        "        print(\"Hello\")\n",
        "\n",
        "if __name__ == \"__main__\":    # We call main only when this module is not being imported, but directly executed\n",
        "    main()                    # for example with 'python3 mod.py'\n",
        "```\n",
        "\n",
        "You probably have seen this mechanism used in the exercise stubs.\n",
        "Note that in Python the `main` has no special meaning, it is just our convention to use it here.\n",
        "Now if somebody imports `mod`, the `for` loop won't be automatically executed. If we want, we can call it explicitly with `mod.main()`. "
      ]
    },
    {
      "cell_type": "markdown",
      "metadata": {
        "id": "Jhag__CbpmLG",
        "colab_type": "text"
      },
      "source": [
        "```python\n",
        "for _ in range(3):\n",
        "    print(\"Hello\")\n",
        "```"
      ]
    },
    {
      "cell_type": "markdown",
      "metadata": {
        "id": "I1dqG2XVpmLG",
        "colab_type": "text"
      },
      "source": [
        "#### <div class=\"alert alert-info\">Exercise 18 (usemodule)</div>\n",
        "\n",
        "Create your own module as file `triangle.py` in the `src` folder. The module should contain two functions:\n",
        "\n",
        "* `hypothenuse` which returns the length of the hypothenuse when given the lengths of two other sides of a right-angled triangle\n",
        "* `area` which returns the area of the right-angled triangle, when two sides, perpendicular to each other, are given as parameters.\n",
        "\n",
        "Make sure both the functions and the module have descriptive docstrings. Add also the `__version__` and `__author__` attributes to the module. Call both your functions from the main function (which is in file `usemodule.py`)."
      ]
    },
    {
      "cell_type": "markdown",
      "metadata": {
        "id": "SOYzIt3Mkyst",
        "colab_type": "text"
      },
      "source": [
        "## Regular expressions"
      ]
    },
    {
      "cell_type": "markdown",
      "metadata": {
        "id": "YceHrC7Qkysx",
        "colab_type": "text"
      },
      "source": [
        "### Examples\n",
        "\n",
        "We have already seen that we can ask from a string `str`\n",
        "whether it begins with some substring as follows:\n",
        "`str.startswith('Apple')`.\n",
        "If we would like to know whether it starts with `\"Apple\"` or\n",
        "`\"apple\"`, we would have to call `startswith` method twice.\n",
        "Regular expressions offer a simpler solution:\n",
        "`re.match(r\"[Aa]pple\", str)`.\n",
        "The bracket notation is one example of the special syntax of\n",
        "*regular expressions*. In this case it says that any of the\n",
        "characters inside brackets will do: either `\"A\"` or `\"a\"`. The other\n",
        "letters in `\"pple\"` will act normally. The string `r\"[Aa]pple\"` is\n",
        "called a *pattern*.\n",
        "\n",
        "A more complicated example asks whether the string `str`\n",
        "starts with either `apple` or `banana` (no matter if the first letter\n",
        "is capital or not):\n",
        "`re.match(r\"[Aa]pple|[Bb]anana\", str)`.\n",
        "In this example we saw a new special character `|` that denotes\n",
        "an alternative. On either side of the bar character we have a\n",
        "*subpattern*.\n",
        "\n",
        "A legal variable name in Python starts with a letter or an\n",
        "underline character and the following characters can also be\n",
        "digits.\n",
        "So legal names are, for instance: `_hidden`, `L_value`, `A123_`.\n",
        "But the name `2abc` is not a valid variable name.\n",
        "Let’s see what would be the regular expression pattern to\n",
        "recognise valid variable names:\n",
        "`r\"[A-Za-z_][A-Za-z_0-9]*\\Z\"`.\n",
        "Here we have used a shorthand for character ranges: `A-Z`.\n",
        "This means all the characters from `A` to `Z`.\n",
        "\n",
        "The first character of the variable name is defined in the first\n",
        "brackets. The subsequent characters are defined in the second\n",
        "brackets.\n",
        "The special character `*` means that we allow any number\n",
        "(0,1,2, . . . ) of the previous subpattern. For example the\n",
        "pattern `r\"ba*\"` allows strings `\"b\"`, `\"ba\"`, `\"baa\"`, `\"baaa\"`, and\n",
        "so on.\n",
        "The special syntax `\\Z` denotes the end of the string.\n",
        "Without it we would also accept `abc-` as a valid name since\n",
        "the `match` function normally checks only that a string starts with a pattern.\n",
        "\n",
        "The special notations, like `\\Z`, also cause problems with string\n",
        "handling.\n",
        "Remember that normally in string literals we have some\n",
        "special notation: `\\n` stands for newline, `\\t` stands for tab, and\n",
        "so on.\n",
        "So, both string literals and regular expressions use similar\n",
        "looking notations, which can create serious confusion.\n",
        "This can be solved by using the so-called *raw strings*. We\n",
        "denote a raw string by having an `r` letter before the first\n",
        "quotation mark, for example `r\"ab*\\Z\"`.\n",
        "When using raw strings, the newline (`\\n`), tab (`\\t`), and other\n",
        "special string literal notations aren’t interpreted. One should\n",
        "always use raw strings when defining regular expression\n",
        "patterns!"
      ]
    },
    {
      "cell_type": "markdown",
      "metadata": {
        "id": "VM6B3YW4kys1",
        "colab_type": "text"
      },
      "source": [
        "### Patterns\n",
        "\n",
        "A pattern represents a set of strings. This set can even be\n",
        "potentially infinite.\n",
        "They can be used to describe a set of strings that have some\n",
        "commonality; some regular structure.\n",
        "Regular expressions (RE) are a classical computer science topic.\n",
        "They are very common in programming tasks. Scripting\n",
        "languages, like Python, are very fluent in regular expressions.\n",
        "Very complex text processing can be achieved using regular\n",
        "expressions.\n",
        "\n",
        "In patterns, normal characters (letters, numbers) just represent\n",
        "themselves, unless preceded by a backslash, which may trigger\n",
        "some special meaning.\n",
        "Punctuation characters have special meaning, unless preceded\n",
        "by backslash (`\\`), which deprives their special meaning.\n",
        "Use `\\\\` to represent a backslash character without any special\n",
        "meaning.\n",
        "In the following slides we will go through some of the more\n",
        "common RE notations.\n",
        "\n",
        "```\n",
        ". Matches any character\n",
        "[...] Matches any character contained within the brackets\n",
        "[^...] Matches any character not appearing after the hat (ˆ)\n",
        "ˆ Matches the start of the string\n",
        "$ Matches the end of the string\n",
        "* Matches zero or more previous RE\n",
        "+ Matches one or more previous RE\n",
        "{m,n} Matches m to n occurences of previous RE\n",
        "? Matches zero or one occurences of previous RE\n",
        "```\n",
        "\n",
        "We have already seen that a `|` character denotes alternatives.\n",
        "For example, the pattern `r\"Get (on|off|ready)\"` matches\n",
        "the following strings: `\"Get on\"`, `\"Get off\"`, `\"Get ready\"`.\n",
        "We can use parentheses to create groupings inside a pattern:\n",
        "`r\"(ab)+\"` will match the strings `\"ab\"`, `\"abab\"`, `\"ababab\"`,\n",
        "and so on.\n",
        "These groups are also given a reference number starting from 1. \n",
        "We can refer to groups using backreferences: `\\number`.\n",
        "For example, we can find separated patterns that get\n",
        "repeated: `r\"([a-z]{3,}) \\1 \\1\"`.\n",
        "This will recognise, for example, the following strings: `\"aca\n",
        "aca aca\"`, `\"turn turn turn\"`. But not the strings `\"aca\n",
        "aba aca\"` or `\"ac ac ac\"`.\n",
        "\n",
        "\n",
        "In the following, note that a hat (ˆ) as the first character\n",
        "inside brackets will create a complement set of characters:\n",
        "\n",
        "```\n",
        "`\\d` same as `[0-9]`, matches a digit\n",
        "`\\D` same as `[ˆ0-9]`, matches anything but a digit\n",
        "`\\s` matches a whitespace character (space, newline, tab, ... )\n",
        "`\\S` matches a nonwhitespace character\n",
        "`\\w` same as `[a-zA-Z0-9_]`, matches one alphanumeric character\n",
        "`\\W` matches one non-alphanumeric character\n",
        "```\n",
        "\n",
        "Using the above notation we can now shorten our previous\n",
        "variable name example to `r’[a-zA-Z_]\\w*\\Z’`\n",
        "\n",
        "The patterns `\\A`, `\\b`, `\\B`, and `\\Z` will all match an empty\n",
        "string, but in specific places.\n",
        "The patterns `\\A` and `\\Z` will recognise the beginning and end\n",
        "of the string, respectively.\n",
        "Note that the patterns `ˆ` and `$` can in some cases match also\n",
        "after a newline and before a newline, correspondingly.\n",
        "So, `\\A` is distinct from `ˆ`, and `\\Z` is distinct from `$`.\n",
        "The pattern `\\b` matches at the start or end of a word. The\n",
        "pattern `\\B` does the reverse."
      ]
    },
    {
      "cell_type": "markdown",
      "metadata": {
        "id": "FM2j2WjQkys4",
        "colab_type": "text"
      },
      "source": [
        "### Match and search functions\n",
        "\n",
        "We have so far only used the `re.match` function which tries\n",
        "to find a match at the beginning of a string\n",
        "The function `re.search` allows to match any substring of a\n",
        "string.\n",
        "Example: `re.search(r'\\bback\\b', s)` will match\n",
        "strings `\"back\"`, `\"a back, is a body part\"`, `\"get back\"`. But it\n",
        "will not match the strings `\"backspace\"` or `\"comeback\"`.\n",
        "\n",
        "The function `re.search` finds only the first occurence.\n",
        "We can use the `re.findall` function to find all occurences.\n",
        "Let’s say we want to find all present participle words in a\n",
        "string `s`. The present participle words have ending `'ing'`.\n",
        "The function call would look like this:\n",
        "`re.findall(r'\\w+ing\\b', s)`.\n",
        "Let’s try running this:"
      ]
    },
    {
      "cell_type": "code",
      "metadata": {
        "id": "9RrCl6Ejkys6",
        "colab_type": "code",
        "outputId": "c0a7ceee-68d6-4c88-afb3-76e74cf8429a",
        "colab": {}
      },
      "source": [
        "import re\n",
        "s = \"Doing things, going home, staying awake, sleeping later\"\n",
        "re.findall(r'\\w+ing\\b', s)"
      ],
      "execution_count": 0,
      "outputs": [
        {
          "output_type": "execute_result",
          "data": {
            "text/plain": [
              "['Doing', 'going', 'staying', 'sleeping']"
            ]
          },
          "metadata": {
            "tags": []
          },
          "execution_count": 1
        }
      ]
    },
    {
      "cell_type": "markdown",
      "metadata": {
        "id": "vVjN7obTkytF",
        "colab_type": "text"
      },
      "source": [
        "Let’s say we want to pick up all the integers from a string.\n",
        "We can try that with the following function call:\n",
        "`re.findall(r'[+-]?\\d+', s)`.\n",
        "An example run:"
      ]
    },
    {
      "cell_type": "code",
      "metadata": {
        "id": "PIOhOajykytI",
        "colab_type": "code",
        "outputId": "bb3cce22-59aa-4ebe-a665-6014d6e480e6",
        "colab": {}
      },
      "source": [
        "re.findall(r'[+-]?\\d+', \"23 + -24 = -1\")"
      ],
      "execution_count": 0,
      "outputs": [
        {
          "output_type": "execute_result",
          "data": {
            "text/plain": [
              "['23', '-24', '-1']"
            ]
          },
          "metadata": {
            "tags": []
          },
          "execution_count": 2
        }
      ]
    },
    {
      "cell_type": "markdown",
      "metadata": {
        "id": "_jepYUB0kytU",
        "colab_type": "text"
      },
      "source": [
        "Suppose we are given a string of if/then sentences, and we\n",
        "would like to extract the conditions from these sentences.\n",
        "Let’s try the following function call:\n",
        "`re.findall(r'[Ii]f (.*), then', s)`.\n",
        "An example run:"
      ]
    },
    {
      "cell_type": "code",
      "metadata": {
        "id": "H8QEQu0KkytW",
        "colab_type": "code",
        "outputId": "4b4291f8-61df-4460-f84b-b5bd20fbe79b",
        "colab": {}
      },
      "source": [
        "s = (\"If I’m not in a hurry, then I should stay. \" +\n",
        "    \"On the other hand, if I leave, then I can sleep.\")\n",
        "re.findall(r'[Ii]f (.*), then', s)"
      ],
      "execution_count": 0,
      "outputs": [
        {
          "output_type": "execute_result",
          "data": {
            "text/plain": [
              "['I’m not in a hurry, then I should stay. On the other hand, if I leave']"
            ]
          },
          "metadata": {
            "tags": []
          },
          "execution_count": 3
        }
      ]
    },
    {
      "cell_type": "markdown",
      "metadata": {
        "id": "sz6Pwg6bkyte",
        "colab_type": "text"
      },
      "source": [
        "But I wanted a result: `[\"I'm not in a hurry\", 'I leave']`. That\n",
        "is, the condition from both sentences. How can this be fixed?\n",
        "\n",
        "The problem is that the pattern `.*` tries to match as many\n",
        "characters as possible.\n",
        "This is called *greedy matching*.\n",
        "One way of solving this problem is to notice that the two\n",
        "sentences are separated by a full-stop (.).\n",
        "So, instead of matching all the characters, we need to match\n",
        "everything but the dot character.\n",
        "This can be achieved by using the complement character\n",
        "class: `[^.]`. The hat character (`ˆ`) in the beginning of a\n",
        "character class means the complement character class\n",
        "\n",
        "After the modification the function call looks like this:\n",
        "`re.findall(r'[Ii]f ([^.]*), then', s)`.\n",
        "Another way of solving this problem is to use a non-greedy\n",
        "matching.\n",
        "The repetition specifiers `+`, `*`, `?`, and `{m,n}` have\n",
        "corresponding non-greedy versions: `+?`, `*?`, `??`, and `{m,n}?`.\n",
        "These expressions use as few characters as possible to make\n",
        "the whole pattern match some substring.\n",
        "By using non-greedy version, the function call looks like this:\n",
        "`re.findall(r’[Ii]f (.*?), then’, s)`.\n",
        "\n"
      ]
    },
    {
      "cell_type": "markdown",
      "metadata": {
        "id": "GOcrvB2vkytg",
        "colab_type": "text"
      },
      "source": [
        "### Functions in the `re` module\n",
        "\n",
        "Below is a list of the most common functions in the `re` module\n",
        "\n",
        "* `re.match(pattern, str)`\n",
        "* `re.search(pattern, str)`\n",
        "* `re.findall(pattern, str)`\n",
        "* `re.finditer(pattern, str)`\n",
        "* `re.sub(pattern, replacement, str, count=0)`\n",
        "\n",
        "Functions `match` and `search` return a *match object*.\n",
        "A match object describes the found occurence.\n",
        "The function `findall` returns a list of all the occurences of\n",
        "the pattern. The elements in the list are strings.\n",
        "The function `finditer` works like `findall` function except\n",
        "that instead of returning a list, it returns an iterator whose\n",
        "items are match objects.\n",
        "The function `sub` replaces all the occurences of the pattern in\n",
        "`str` with the string replacement and returns the new string.\n",
        "\n",
        "An example: The following program will replace all \"she\"\n",
        "words with \"he\"\n",
        "\n",
        "```\n",
        "import re\n",
        "str = \"She goes where she wants to, she's a sheriff.\"\n",
        "newstr = re.sub(r'\\b[Ss]he\\b', 'he', str)\n",
        "print newstr\n",
        "```\n",
        "\n",
        "This will print `he goes where he wants to, he's a sheriff.`\n",
        "\n",
        "The `sub` function can also use backreferences to refer to the\n",
        "matched string. The backreferences \\1, \\2, and so on, refer\n",
        "to the groups of the pattern, in order.\n",
        "An example:\n",
        "```\n",
        "import re\n",
        "str = \"\"\"He is the president of Russia.\n",
        "He’s a powerful man.\"\"\"\n",
        "newstr = re.sub(r'(\\b[Hh]e\\b)', r'\\1 (Putin)', str, 1)\n",
        "print newstr\n",
        "```\n",
        "\n",
        "This will print\n",
        "```\n",
        "He (Putin) is the president of Russia.\n",
        "He’s a powerful man.\n",
        "```"
      ]
    },
    {
      "cell_type": "markdown",
      "metadata": {
        "id": "2wUjcQ8bkyti",
        "colab_type": "text"
      },
      "source": [
        "### Match object\n",
        "\n",
        "Functions `match`, `search`, and `finditer` use `match` objects\n",
        "to describe the found occurence.\n",
        "The method `groups()` of the match object returns the tuple\n",
        "of all the substrings matched by the groups of the pattern.\n",
        "Each pair of parentheses in the pattern creates a new group.\n",
        "These groups are are referred to by indices 1, 2, ...\n",
        "The group 0 is a special one: it refers to the match created by\n",
        "the whole pattern.\n",
        "\n",
        "Let’s look at the match object returned by the call\n",
        "\n",
        "```\n",
        "mo = re.search(r'\\d+ (\\d+) \\d+ (\\d+)',\n",
        "'first 123 45 67 890 last')\n",
        "```\n",
        "\n",
        "The call `mo.groups()` returns a tuple `(’45’, ’890’)`.\n",
        "We can access just some individual groups by using the\n",
        "method `group(gid, ...)`.\n",
        "For example, the call `mo.group(1)` will return `’45’`.\n",
        "The zeroth group will represent the whole match:\n",
        "`’123 45 67 890’`\n",
        "\n",
        "In addition to accessing the strings matched by the pattern\n",
        "and its groups, the corresponding indices of the original string\n",
        "can be accessed:\n",
        "\n",
        "* The `start(gid=0)` and `end(gid=0)` methods return the start\n",
        "and end indices of the matched group gid, correspondingly\n",
        "* The method `span(gid)` just returns the pair of these start\n",
        "and end indices\n",
        "\n",
        "The match object mo can also be used like a boolean value:\n",
        "\n",
        "```python\n",
        "mo = re.search(...)\n",
        "if mo:\n",
        "    # do something\n",
        "```\n",
        "\n",
        "will do something if a match was found.\n",
        "Alternatively, the match object can be converted to a boolean\n",
        "value by the call `found = bool(mo)`."
      ]
    },
    {
      "cell_type": "markdown",
      "metadata": {
        "id": "MftT_1qukytj",
        "colab_type": "text"
      },
      "source": [
        "### Miscellaneous stuff\n",
        "\n",
        "If the same pattern is used in many function calls, it may be\n",
        "wise to precompile the pattern, mainly for efficiency reasons.\n",
        "This can be done using the `compile(pattern, flags=0)` function\n",
        "in the `re` module. The function returns a so-called RE object.\n",
        "The RE object has method versions of the functions found in\n",
        "module `re`.\n",
        "The only difference is that the first parameter is not the\n",
        "pattern since the precompiled pattern is stored in the RE\n",
        "object.\n",
        "\n",
        "The details of matching operation can be specified using\n",
        "optional flags.\n",
        "These flags can be given either inside the pattern or as a\n",
        "parameter to the compile function.\n",
        "Some of the more common flags are given in the following\n",
        "table\n",
        "\n",
        "| x   | Flag |\n",
        "|-----|--------------|\n",
        "|`(?i)` | re.IGNORECASE|\n",
        "|`(?m)` | re.MULTILINE|\n",
        "|`(?s)` | re.DOTALL|\n",
        "\n",
        "The elements on the left can appear anywhere in the pattern\n",
        "but preferably in the beginning.\n",
        "On the right there are attributes of the re module that can be\n",
        "given to the compile function as the second parameter\n",
        "\n",
        "The `IGNORECASE` flag makes lower- and uppercase\n",
        "characters appear as equal.\n",
        "The `MULTILINE` flag makes the special characters `ˆ` and `$`\n",
        "match the beginning and end of each line in addition to the\n",
        "beginning and end of the whole string. These flags make `\\A`\n",
        "differ from `ˆ`, and `\\Z` differ from `$`.\n",
        "The `DOTALL` flag makes the character class `.` (dot) also\n",
        "accept the newline character, in addition to all the other\n",
        "letters.\n",
        "\n",
        "When giving multiple flags to the compile function, the flags\n",
        "can be separated with the `|` sign.\n",
        "For example, `re.compile(pattern, re.MULTILINE | re.DOTALL)`.\n",
        "This is equal to `re.compile('(?m)(?s)' + pattern)`."
      ]
    },
    {
      "cell_type": "markdown",
      "metadata": {
        "id": "is9vnMffkytl",
        "colab_type": "text"
      },
      "source": [
        "#### <div class=\"alert alert-info\">Exercise 19 (integers in brackets)</div>\n",
        "\n",
        "Write function `integers_in_brackets` that finds from a given string all integers that are enclosed in brackets.\n",
        "\n",
        "Example run:\n",
        "`integers_in_brackets(\"  afd [asd] [12 ] [a34]  [ -43 ]tt [+12]xxx\")`\n",
        "returns\n",
        "`[12, -43, 12]`.\n",
        "So there can be whitespace between the number and the brackets, but no other character besides those that make up the integer.\n",
        "<hr/>"
      ]
    },
    {
      "cell_type": "code",
      "metadata": {
        "id": "-b9SKmaGmzXC",
        "colab_type": "code",
        "colab": {}
      },
      "source": [
        "#Write Code Here"
      ],
      "execution_count": 0,
      "outputs": []
    },
    {
      "cell_type": "markdown",
      "metadata": {
        "id": "WBW2jDCSkyto",
        "colab_type": "text"
      },
      "source": [
        "## Basic file processing"
      ]
    },
    {
      "cell_type": "markdown",
      "metadata": {
        "id": "xaX2PVEnkytq",
        "colab_type": "text"
      },
      "source": [
        "A file can be opened with the `open` function. The call `open(filename, mode=\"r\")` will return a *file object*, whose type is `file`. This file object can be used to refer to a file on disk. For example, when we want to read from or write to a file, we can used the methods `read` and `write` of the file object. After the file object is no longer needed, a call to the `close` method should be made.\n",
        "\n",
        "We can control what kind of operations we can perform on a file with the *mode* parameter of the `open` function. Different options include opening a file for reading or writing,\n",
        "whether the file should exists already or be created with the\n",
        "call to open, etc. Here's a list of all the opening modes:\n",
        "\n",
        "| Mode | Description |\n",
        "| ---- | ----------- |\n",
        "| `r`  | read-only mode, file must exist |\n",
        "| `w`  | write-only mode, creates, or overwrites an existing file |\n",
        "| `a`  | write-only mode, write always appends to the end |\n",
        "| `r+` | read/write mode, file must already exist |\n",
        "| `w+` | read/write mode, creates, or overwrites an existing file |\n",
        "| `a+` | read/write mode, write will append to end |"
      ]
    },
    {
      "cell_type": "markdown",
      "metadata": {
        "id": "WiyqXmNokytt",
        "colab_type": "text"
      },
      "source": [
        "In the end of the mode string either the letter `t` or `b` can be appended. These stand for text mode and binary mode. If this letter is not given, the file type is text mode by default. \n",
        "\n",
        "For binary mode the contents of the file are not interpreted in any way, and the read and write methods handle bytes. (A byte consists of 8 bits and can be used to represent a number in the range 0 to 255.)\n",
        "\n",
        "In the text mode two interpretations happen\n",
        "\n",
        "* On Windows operating system the end of line in files is encoded by two characters. When the file is read these two charactes are converted to `'\\n'` character. During writes to a file this conversion happens in the opposite direction.\n",
        "* One character is encoded in the file as one or more bytes. This conversion happens automatically during read and write operations. One common encoding between bytes and characters is utf-8. In this encoding, the Finnish character `'ä'`, for example, is encoded as the following sequence of bytes:"
      ]
    },
    {
      "cell_type": "code",
      "metadata": {
        "id": "-S4hupu6kytu",
        "colab_type": "code",
        "outputId": "52ebee07-c499-409e-ef22-1a693f1a0001",
        "colab": {}
      },
      "source": [
        "\"ä\".encode(\"utf-8\")"
      ],
      "execution_count": 0,
      "outputs": [
        {
          "output_type": "execute_result",
          "data": {
            "text/plain": [
              "b'\\xc3\\xa4'"
            ]
          },
          "metadata": {
            "tags": []
          },
          "execution_count": 4
        }
      ]
    },
    {
      "cell_type": "markdown",
      "metadata": {
        "id": "5T4HoKfRkyt0",
        "colab_type": "text"
      },
      "source": [
        "Above the two bytes were expressed as hexadecimals. In decimal notation they would be 195 and 164. (Both in the range from 0 to 255.)"
      ]
    },
    {
      "cell_type": "code",
      "metadata": {
        "id": "pWGnjv33kyt2",
        "colab_type": "code",
        "outputId": "c2a89e3f-1c4f-4191-96b6-2f936685d359",
        "colab": {}
      },
      "source": [
        "list(\"ä\".encode(\"utf-8\"))              # Show as a list of integers"
      ],
      "execution_count": 0,
      "outputs": [
        {
          "output_type": "execute_result",
          "data": {
            "text/plain": [
              "[195, 164]"
            ]
          },
          "metadata": {
            "tags": []
          },
          "execution_count": 5
        }
      ]
    },
    {
      "cell_type": "markdown",
      "metadata": {
        "id": "PIjUScHekyt7",
        "colab_type": "text"
      },
      "source": [
        "What is the utf-8 encoding of the letter `'a'`?\n",
        "\n",
        "During this course we will only consider files containing text, so the default text mode is fine for us. But we might sometimes have to specify the encoding of a file, if it is not the usual utf-8."
      ]
    },
    {
      "cell_type": "markdown",
      "metadata": {
        "id": "bjBGZJiZkyt9",
        "colab_type": "text"
      },
      "source": [
        "### Some common file object methods\n",
        "* `read(size)` will read size characters/bytes as a string\n",
        "* `write(string)` will write string/bytes to a file\n",
        "* `readline()` will read a string until and including the next newline character is met\n",
        "* `readlines()` will return a list of all lines of a file\n",
        "* `writelines()` will write a list of lines to a file\n",
        "* `flush()` will try to make sure that the changes made to a file are written to disk immediately"
      ]
    },
    {
      "cell_type": "code",
      "metadata": {
        "ExecuteTime": {
          "end_time": "2019-06-13T14:52:31.003612Z",
          "start_time": "2019-06-13T14:52:30.995901Z"
        },
        "id": "vS2Xn7uhkyt_",
        "colab_type": "code",
        "outputId": "01348779-bf3f-4cfc-cd92-8013a38d136e",
        "colab": {}
      },
      "source": [
        "f = open(\"basics.ipynb\", \"r\") # Let's open this notebook file, \n",
        "                              # which is essentially a text file.\n",
        "                              # So you can open it in a texteditor as well.\n",
        "        \n",
        "for i in range(5):            # And read the first five lines\n",
        "    line = f.readline()\n",
        "    print(f\"Line {i}: {line}\", end=\"\")\n",
        "f.close()"
      ],
      "execution_count": 0,
      "outputs": [
        {
          "output_type": "stream",
          "text": [
            "Line 0: {\n",
            "Line 1:  \"cells\": [\n",
            "Line 2:   {\n",
            "Line 3:    \"cell_type\": \"markdown\",\n",
            "Line 4:    \"metadata\": {},\n"
          ],
          "name": "stdout"
        }
      ]
    },
    {
      "cell_type": "markdown",
      "metadata": {
        "id": "xOeoGnaWkyuF",
        "colab_type": "text"
      },
      "source": [
        "It is easy to forget to close the file. One can use a *context manager* to solve this problem. A context manager is created with the `with` statement. After the indented block of the `with` statement exits, the file will be automatically closed."
      ]
    },
    {
      "cell_type": "code",
      "metadata": {
        "ExecuteTime": {
          "end_time": "2019-06-13T14:52:54.616535Z",
          "start_time": "2019-06-13T14:52:54.609996Z"
        },
        "id": "MexP5EDVkyuG",
        "colab_type": "code",
        "outputId": "3a9163b4-e2e1-44d7-d0d6-72525f4fe664",
        "colab": {}
      },
      "source": [
        "with open(\"basics.ipynb\", \"r\") as f:          # the file will be automatically closed,\n",
        "                                              # when the with block exits\n",
        "    for i in range(5):\n",
        "        line = f.readline()\n",
        "        print(f\"Line {i}: {line}\", end=\"\")"
      ],
      "execution_count": 0,
      "outputs": [
        {
          "output_type": "stream",
          "text": [
            "Line 0: {\n",
            "Line 1:  \"cells\": [\n",
            "Line 2:   {\n",
            "Line 3:    \"cell_type\": \"markdown\",\n",
            "Line 4:    \"metadata\": {},\n"
          ],
          "name": "stdout"
        }
      ]
    },
    {
      "cell_type": "markdown",
      "metadata": {
        "id": "xhA9X0IPkyuK",
        "colab_type": "text"
      },
      "source": [
        "The `file` object is iterable. This means that we can iterate through the lines in the file using a for loop, like in the below example:"
      ]
    },
    {
      "cell_type": "code",
      "metadata": {
        "ExecuteTime": {
          "end_time": "2019-06-13T14:57:40.297056Z",
          "start_time": "2019-06-13T14:57:40.289012Z"
        },
        "id": "EGbaykMokyuM",
        "colab_type": "code",
        "outputId": "e08f6d0b-a745-4855-e291-59aba40c7211",
        "colab": {}
      },
      "source": [
        "max_len = 0\n",
        "with open(\"basics.ipynb\", \"r\") as f:\n",
        "    for line in f:    # iterates through all the lines in the file\n",
        "        if len(line) > max_len:\n",
        "            max_len = len(line)\n",
        "print(f\"The longest line in this file has length {max_len}\")"
      ],
      "execution_count": 0,
      "outputs": [
        {
          "output_type": "stream",
          "text": [
            "The longest line in this file has length 1046\n"
          ],
          "name": "stdout"
        }
      ]
    },
    {
      "cell_type": "markdown",
      "metadata": {
        "id": "0vHSv1tLkyuS",
        "colab_type": "text"
      },
      "source": [
        "### Standard file objects\n",
        "Python has automatically three file objects open:\n",
        "\n",
        "* `sys.stdin` for *standard input*\n",
        "* `sys.stdout` for *standard output*\n",
        "* `sys.stderr` for *standard error*\n",
        "To read a line from a user (keyboard), you can call `sys.stdin.readline()`. To write a line to a user (screen), call `sys.stdout.write(line)`. The standard error is meant for error messages only, even though its output often goes to the same destination as standard output.\n",
        "\n",
        "The print function uses the file `sys.stdout` and input function uses the file `sys.stdin`. An example of usage:"
      ]
    },
    {
      "cell_type": "code",
      "metadata": {
        "id": "rPJvvY3mkyuT",
        "colab_type": "code",
        "outputId": "f39b8036-6053-48be-e469-52c4160bc90d",
        "colab": {}
      },
      "source": [
        "import sys\n",
        "import random\n",
        "i=random.randint(-10,10)\n",
        "if i >= 0:\n",
        "    sys.stdout.write(\"Got a positive integer.\\n\")\n",
        "else:\n",
        "    sys.stderr.write(\"Got a negative integer.\\n\")"
      ],
      "execution_count": 0,
      "outputs": [
        {
          "output_type": "stream",
          "text": [
            "Got a negative integer.\n"
          ],
          "name": "stderr"
        }
      ]
    },
    {
      "cell_type": "markdown",
      "metadata": {
        "id": "28irNNQTkyuZ",
        "colab_type": "text"
      },
      "source": [
        "These standard file objects are meant to be a basic input/output mechanism in textual form. The destinations of the file objects can be changed to point\n",
        "somewhere else than the usual keyboard and screen. Very often these are redirected to some files. For example, it is usual to point the stderr to a file where all\n",
        "error messages are logged."
      ]
    },
    {
      "cell_type": "markdown",
      "metadata": {
        "id": "NeCGNTVTnhaZ",
        "colab_type": "text"
      },
      "source": [
        "## sys module\n",
        "\n",
        "We saw above that the `sys` module contains the three file objects `sys.stdin`, `sys.stdout`, and `sys.stderr`. It has also few other useful attributes. The attribute `sys.path` is the list of folders that Python uses to look for imported modules. The list `sys.argv` contains the so called *command line parameters*. For example in Linux if you are using the terminal, then you can run your program with the command `python3 programname.py param1 param2 ...`. After Python has started your program, the command line parameters are visible as follows. The name of the program is in `sys.argv[0]`. The rest of the command line parameters are after the program name in this list: `sys.argv[1]==\"param1\"`, `sys.argv[2]==\"param2\"`, and so on. The command line parameters can be useful in adjusting the behaviour of your program. A few examples of these will be in the following exercises. (The terminal window is a textual interface to your computer instead of the usual graphical interface.)\n",
        "\n",
        "The function `sys.exit` can be used to exit immediately your program. The integer parameter given to this function is the return value of the program. Usually the return value 0 means that the program ran successfully, and non-zero integer means that an error occurred. This return value is accessible from the terminal window from where you started the program."
      ]
    },
    {
      "cell_type": "markdown",
      "metadata": {
        "id": "As6kUtCmnhab",
        "colab_type": "text"
      },
      "source": [
        "#### <div class=\"alert alert-info\">Exercise 20 (file listing)</div>\n",
        "\n",
        "The file `src/listing.txt` contains a list of files with one line per file. Each line contains seven fields: access rights, number of references, owner's name, name of owning group, file size, date, filename. These fields are separated with one or more spaces. Note that there may be spaces also within these seven fields.\n",
        "\n",
        "Write function `file_listing` that loads the file `src/listing.txt`. It should return a list of tuples (size, month, day, hour, minute, filename). Use regular expressions to do this (either `match`, `search`, `findall`, or `finditer` method).\n",
        "\n",
        "An example: for line\n",
        "```\n",
        "-rw-r--r-- 1 jttoivon hyad-all   25399 Nov  2 21:25 exception_hierarchy.pdf\n",
        "```\n",
        "the function should create the tuple `(25399, \"Nov\", 2, 21, 25, \"exception_hierarchy.pdf\")`.\n",
        "<hr/>"
      ]
    },
    {
      "cell_type": "markdown",
      "metadata": {
        "id": "7xoTMeQ9nhac",
        "colab_type": "text"
      },
      "source": [
        "#### <div class=\"alert alert-info\">Exercise 21 (red green blue)</div>\n",
        "\n",
        "The file `src/rgb.txt` contains names of colors and their numerical representations in RGB format. The RBG format allows a color to be represented as a mixture of red, green, and blue components. Each component can have an integer value in the range [0,255]. Each line in the file contains four fields: red, green, blue, and colorname.\n",
        "Each field is separated by some amount of whitespace (tab or space in this case).\n",
        "The text file is formatted to make it print nicely, but that makes it harder to process by a computer. Note that some color names can also contain a space character.\n",
        " \n",
        "Write function `red_green_blue` that reads the file `rgb.txt` from the folder `src`.  Remove the irrelevant first line of the file. The function should return a list of strings. Clean-up the file so that the strings in the returned list have four fields separated by a single tab character (`\\t`). Use regular expressions to do this.\n",
        "\n",
        "The first string in the returned list should be:\n",
        "```\n",
        "'255\\t250\\t250\\tsnow'\n",
        "```\n",
        "\n",
        "<hr/>"
      ]
    },
    {
      "cell_type": "markdown",
      "metadata": {
        "id": "xMR58Nk1nhad",
        "colab_type": "text"
      },
      "source": [
        "#### <div class=\"alert alert-info\">Exercise 22 (word frequencies)</div>\n",
        "\n",
        "Create function `word_frequencies` that gets a filename as a parameter and returns a dict with the word frequencies. In the dictionary the keys are the words and the corresponding values are the number of times that word occurred in the file specified by the function parameter. Read all the lines from the file and split the lines into words using the `split()` method. Further, remove punctuation from the ends of words using the `strip(\"\"\"!\"#$%&'()*,-./:;?@[]_\"\"\")` method call.\n",
        "\n",
        "Test this function in the main function using the file `alice.txt`. In the output, there should be a word and its count per line separated by a tab:\n",
        "\n",
        "```\n",
        "The     64\n",
        "Project 83\n",
        "Gutenberg\t26\n",
        "EBook   3\n",
        "of      303\n",
        "```\n",
        "\n",
        "<hr/>"
      ]
    },
    {
      "cell_type": "markdown",
      "metadata": {
        "id": "7I-I-rifnhaf",
        "colab_type": "text"
      },
      "source": [
        "#### <div class=\"alert alert-info\">Exercise 23 (file count)</div>\n",
        "\n",
        "This exercise can give two points at maximum!\n",
        "\n",
        "Part 1.\n",
        "\n",
        "Create a function `file_count` that gets a filename as parameter and returns a triple of numbers. The function should read the file, count the number of lines, words, and characters in the file, and return a triple with these count in this order. You get division into words by splitting at whitespace. You don't have to remove punctuation.\n",
        "\n",
        "Part 2.\n",
        "\n",
        "Create a main function that in a loop calls `file_count` using each filename in the list of command line parameters `sys.argv[1:]` as a parameter, in turn.\n",
        "For call `python3 src/file_count file1 file2 ...`\n",
        "the output should be\n",
        "```\n",
        "?      ?       ?       file1\n",
        "?      ?       ?       file2\n",
        "...\n",
        "```\n",
        "The fields are separated by tabs (`\\t`). The fields are in order: linecount, wordcount, charactercount, filename.\n",
        "<hr/>"
      ]
    },
    {
      "cell_type": "markdown",
      "metadata": {
        "id": "S-sCUHNYnhag",
        "colab_type": "text"
      },
      "source": [
        "#### <div class=\"alert alert-info\">Exercise 24 (file extensions)</div>\n",
        "\n",
        "This exercise can give two points at maximum!\n",
        "\n",
        "Part 1.\n",
        "\n",
        "Write function `file_extensions` that gets as a parameter a filename.\n",
        "It should read through the lines from this file. Each line contains a filename.\n",
        "Find the extension for each filename. The function should return a pair, where the\n",
        "first element is a list containing all filenames with no extension (with the preceding period (`.`) removed).\n",
        "The second element of the pair is a dictionary with extensions as keys and corresponding values are lists with filenames having that extension.\n",
        "\n",
        "Sounds a bit complicated, but hopefully the next example will clarify this.\n",
        "If the file contains the following lines\n",
        "```\n",
        "file1.txt\n",
        "mydocument.pdf\n",
        "file2.txt\n",
        "archive.tar.gz\n",
        "test\n",
        "```\n",
        "then the return value should be the pair:\n",
        "`([\"test\"], { \"txt\" : [\"file1.txt\", \"file2.txt\"], \"pdf\" : [\"mydocument.pdf\"], \"gz\" : [\"archive.tar.gz\"] } )`\n",
        "\n",
        "Part 2.\n",
        "\n",
        "Write a `main` method that calls the `file_extensions` function with \"src/filenames.txt\" as the argument. Then print the results so that for each extension there is a line consisting of the extension and the number of files with that extension. The first line of the output should give the number of files without extensions.\n",
        "\n",
        "With the example in part 1, the output should be\n",
        "```\n",
        "1 files with no extension\n",
        "gz 1\n",
        "pdf 1\n",
        "txt 2\n",
        "```\n",
        "Had there been no filenames without extension then the first line would have been `0 files with no extension`. In the printout list the extensions in alphabetical order.\n",
        "<hr/>"
      ]
    },
    {
      "cell_type": "markdown",
      "metadata": {
        "id": "EA6GQ_GnpmLG",
        "colab_type": "text"
      },
      "source": [
        "## Summary\n",
        "\n",
        "* We have learned that Python's code blocks are denoted by consistent indenting, with spaces or tabs, unlike in many other languages\n",
        "* Python's `for` loops goes through all the elements of a container without the need of worrying about the positions (indices) of the elements in the container\n",
        "* More generally, an iterable is an object whose elements can be gone through one by one using a `for` loop. Such as `range(1,7)`\n",
        "* Python has dynamic typing: the type of a name is known only when we run the program. The type might not be fixed, that is, if a name is created, for example, in a loop, then its type might change at each iteration.\n",
        "* Visibility of a name: a name that refers to a variable can disappear in the middle of a code block, if a `del` statement is issued!\n",
        "* Python is good at string handling, but remember that if you want to concatenate large number of strings, use the `join` method. Concatenating by the `+` operator multiple times is very inefficient\n",
        "* Several useful tools exist to process sequences: `map`, `reduce`, `filter`, `zip`, `enumerate`, and `range`. The unnamed lambda function can be helpful with these tools. Note that these tools (except the `reduce`) don't return lists, but iterables, for efficiency reasons: Most often we don't want to store the result from these tools to a container (such as a list), we may only want to iterate through the result!\n",
        "* We have learned how regular expressions can be used to specify regular sets of strings\n",
        "\n",
        "    * We know how to find out if a string matches a regular expression\n",
        "    * We know how to extract pieces of text that match a RE\n",
        "    * We can replace matches to a RE with another string\n",
        "* We can read (and write) a text file either line by line or whole file at the same time\n",
        "* We also know how to specify the encoding of the file. The utf-8 encoding is a very common and can represent nearly every character or symbol of any (natural) language\n",
        "* Program's parameters are in the array `sys.argv`, and we can return a value from the program with the function `sys.exit`\n",
        "* The file streams `sys.stdin`, `sys.stdout`, and `sys.stderr` allow basic textual input and output to and from the program"
      ]
    },
    {
      "cell_type": "markdown",
      "metadata": {
        "id": "qOX6AbZApmLH",
        "colab_type": "text"
      },
      "source": [
        "<!--NAVIGATION-->\n",
        "\n",
        "\n",
        "<a href=\"https://colab.research.google.com/github/smabb/p/blob/master/Lesson2_basics.ipynb\"><img align=\"left\" src=\"https://colab.research.google.com/assets/colab-badge.svg\" alt=\"Open in Colab\" title=\"Open and Execute in Google Colaboratory\"></a>\n"
      ]
    }
  ]
}
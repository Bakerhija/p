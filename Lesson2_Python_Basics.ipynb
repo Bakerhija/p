{
  "nbformat": 4,
  "nbformat_minor": 0,
  "metadata": {
    "colab": {
      "name": "Untitled1.ipynb",
      "provenance": [],
      "collapsed_sections": [
        "kBpExr98cMeL",
        "E0UoC1r7e7n1",
        "ZIf1OHNVcZcw",
        "B92Vb8E3yGd_",
        "SqV7TKOAyJe4",
        "Zwx_juxwyNFh"
      ],
      "toc_visible": true,
      "include_colab_link": true
    },
    "kernelspec": {
      "name": "python3",
      "display_name": "Python 3"
    }
  },
  "cells": [
    {
      "cell_type": "markdown",
      "metadata": {
        "id": "view-in-github",
        "colab_type": "text"
      },
      "source": [
        "<a href=\"https://colab.research.google.com/github/smabb/p/blob/master/Lesson2_Python_Basics.ipynb\" target=\"_parent\"><img src=\"https://colab.research.google.com/assets/colab-badge.svg\" alt=\"Open In Colab\"/></a>"
      ]
    },
    {
      "cell_type": "markdown",
      "metadata": {
        "id": "GlQB_AWJcC76",
        "colab_type": "text"
      },
      "source": [
        "# Lesson 2 Python Basics"
      ]
    },
    {
      "cell_type": "markdown",
      "metadata": {
        "id": "kBpExr98cMeL",
        "colab_type": "text"
      },
      "source": [
        "## Variables and data types"
      ]
    },
    {
      "cell_type": "markdown",
      "metadata": {
        "id": "_uMnY4SMc5ym",
        "colab_type": "text"
      },
      "source": [
        "\n",
        "\n",
        "\n",
        "<table>\n",
        "<tbody style=\"height: 40px;\">\n",
        "<tr>\n",
        "<td><strong>Variable Name</strong></td>\n",
        "<td><strong>Value</strong></td>\n",
        "<td><strong>Data Type</strong></td>\n",
        "</tr>\n",
        "<tr>\n",
        "<td><span style=\"font-weight: 400;\"><code>dog_name</code></span></td>\n",
        "<td><span style=\"font-weight: 400;\"><code>'Freddie'</code></span></td>\n",
        "<td><span style=\"font-weight: 400;\">str (short for string)</span></td>\n",
        "</tr>\n",
        "<tr>\n",
        "<td><span style=\"font-weight: 400;\"><code>age</code></span></td>\n",
        "<td><span style=\"font-weight: 400;\"><code>9</code></span></td>\n",
        "<td><span style=\"font-weight: 400;\">int (short for integer)</span></td>\n",
        "</tr>\n",
        "<tr>\n",
        "<td><span style=\"font-weight: 400;\"><code>is_vaccinated</code></span></td>\n",
        "<td><span style=\"font-weight: 400;\"><code>True</code></span></td>\n",
        "<td><span style=\"font-weight: 400;\">bool (short for Boolean)</span></td>\n",
        "</tr>\n",
        "<tr>\n",
        "<td><span style=\"font-weight: 400;\"><code>height</code></span></td>\n",
        "<td><span style=\"font-weight: 400;\"><code>1.1</code></span></td>\n",
        "<td><span style=\"font-weight: 400;\">float (short for floating)</span></td>\n",
        "</tr>\n",
        "<tr>\n",
        "<td><span style=\"font-weight: 400;\"><code>birth_year</code></span></td>\n",
        "<td><span style=\"font-weight: 400;\"><code>2001</code></span></td>\n",
        "<td><span style=\"font-weight: 400;\">int (short for integer)</span></td>\n",
        "</tr>\n",
        "</tbody>\n",
        "</table>\n",
        "\n",
        "\n"
      ]
    },
    {
      "cell_type": "code",
      "metadata": {
        "id": "Bu10kJseeHT7",
        "colab_type": "code",
        "colab": {
          "base_uri": "https://localhost:8080/",
          "height": 35
        },
        "outputId": "fd2e4be1-a7c3-4522-e71f-11e5ecdfc9e0"
      },
      "source": [
        "dog_name = 'Freddie'\n",
        "age = 9\n",
        "is_vaccinated = True\n",
        "height = 1.1\n",
        "birth_year = 2001\n",
        "type(age)"
      ],
      "execution_count": 8,
      "outputs": [
        {
          "output_type": "execute_result",
          "data": {
            "text/plain": [
              "int"
            ]
          },
          "metadata": {
            "tags": []
          },
          "execution_count": 8
        }
      ]
    },
    {
      "cell_type": "code",
      "metadata": {
        "id": "GTXja1CWep50",
        "colab_type": "code",
        "colab": {
          "base_uri": "https://localhost:8080/",
          "height": 35
        },
        "outputId": "c1fadb5c-17f2-40dc-e7d8-df4ff67c5116"
      },
      "source": [
        "dog_name = 'Eeddie'\n",
        "dog_name"
      ],
      "execution_count": 9,
      "outputs": [
        {
          "output_type": "execute_result",
          "data": {
            "text/plain": [
              "'Eeddie'"
            ]
          },
          "metadata": {
            "tags": []
          },
          "execution_count": 9
        }
      ]
    },
    {
      "cell_type": "markdown",
      "metadata": {
        "id": "E0UoC1r7e7n1",
        "colab_type": "text"
      },
      "source": [
        "###  Basic Operators\n"
      ]
    },
    {
      "cell_type": "code",
      "metadata": {
        "id": "vbWlK03zfMSN",
        "colab_type": "code",
        "colab": {
          "base_uri": "https://localhost:8080/",
          "height": 35
        },
        "outputId": "88436e12-d99d-4d08-a9d2-4e8813fc80b8"
      },
      "source": [
        "a=1;b=2;\n",
        "a+b\n"
      ],
      "execution_count": 11,
      "outputs": [
        {
          "output_type": "execute_result",
          "data": {
            "text/plain": [
              "3"
            ]
          },
          "metadata": {
            "tags": []
          },
          "execution_count": 11
        }
      ]
    },
    {
      "cell_type": "markdown",
      "metadata": {
        "id": "eA_c28nxfSus",
        "colab_type": "text"
      },
      "source": [
        "Arithemetic Operations\n",
        "<table>\n",
        "<tbody style=\"height: 40px;\">\n",
        "<tr>\n",
        "<td><b>Operator</b></td>\n",
        "<td><b>What does it do?</b></td>\n",
        "<td><b>Result in our example</b></td>\n",
        "</tr>\n",
        "<tr>\n",
        "<td><span style=\"font-weight: 400;\"><code>a + b</code></span></td>\n",
        "<td><span style=\"font-weight: 400;\">Adds a to b</span></td>\n",
        "<td><span style=\"font-weight: 400;\">7</span></td>\n",
        "</tr>\n",
        "<tr>\n",
        "<td><span style=\"font-weight: 400;\"><code>a - b</code></span></td>\n",
        "<td><span style=\"font-weight: 400;\">Subtract b from a</span></td>\n",
        "<td><span style=\"font-weight: 400;\">-1</span></td>\n",
        "</tr>\n",
        "<tr>\n",
        "<td><span style=\"font-weight: 400;\"><code>a * b</code></span></td>\n",
        "<td><span style=\"font-weight: 400;\">Multiply a by b</span></td>\n",
        "<td><span style=\"font-weight: 400;\">12</span></td>\n",
        "</tr>\n",
        "<tr>\n",
        "<td><span style=\"font-weight: 400;\"><code>a / b</code></span></td>\n",
        "<td><span style=\"font-weight: 400;\">Divide a by b</span></td>\n",
        "<td><span style=\"font-weight: 400;\">0.75</span></td>\n",
        "</tr>\n",
        "<tr>\n",
        "<td><span style=\"font-weight: 400;\"><code>b % a</code></span></td>\n",
        "<td><span style=\"font-weight: 400;\">Divides b by a and returns remainder</span></td>\n",
        "<td><span style=\"font-weight: 400;\">1</span></td>\n",
        "</tr>\n",
        "<tr>\n",
        "<td><span style=\"font-weight: 400;\"><code>a ** b</code></span></td>\n",
        "<td><span style=\"font-weight: 400;\">a raised to the power of b</span></td>\n",
        "<td><span style=\"font-weight: 400;\">81</span></td>\n",
        "</tr>\n",
        "</tbody>\n",
        "</table>"
      ]
    },
    {
      "cell_type": "code",
      "metadata": {
        "id": "7L1MSL6hfkMc",
        "colab_type": "code",
        "colab": {
          "base_uri": "https://localhost:8080/",
          "height": 35
        },
        "outputId": "044d5efb-9811-4df8-95ed-71c15b9a2c54"
      },
      "source": [
        "a > b"
      ],
      "execution_count": 12,
      "outputs": [
        {
          "output_type": "execute_result",
          "data": {
            "text/plain": [
              "False"
            ]
          },
          "metadata": {
            "tags": []
          },
          "execution_count": 12
        }
      ]
    },
    {
      "cell_type": "markdown",
      "metadata": {
        "id": "p60DN3H_fnbJ",
        "colab_type": "text"
      },
      "source": [
        "Comparison Operators\n",
        "\n",
        "<table>\n",
        "<tbody style=\"height: 40px;\">\n",
        "<tr>\n",
        "<td><b>Operator</b></td>\n",
        "<td><b>What does it do?</b></td>\n",
        "<td><b>Result in our example</b></td>\n",
        "</tr>\n",
        "<tr>\n",
        "<td><span style=\"font-weight: 400;\"><code>a &gt; b</code></span></td>\n",
        "<td><span style=\"font-weight: 400;\">Evaluate if </span><span style=\"font-weight: 400;\"><code>a</code></span><span style=\"font-weight: 400;\"> is greater than </span><span style=\"font-weight: 400;\"><code>b</code></span></td>\n",
        "<td><span style=\"font-weight: 400;\">False</span></td>\n",
        "</tr>\n",
        "<tr>\n",
        "<td><span style=\"font-weight: 400;\"><code>a &lt; b</code></span></td>\n",
        "<td><span style=\"font-weight: 400;\">Evaluate if </span><span style=\"font-weight: 400;\"><code>a</code></span><span style=\"font-weight: 400;\"> is less than </span><span style=\"font-weight: 400;\"><code>b</code></span></td>\n",
        "<td><span style=\"font-weight: 400;\">True</span></td>\n",
        "</tr>\n",
        "<tr>\n",
        "<td><span style=\"font-weight: 400;\"><code>a == b</code></span></td>\n",
        "<td><span style=\"font-weight: 400;\">Evaluate if&nbsp;</span><span style=\"font-weight: 400;\"><code>a</code></span><span style=\"font-weight: 400;\">&nbsp;equals&nbsp;</span><span style=\"font-weight: 400;\"><code>b</code></span></td>\n",
        "<td><span style=\"font-weight: 400;\">False</span></td>\n",
        "</tr>\n",
        "</tbody>\n",
        "</table>"
      ]
    },
    {
      "cell_type": "markdown",
      "metadata": {
        "id": "uf6TuAAlgMUV",
        "colab_type": "text"
      },
      "source": [
        " Logical Operators\n",
        " <table>\n",
        "<tbody style=\"height: 40px;\">\n",
        "<tr>\n",
        "<td><b>Operator</b></td>\n",
        "<td><b>What does it do?</b></td>\n",
        "<td><b>Result in our example</b></td>\n",
        "</tr>\n",
        "<tr>\n",
        "<td><span style=\"font-weight: 400;\"><code>c and d</code></span></td>\n",
        "<td><span style=\"font-weight: 400;\">True if both </span><span style=\"font-weight: 400;\"><code>c</code></span><span style=\"font-weight: 400;\"> and </span><span style=\"font-weight: 400;\"><code>d</code></span><span style=\"font-weight: 400;\"> are True</span></td>\n",
        "<td><span style=\"font-weight: 400;\">False</span></td>\n",
        "</tr>\n",
        "<tr>\n",
        "<td><span style=\"font-weight: 400;\"><code>c or d</code></span></td>\n",
        "<td><span style=\"font-weight: 400;\">True if either </span><span style=\"font-weight: 400;\"><code>c</code></span><span style=\"font-weight: 400;\"> or </span><span style=\"font-weight: 400;\"><code>d</code></span><span style=\"font-weight: 400;\"> is True</span></td>\n",
        "<td><span style=\"font-weight: 400;\">True</span></td>\n",
        "</tr>\n",
        "<tr>\n",
        "<td><span style=\"font-weight: 400;\"><code>not c</code></span></td>\n",
        "<td><span style=\"font-weight: 400;\">The opposite of </span><span style=\"font-weight: 400;\"><code>c</code></span></td>\n",
        "<td><span style=\"font-weight: 400;\">False</span></td>\n",
        "</tr>\n",
        "</tbody>\n",
        "</table>"
      ]
    },
    {
      "cell_type": "markdown",
      "metadata": {
        "id": "ZIf1OHNVcZcw",
        "colab_type": "text"
      },
      "source": [
        "## Data Structures in Python"
      ]
    },
    {
      "cell_type": "markdown",
      "metadata": {
        "id": "B92Vb8E3yGd_",
        "colab_type": "text"
      },
      "source": [
        "###Lists\n"
      ]
    },
    {
      "cell_type": "code",
      "metadata": {
        "id": "OxXCJm_2y25l",
        "colab_type": "code",
        "colab": {}
      },
      "source": [
        "my_list = [3, 4, 1, 4, 5, 2, 7]\n",
        "dog = ['Freddie', 9, True, 1.1, 2001, ['bone', 'little ball']]"
      ],
      "execution_count": 0,
      "outputs": []
    },
    {
      "cell_type": "markdown",
      "metadata": {
        "id": "pXhq31oVzRJ_",
        "colab_type": "text"
      },
      "source": [
        "#### Access elements of a Python list\n"
      ]
    },
    {
      "cell_type": "code",
      "metadata": {
        "id": "VtrLNjsfzW1b",
        "colab_type": "code",
        "colab": {
          "base_uri": "https://localhost:8080/",
          "height": 35
        },
        "outputId": "f2e0892b-ffa9-4678-8e50-b9a602ca6f63"
      },
      "source": [
        "dog[1]"
      ],
      "execution_count": 43,
      "outputs": [
        {
          "output_type": "execute_result",
          "data": {
            "text/plain": [
              "9"
            ]
          },
          "metadata": {
            "tags": []
          },
          "execution_count": 43
        }
      ]
    },
    {
      "cell_type": "code",
      "metadata": {
        "id": "7SXWbA6_0Gon",
        "colab_type": "code",
        "colab": {
          "base_uri": "https://localhost:8080/",
          "height": 35
        },
        "outputId": "4e8a1fc4-7e3f-41ce-b661-5a5e30b8c305"
      },
      "source": [
        "dog[0:4]"
      ],
      "execution_count": 44,
      "outputs": [
        {
          "output_type": "execute_result",
          "data": {
            "text/plain": [
              "['Freddie', 9, True, 1.1]"
            ]
          },
          "metadata": {
            "tags": []
          },
          "execution_count": 44
        }
      ]
    },
    {
      "cell_type": "markdown",
      "metadata": {
        "id": "SqV7TKOAyJe4",
        "colab_type": "text"
      },
      "source": [
        "###Tuples\n",
        " Python tuple is almost the same as a Python list, with a few small differences. immutable"
      ]
    },
    {
      "cell_type": "code",
      "metadata": {
        "id": "71eAPAlX1FT9",
        "colab_type": "code",
        "colab": {}
      },
      "source": [
        "dog = ('Freddie', 9, True, 1.1, 2001, ['bone', 'little ball'])"
      ],
      "execution_count": 0,
      "outputs": []
    },
    {
      "cell_type": "markdown",
      "metadata": {
        "id": "Zwx_juxwyNFh",
        "colab_type": "text"
      },
      "source": [
        "###Dictionaries\n"
      ]
    },
    {
      "cell_type": "code",
      "metadata": {
        "id": "W8ky0fqq50FA",
        "colab_type": "code",
        "colab": {
          "base_uri": "https://localhost:8080/",
          "height": 127
        },
        "outputId": "9ef89840-4bc2-4d5d-af48-81e766ced908"
      },
      "source": [
        "dog_dict = {'name': 'Freddie', 'age': 9, 'is_vaccinated': True, 'height': 1.1, 'birth_year': 2001, 'belongings': ['bone', 'little ball']}\n",
        "dog_dict"
      ],
      "execution_count": 48,
      "outputs": [
        {
          "output_type": "execute_result",
          "data": {
            "text/plain": [
              "{'age': 9,\n",
              " 'belongings': ['bone', 'little ball'],\n",
              " 'birth_year': 2001,\n",
              " 'height': 1.1,\n",
              " 'is_vaccinated': True,\n",
              " 'name': 'Freddie'}"
            ]
          },
          "metadata": {
            "tags": []
          },
          "execution_count": 48
        }
      ]
    },
    {
      "cell_type": "markdown",
      "metadata": {
        "id": "FKhTh70P6R2h",
        "colab_type": "text"
      },
      "source": [
        "####Access a specific element of a Python dictionary\n",
        "\n",
        "Note 1: maybe you are wondering whether you can still use a number to call a dictionary value. It’s not possible, because Python dictionaries are unordered by definition – this means none of the key-value pairs have a number in the dictionary. You can check this right away if you put in a new dictionary – when you call it back to your screen, it’ll change your original order to alphabetical order. (Check above!)\n",
        "\n",
        "Note 2: maybe you are also wondering if you can return a key by inputting a value and not just a value by inputting a key. Bad news: it’s not possible – Python is simply not made for that."
      ]
    },
    {
      "cell_type": "code",
      "metadata": {
        "id": "EXrodPdu6X_h",
        "colab_type": "code",
        "colab": {
          "base_uri": "https://localhost:8080/",
          "height": 35
        },
        "outputId": "62b3e22f-cf47-4d83-d06e-894d0be7f497"
      },
      "source": [
        "dog_dict['name']"
      ],
      "execution_count": 49,
      "outputs": [
        {
          "output_type": "execute_result",
          "data": {
            "text/plain": [
              "'Freddie'"
            ]
          },
          "metadata": {
            "tags": []
          },
          "execution_count": 49
        }
      ]
    },
    {
      "cell_type": "markdown",
      "metadata": {
        "id": "5b1m5TLT7NTf",
        "colab_type": "text"
      },
      "source": [
        "###Test yourself"
      ]
    },
    {
      "cell_type": "code",
      "metadata": {
        "id": "YoORM1SG7ah9",
        "colab_type": "code",
        "colab": {}
      },
      "source": [
        "test = [{'Arizona': 'Phoenix', 'California': 'Sacramento', 'Hawaii': 'Honolulu'},\n",
        "1000,\n",
        "2000,\n",
        "3000,\n",
        "['hat', 't-shirt', 'jeans', {'socks1': 'red', 'socks2': 'blue'}]]"
      ],
      "execution_count": 0,
      "outputs": []
    },
    {
      "cell_type": "markdown",
      "metadata": {
        "id": "U11OUIKZ7b9o",
        "colab_type": "text"
      },
      "source": [
        "Exercise #1: Return 2000 on your screen!\\\n",
        "Exercise #2: Return the dictionary of the cities and states on your screen\\\n",
        "Exercise #3: Return the list of the clothes on your screen\\\n",
        "Exercise #4: Return the word 'Phoenix' on your screen\\\n",
        "Exercise #5: return the word 'jeans' on your screen\\\n",
        "Exercise #6: Return the word 'blue' on your screen"
      ]
    },
    {
      "cell_type": "markdown",
      "metadata": {
        "id": "W708qROccbhz",
        "colab_type": "text"
      },
      "source": [
        "## Functions and methods"
      ]
    },
    {
      "cell_type": "markdown",
      "metadata": {
        "id": "8nAhbVd_cdap",
        "colab_type": "text"
      },
      "source": [
        "## If statements"
      ]
    },
    {
      "cell_type": "markdown",
      "metadata": {
        "id": "IRFJKp3FcfBr",
        "colab_type": "text"
      },
      "source": [
        "## Loops"
      ]
    },
    {
      "cell_type": "markdown",
      "metadata": {
        "id": "FVoA35IacgaY",
        "colab_type": "text"
      },
      "source": [
        "## Python syntax essentials"
      ]
    }
  ]
}
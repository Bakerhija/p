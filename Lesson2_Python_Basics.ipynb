{
  "nbformat": 4,
  "nbformat_minor": 0,
  "metadata": {
    "colab": {
      "name": "Untitled1.ipynb",
      "provenance": [],
      "toc_visible": true,
      "include_colab_link": true
    },
    "kernelspec": {
      "name": "python3",
      "display_name": "Python 3"
    }
  },
  "cells": [
    {
      "cell_type": "markdown",
      "metadata": {
        "id": "view-in-github",
        "colab_type": "text"
      },
      "source": [
        "<a href=\"https://colab.research.google.com/github/smabb/p/blob/master/Lesson2_Python_Basics.ipynb\" target=\"_parent\"><img src=\"https://colab.research.google.com/assets/colab-badge.svg\" alt=\"Open In Colab\"/></a>"
      ]
    },
    {
      "cell_type": "markdown",
      "metadata": {
        "id": "GlQB_AWJcC76",
        "colab_type": "text"
      },
      "source": [
        "# Lesson 2 Python Basics"
      ]
    },
    {
      "cell_type": "markdown",
      "metadata": {
        "id": "kBpExr98cMeL",
        "colab_type": "text"
      },
      "source": [
        "## Variables and data types"
      ]
    },
    {
      "cell_type": "markdown",
      "metadata": {
        "id": "_uMnY4SMc5ym",
        "colab_type": "text"
      },
      "source": [
        "\n",
        "\n",
        "\n",
        "<table>\n",
        "<tbody style=\"height: 40px;\">\n",
        "<tr>\n",
        "<td><strong>Variable Name</strong></td>\n",
        "<td><strong>Value</strong></td>\n",
        "<td><strong>Data Type</strong></td>\n",
        "</tr>\n",
        "<tr>\n",
        "<td><span style=\"font-weight: 400;\"><code>dog_name</code></span></td>\n",
        "<td><span style=\"font-weight: 400;\"><code>'Freddie'</code></span></td>\n",
        "<td><span style=\"font-weight: 400;\">str (short for string)</span></td>\n",
        "</tr>\n",
        "<tr>\n",
        "<td><span style=\"font-weight: 400;\"><code>age</code></span></td>\n",
        "<td><span style=\"font-weight: 400;\"><code>9</code></span></td>\n",
        "<td><span style=\"font-weight: 400;\">int (short for integer)</span></td>\n",
        "</tr>\n",
        "<tr>\n",
        "<td><span style=\"font-weight: 400;\"><code>is_vaccinated</code></span></td>\n",
        "<td><span style=\"font-weight: 400;\"><code>True</code></span></td>\n",
        "<td><span style=\"font-weight: 400;\">bool (short for Boolean)</span></td>\n",
        "</tr>\n",
        "<tr>\n",
        "<td><span style=\"font-weight: 400;\"><code>height</code></span></td>\n",
        "<td><span style=\"font-weight: 400;\"><code>1.1</code></span></td>\n",
        "<td><span style=\"font-weight: 400;\">float (short for floating)</span></td>\n",
        "</tr>\n",
        "<tr>\n",
        "<td><span style=\"font-weight: 400;\"><code>birth_year</code></span></td>\n",
        "<td><span style=\"font-weight: 400;\"><code>2001</code></span></td>\n",
        "<td><span style=\"font-weight: 400;\">int (short for integer)</span></td>\n",
        "</tr>\n",
        "</tbody>\n",
        "</table>\n",
        "\n",
        "\n"
      ]
    },
    {
      "cell_type": "code",
      "metadata": {
        "id": "Bu10kJseeHT7",
        "colab_type": "code",
        "colab": {
          "base_uri": "https://localhost:8080/",
          "height": 35
        },
        "outputId": "fd2e4be1-a7c3-4522-e71f-11e5ecdfc9e0"
      },
      "source": [
        "dog_name = 'Freddie'\n",
        "age = 9\n",
        "is_vaccinated = True\n",
        "height = 1.1\n",
        "birth_year = 2001\n",
        "type(age)"
      ],
      "execution_count": 8,
      "outputs": [
        {
          "output_type": "execute_result",
          "data": {
            "text/plain": [
              "int"
            ]
          },
          "metadata": {
            "tags": []
          },
          "execution_count": 8
        }
      ]
    },
    {
      "cell_type": "code",
      "metadata": {
        "id": "GTXja1CWep50",
        "colab_type": "code",
        "colab": {
          "base_uri": "https://localhost:8080/",
          "height": 35
        },
        "outputId": "c1fadb5c-17f2-40dc-e7d8-df4ff67c5116"
      },
      "source": [
        "dog_name = 'Eeddie'\n",
        "dog_name"
      ],
      "execution_count": 9,
      "outputs": [
        {
          "output_type": "execute_result",
          "data": {
            "text/plain": [
              "'Eeddie'"
            ]
          },
          "metadata": {
            "tags": []
          },
          "execution_count": 9
        }
      ]
    },
    {
      "cell_type": "markdown",
      "metadata": {
        "id": "E0UoC1r7e7n1",
        "colab_type": "text"
      },
      "source": [
        "###  Basic Operators\n"
      ]
    },
    {
      "cell_type": "code",
      "metadata": {
        "id": "vbWlK03zfMSN",
        "colab_type": "code",
        "colab": {
          "base_uri": "https://localhost:8080/",
          "height": 35
        },
        "outputId": "88436e12-d99d-4d08-a9d2-4e8813fc80b8"
      },
      "source": [
        "a=1;b=2;\n",
        "a+b\n"
      ],
      "execution_count": 11,
      "outputs": [
        {
          "output_type": "execute_result",
          "data": {
            "text/plain": [
              "3"
            ]
          },
          "metadata": {
            "tags": []
          },
          "execution_count": 11
        }
      ]
    },
    {
      "cell_type": "markdown",
      "metadata": {
        "id": "eA_c28nxfSus",
        "colab_type": "text"
      },
      "source": [
        "Arithemetic Operations\n",
        "<table>\n",
        "<tbody style=\"height: 40px;\">\n",
        "<tr>\n",
        "<td><b>Operator</b></td>\n",
        "<td><b>What does it do?</b></td>\n",
        "<td><b>Result in our example</b></td>\n",
        "</tr>\n",
        "<tr>\n",
        "<td><span style=\"font-weight: 400;\"><code>a + b</code></span></td>\n",
        "<td><span style=\"font-weight: 400;\">Adds a to b</span></td>\n",
        "<td><span style=\"font-weight: 400;\">7</span></td>\n",
        "</tr>\n",
        "<tr>\n",
        "<td><span style=\"font-weight: 400;\"><code>a - b</code></span></td>\n",
        "<td><span style=\"font-weight: 400;\">Subtract b from a</span></td>\n",
        "<td><span style=\"font-weight: 400;\">-1</span></td>\n",
        "</tr>\n",
        "<tr>\n",
        "<td><span style=\"font-weight: 400;\"><code>a * b</code></span></td>\n",
        "<td><span style=\"font-weight: 400;\">Multiply a by b</span></td>\n",
        "<td><span style=\"font-weight: 400;\">12</span></td>\n",
        "</tr>\n",
        "<tr>\n",
        "<td><span style=\"font-weight: 400;\"><code>a / b</code></span></td>\n",
        "<td><span style=\"font-weight: 400;\">Divide a by b</span></td>\n",
        "<td><span style=\"font-weight: 400;\">0.75</span></td>\n",
        "</tr>\n",
        "<tr>\n",
        "<td><span style=\"font-weight: 400;\"><code>b % a</code></span></td>\n",
        "<td><span style=\"font-weight: 400;\">Divides b by a and returns remainder</span></td>\n",
        "<td><span style=\"font-weight: 400;\">1</span></td>\n",
        "</tr>\n",
        "<tr>\n",
        "<td><span style=\"font-weight: 400;\"><code>a ** b</code></span></td>\n",
        "<td><span style=\"font-weight: 400;\">a raised to the power of b</span></td>\n",
        "<td><span style=\"font-weight: 400;\">81</span></td>\n",
        "</tr>\n",
        "</tbody>\n",
        "</table>"
      ]
    },
    {
      "cell_type": "code",
      "metadata": {
        "id": "7L1MSL6hfkMc",
        "colab_type": "code",
        "colab": {
          "base_uri": "https://localhost:8080/",
          "height": 35
        },
        "outputId": "044d5efb-9811-4df8-95ed-71c15b9a2c54"
      },
      "source": [
        "a > b"
      ],
      "execution_count": 12,
      "outputs": [
        {
          "output_type": "execute_result",
          "data": {
            "text/plain": [
              "False"
            ]
          },
          "metadata": {
            "tags": []
          },
          "execution_count": 12
        }
      ]
    },
    {
      "cell_type": "markdown",
      "metadata": {
        "id": "p60DN3H_fnbJ",
        "colab_type": "text"
      },
      "source": [
        "Comparison Operators\n",
        "\n",
        "<table>\n",
        "<tbody style=\"height: 40px;\">\n",
        "<tr>\n",
        "<td><b>Operator</b></td>\n",
        "<td><b>What does it do?</b></td>\n",
        "<td><b>Result in our example</b></td>\n",
        "</tr>\n",
        "<tr>\n",
        "<td><span style=\"font-weight: 400;\"><code>a &gt; b</code></span></td>\n",
        "<td><span style=\"font-weight: 400;\">Evaluate if </span><span style=\"font-weight: 400;\"><code>a</code></span><span style=\"font-weight: 400;\"> is greater than </span><span style=\"font-weight: 400;\"><code>b</code></span></td>\n",
        "<td><span style=\"font-weight: 400;\">False</span></td>\n",
        "</tr>\n",
        "<tr>\n",
        "<td><span style=\"font-weight: 400;\"><code>a &lt; b</code></span></td>\n",
        "<td><span style=\"font-weight: 400;\">Evaluate if </span><span style=\"font-weight: 400;\"><code>a</code></span><span style=\"font-weight: 400;\"> is less than </span><span style=\"font-weight: 400;\"><code>b</code></span></td>\n",
        "<td><span style=\"font-weight: 400;\">True</span></td>\n",
        "</tr>\n",
        "<tr>\n",
        "<td><span style=\"font-weight: 400;\"><code>a == b</code></span></td>\n",
        "<td><span style=\"font-weight: 400;\">Evaluate if&nbsp;</span><span style=\"font-weight: 400;\"><code>a</code></span><span style=\"font-weight: 400;\">&nbsp;equals&nbsp;</span><span style=\"font-weight: 400;\"><code>b</code></span></td>\n",
        "<td><span style=\"font-weight: 400;\">False</span></td>\n",
        "</tr>\n",
        "</tbody>\n",
        "</table>"
      ]
    },
    {
      "cell_type": "markdown",
      "metadata": {
        "id": "uf6TuAAlgMUV",
        "colab_type": "text"
      },
      "source": [
        " Logical Operators\n",
        " <table>\n",
        "<tbody style=\"height: 40px;\">\n",
        "<tr>\n",
        "<td><b>Operator</b></td>\n",
        "<td><b>What does it do?</b></td>\n",
        "<td><b>Result in our example</b></td>\n",
        "</tr>\n",
        "<tr>\n",
        "<td><span style=\"font-weight: 400;\"><code>c and d</code></span></td>\n",
        "<td><span style=\"font-weight: 400;\">True if both </span><span style=\"font-weight: 400;\"><code>c</code></span><span style=\"font-weight: 400;\"> and </span><span style=\"font-weight: 400;\"><code>d</code></span><span style=\"font-weight: 400;\"> are True</span></td>\n",
        "<td><span style=\"font-weight: 400;\">False</span></td>\n",
        "</tr>\n",
        "<tr>\n",
        "<td><span style=\"font-weight: 400;\"><code>c or d</code></span></td>\n",
        "<td><span style=\"font-weight: 400;\">True if either </span><span style=\"font-weight: 400;\"><code>c</code></span><span style=\"font-weight: 400;\"> or </span><span style=\"font-weight: 400;\"><code>d</code></span><span style=\"font-weight: 400;\"> is True</span></td>\n",
        "<td><span style=\"font-weight: 400;\">True</span></td>\n",
        "</tr>\n",
        "<tr>\n",
        "<td><span style=\"font-weight: 400;\"><code>not c</code></span></td>\n",
        "<td><span style=\"font-weight: 400;\">The opposite of </span><span style=\"font-weight: 400;\"><code>c</code></span></td>\n",
        "<td><span style=\"font-weight: 400;\">False</span></td>\n",
        "</tr>\n",
        "</tbody>\n",
        "</table>"
      ]
    },
    {
      "cell_type": "markdown",
      "metadata": {
        "id": "ZIf1OHNVcZcw",
        "colab_type": "text"
      },
      "source": [
        "## Data Structures in Python"
      ]
    },
    {
      "cell_type": "markdown",
      "metadata": {
        "id": "W708qROccbhz",
        "colab_type": "text"
      },
      "source": [
        "## Functions and methods"
      ]
    },
    {
      "cell_type": "markdown",
      "metadata": {
        "id": "8nAhbVd_cdap",
        "colab_type": "text"
      },
      "source": [
        "## If statements"
      ]
    },
    {
      "cell_type": "markdown",
      "metadata": {
        "id": "IRFJKp3FcfBr",
        "colab_type": "text"
      },
      "source": [
        "## Loops"
      ]
    },
    {
      "cell_type": "markdown",
      "metadata": {
        "id": "FVoA35IacgaY",
        "colab_type": "text"
      },
      "source": [
        "## Python syntax essentials"
      ]
    }
  ]
}